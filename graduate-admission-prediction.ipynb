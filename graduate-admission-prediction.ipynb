{
 "cells": [
  {
   "cell_type": "markdown",
   "id": "26e08475",
   "metadata": {
    "papermill": {
     "duration": 0.006906,
     "end_time": "2025-06-28T12:29:25.969092",
     "exception": false,
     "start_time": "2025-06-28T12:29:25.962186",
     "status": "completed"
    },
    "tags": []
   },
   "source": [
    "# About Dataset\n",
    "\n",
    "## Context\n",
    "This dataset is created for prediction of Graduate Admissions from an Indian perspective.\n",
    "\n",
    "## Content\n",
    "The dataset contains several parameters which are considered important during the application for Masters Programs.\n",
    "\n",
    "The parameters included are :\n",
    "\n",
    "1. GRE Scores (out of 340)\n",
    "2. TOEFL Scores (out of 120)\n",
    "3. University Rating (out of 5)\n",
    "4. Statement of Purpose (SOP) and Letter of Recommendation (LOR) Strength (out of 5)\n",
    "5. Undergraduate GPA (CGPA) (out of 10)\n",
    "6. Research Experience (either 0 or 1)\n",
    "7. Chance of Admit (ranging from 0 to 1)"
   ]
  },
  {
   "cell_type": "markdown",
   "id": "bd0cc13e",
   "metadata": {
    "papermill": {
     "duration": 0.005628,
     "end_time": "2025-06-28T12:29:25.981098",
     "exception": false,
     "start_time": "2025-06-28T12:29:25.975470",
     "status": "completed"
    },
    "tags": []
   },
   "source": [
    "# Importing Essential Libraries"
   ]
  },
  {
   "cell_type": "code",
   "execution_count": 1,
   "id": "8a52fcc8",
   "metadata": {
    "_cell_guid": "b1076dfc-b9ad-4769-8c92-a6c4dae69d19",
    "_uuid": "8f2839f25d086af736a60e9eeb907d3b93b6e0e5",
    "execution": {
     "iopub.execute_input": "2025-06-28T12:29:25.994674Z",
     "iopub.status.busy": "2025-06-28T12:29:25.994319Z",
     "iopub.status.idle": "2025-06-28T12:29:28.274227Z",
     "shell.execute_reply": "2025-06-28T12:29:28.272929Z"
    },
    "papermill": {
     "duration": 2.28927,
     "end_time": "2025-06-28T12:29:28.276376",
     "exception": false,
     "start_time": "2025-06-28T12:29:25.987106",
     "status": "completed"
    },
    "tags": []
   },
   "outputs": [],
   "source": [
    "import pandas as pd\n",
    "import numpy as np\n",
    "import matplotlib.pyplot as plt\n",
    "%matplotlib inline\n",
    "pd.set_option(\"display.max_columns\", None)"
   ]
  },
  {
   "cell_type": "markdown",
   "id": "78aa0deb",
   "metadata": {
    "papermill": {
     "duration": 0.005551,
     "end_time": "2025-06-28T12:29:28.288208",
     "exception": false,
     "start_time": "2025-06-28T12:29:28.282657",
     "status": "completed"
    },
    "tags": []
   },
   "source": [
    "# Loading the Dataset"
   ]
  },
  {
   "cell_type": "code",
   "execution_count": 2,
   "id": "ded00fba",
   "metadata": {
    "execution": {
     "iopub.execute_input": "2025-06-28T12:29:28.301527Z",
     "iopub.status.busy": "2025-06-28T12:29:28.301026Z",
     "iopub.status.idle": "2025-06-28T12:29:28.360076Z",
     "shell.execute_reply": "2025-06-28T12:29:28.358736Z"
    },
    "papermill": {
     "duration": 0.0677,
     "end_time": "2025-06-28T12:29:28.361751",
     "exception": false,
     "start_time": "2025-06-28T12:29:28.294051",
     "status": "completed"
    },
    "tags": []
   },
   "outputs": [
    {
     "data": {
      "text/html": [
       "<div>\n",
       "<style scoped>\n",
       "    .dataframe tbody tr th:only-of-type {\n",
       "        vertical-align: middle;\n",
       "    }\n",
       "\n",
       "    .dataframe tbody tr th {\n",
       "        vertical-align: top;\n",
       "    }\n",
       "\n",
       "    .dataframe thead th {\n",
       "        text-align: right;\n",
       "    }\n",
       "</style>\n",
       "<table border=\"1\" class=\"dataframe\">\n",
       "  <thead>\n",
       "    <tr style=\"text-align: right;\">\n",
       "      <th></th>\n",
       "      <th>Serial No.</th>\n",
       "      <th>GRE Score</th>\n",
       "      <th>TOEFL Score</th>\n",
       "      <th>University Rating</th>\n",
       "      <th>SOP</th>\n",
       "      <th>LOR</th>\n",
       "      <th>CGPA</th>\n",
       "      <th>Research</th>\n",
       "      <th>Chance of Admit</th>\n",
       "    </tr>\n",
       "  </thead>\n",
       "  <tbody>\n",
       "    <tr>\n",
       "      <th>0</th>\n",
       "      <td>1</td>\n",
       "      <td>337</td>\n",
       "      <td>118</td>\n",
       "      <td>4</td>\n",
       "      <td>4.5</td>\n",
       "      <td>4.5</td>\n",
       "      <td>9.65</td>\n",
       "      <td>1</td>\n",
       "      <td>0.92</td>\n",
       "    </tr>\n",
       "    <tr>\n",
       "      <th>1</th>\n",
       "      <td>2</td>\n",
       "      <td>324</td>\n",
       "      <td>107</td>\n",
       "      <td>4</td>\n",
       "      <td>4.0</td>\n",
       "      <td>4.5</td>\n",
       "      <td>8.87</td>\n",
       "      <td>1</td>\n",
       "      <td>0.76</td>\n",
       "    </tr>\n",
       "    <tr>\n",
       "      <th>2</th>\n",
       "      <td>3</td>\n",
       "      <td>316</td>\n",
       "      <td>104</td>\n",
       "      <td>3</td>\n",
       "      <td>3.0</td>\n",
       "      <td>3.5</td>\n",
       "      <td>8.00</td>\n",
       "      <td>1</td>\n",
       "      <td>0.72</td>\n",
       "    </tr>\n",
       "    <tr>\n",
       "      <th>3</th>\n",
       "      <td>4</td>\n",
       "      <td>322</td>\n",
       "      <td>110</td>\n",
       "      <td>3</td>\n",
       "      <td>3.5</td>\n",
       "      <td>2.5</td>\n",
       "      <td>8.67</td>\n",
       "      <td>1</td>\n",
       "      <td>0.80</td>\n",
       "    </tr>\n",
       "    <tr>\n",
       "      <th>4</th>\n",
       "      <td>5</td>\n",
       "      <td>314</td>\n",
       "      <td>103</td>\n",
       "      <td>2</td>\n",
       "      <td>2.0</td>\n",
       "      <td>3.0</td>\n",
       "      <td>8.21</td>\n",
       "      <td>0</td>\n",
       "      <td>0.65</td>\n",
       "    </tr>\n",
       "    <tr>\n",
       "      <th>...</th>\n",
       "      <td>...</td>\n",
       "      <td>...</td>\n",
       "      <td>...</td>\n",
       "      <td>...</td>\n",
       "      <td>...</td>\n",
       "      <td>...</td>\n",
       "      <td>...</td>\n",
       "      <td>...</td>\n",
       "      <td>...</td>\n",
       "    </tr>\n",
       "    <tr>\n",
       "      <th>495</th>\n",
       "      <td>496</td>\n",
       "      <td>332</td>\n",
       "      <td>108</td>\n",
       "      <td>5</td>\n",
       "      <td>4.5</td>\n",
       "      <td>4.0</td>\n",
       "      <td>9.02</td>\n",
       "      <td>1</td>\n",
       "      <td>0.87</td>\n",
       "    </tr>\n",
       "    <tr>\n",
       "      <th>496</th>\n",
       "      <td>497</td>\n",
       "      <td>337</td>\n",
       "      <td>117</td>\n",
       "      <td>5</td>\n",
       "      <td>5.0</td>\n",
       "      <td>5.0</td>\n",
       "      <td>9.87</td>\n",
       "      <td>1</td>\n",
       "      <td>0.96</td>\n",
       "    </tr>\n",
       "    <tr>\n",
       "      <th>497</th>\n",
       "      <td>498</td>\n",
       "      <td>330</td>\n",
       "      <td>120</td>\n",
       "      <td>5</td>\n",
       "      <td>4.5</td>\n",
       "      <td>5.0</td>\n",
       "      <td>9.56</td>\n",
       "      <td>1</td>\n",
       "      <td>0.93</td>\n",
       "    </tr>\n",
       "    <tr>\n",
       "      <th>498</th>\n",
       "      <td>499</td>\n",
       "      <td>312</td>\n",
       "      <td>103</td>\n",
       "      <td>4</td>\n",
       "      <td>4.0</td>\n",
       "      <td>5.0</td>\n",
       "      <td>8.43</td>\n",
       "      <td>0</td>\n",
       "      <td>0.73</td>\n",
       "    </tr>\n",
       "    <tr>\n",
       "      <th>499</th>\n",
       "      <td>500</td>\n",
       "      <td>327</td>\n",
       "      <td>113</td>\n",
       "      <td>4</td>\n",
       "      <td>4.5</td>\n",
       "      <td>4.5</td>\n",
       "      <td>9.04</td>\n",
       "      <td>0</td>\n",
       "      <td>0.84</td>\n",
       "    </tr>\n",
       "  </tbody>\n",
       "</table>\n",
       "<p>500 rows × 9 columns</p>\n",
       "</div>"
      ],
      "text/plain": [
       "     Serial No.  GRE Score  TOEFL Score  University Rating  SOP  LOR   CGPA  \\\n",
       "0             1        337          118                  4  4.5   4.5  9.65   \n",
       "1             2        324          107                  4  4.0   4.5  8.87   \n",
       "2             3        316          104                  3  3.0   3.5  8.00   \n",
       "3             4        322          110                  3  3.5   2.5  8.67   \n",
       "4             5        314          103                  2  2.0   3.0  8.21   \n",
       "..          ...        ...          ...                ...  ...   ...   ...   \n",
       "495         496        332          108                  5  4.5   4.0  9.02   \n",
       "496         497        337          117                  5  5.0   5.0  9.87   \n",
       "497         498        330          120                  5  4.5   5.0  9.56   \n",
       "498         499        312          103                  4  4.0   5.0  8.43   \n",
       "499         500        327          113                  4  4.5   4.5  9.04   \n",
       "\n",
       "     Research  Chance of Admit   \n",
       "0           1              0.92  \n",
       "1           1              0.76  \n",
       "2           1              0.72  \n",
       "3           1              0.80  \n",
       "4           0              0.65  \n",
       "..        ...               ...  \n",
       "495         1              0.87  \n",
       "496         1              0.96  \n",
       "497         1              0.93  \n",
       "498         0              0.73  \n",
       "499         0              0.84  \n",
       "\n",
       "[500 rows x 9 columns]"
      ]
     },
     "execution_count": 2,
     "metadata": {},
     "output_type": "execute_result"
    }
   ],
   "source": [
    "df = pd.read_csv('/kaggle/input/graduate-admissions/Admission_Predict_Ver1.1.csv')\n",
    "df"
   ]
  },
  {
   "cell_type": "markdown",
   "id": "e4877332",
   "metadata": {
    "papermill": {
     "duration": 0.005533,
     "end_time": "2025-06-28T12:29:28.373604",
     "exception": false,
     "start_time": "2025-06-28T12:29:28.368071",
     "status": "completed"
    },
    "tags": []
   },
   "source": [
    "# Exploring the Dataset"
   ]
  },
  {
   "cell_type": "code",
   "execution_count": 3,
   "id": "241420e4",
   "metadata": {
    "execution": {
     "iopub.execute_input": "2025-06-28T12:29:28.386762Z",
     "iopub.status.busy": "2025-06-28T12:29:28.386472Z",
     "iopub.status.idle": "2025-06-28T12:29:28.393280Z",
     "shell.execute_reply": "2025-06-28T12:29:28.392150Z"
    },
    "papermill": {
     "duration": 0.015846,
     "end_time": "2025-06-28T12:29:28.395245",
     "exception": false,
     "start_time": "2025-06-28T12:29:28.379399",
     "status": "completed"
    },
    "tags": []
   },
   "outputs": [
    {
     "data": {
      "text/plain": [
       "(500, 9)"
      ]
     },
     "execution_count": 3,
     "metadata": {},
     "output_type": "execute_result"
    }
   ],
   "source": [
    "# check rows and columns of the dataset\n",
    "df.shape"
   ]
  },
  {
   "cell_type": "code",
   "execution_count": 4,
   "id": "1a5c5bdf",
   "metadata": {
    "execution": {
     "iopub.execute_input": "2025-06-28T12:29:28.410013Z",
     "iopub.status.busy": "2025-06-28T12:29:28.409625Z",
     "iopub.status.idle": "2025-06-28T12:29:28.418090Z",
     "shell.execute_reply": "2025-06-28T12:29:28.417102Z"
    },
    "papermill": {
     "duration": 0.017366,
     "end_time": "2025-06-28T12:29:28.419481",
     "exception": false,
     "start_time": "2025-06-28T12:29:28.402115",
     "status": "completed"
    },
    "tags": []
   },
   "outputs": [
    {
     "data": {
      "text/plain": [
       "Index(['Serial No.', 'GRE Score', 'TOEFL Score', 'University Rating', 'SOP',\n",
       "       'LOR ', 'CGPA', 'Research', 'Chance of Admit '],\n",
       "      dtype='object')"
      ]
     },
     "execution_count": 4,
     "metadata": {},
     "output_type": "execute_result"
    }
   ],
   "source": [
    "# Check for all column headers\n",
    "df.columns"
   ]
  },
  {
   "cell_type": "code",
   "execution_count": 5,
   "id": "2548b262",
   "metadata": {
    "execution": {
     "iopub.execute_input": "2025-06-28T12:29:28.433071Z",
     "iopub.status.busy": "2025-06-28T12:29:28.432679Z",
     "iopub.status.idle": "2025-06-28T12:29:28.458589Z",
     "shell.execute_reply": "2025-06-28T12:29:28.457324Z"
    },
    "papermill": {
     "duration": 0.034968,
     "end_time": "2025-06-28T12:29:28.460530",
     "exception": false,
     "start_time": "2025-06-28T12:29:28.425562",
     "status": "completed"
    },
    "tags": []
   },
   "outputs": [
    {
     "name": "stdout",
     "output_type": "stream",
     "text": [
      "<class 'pandas.core.frame.DataFrame'>\n",
      "RangeIndex: 500 entries, 0 to 499\n",
      "Data columns (total 9 columns):\n",
      " #   Column             Non-Null Count  Dtype  \n",
      "---  ------             --------------  -----  \n",
      " 0   Serial No.         500 non-null    int64  \n",
      " 1   GRE Score          500 non-null    int64  \n",
      " 2   TOEFL Score        500 non-null    int64  \n",
      " 3   University Rating  500 non-null    int64  \n",
      " 4   SOP                500 non-null    float64\n",
      " 5   LOR                500 non-null    float64\n",
      " 6   CGPA               500 non-null    float64\n",
      " 7   Research           500 non-null    int64  \n",
      " 8   Chance of Admit    500 non-null    float64\n",
      "dtypes: float64(4), int64(5)\n",
      "memory usage: 35.3 KB\n"
     ]
    }
   ],
   "source": [
    "# Check the basic info of all columns\n",
    "df.info()"
   ]
  },
  {
   "cell_type": "code",
   "execution_count": 6,
   "id": "fc3c5178",
   "metadata": {
    "execution": {
     "iopub.execute_input": "2025-06-28T12:29:28.477067Z",
     "iopub.status.busy": "2025-06-28T12:29:28.476675Z",
     "iopub.status.idle": "2025-06-28T12:29:28.512950Z",
     "shell.execute_reply": "2025-06-28T12:29:28.512006Z"
    },
    "papermill": {
     "duration": 0.046798,
     "end_time": "2025-06-28T12:29:28.514718",
     "exception": false,
     "start_time": "2025-06-28T12:29:28.467920",
     "status": "completed"
    },
    "tags": []
   },
   "outputs": [
    {
     "data": {
      "text/html": [
       "<div>\n",
       "<style scoped>\n",
       "    .dataframe tbody tr th:only-of-type {\n",
       "        vertical-align: middle;\n",
       "    }\n",
       "\n",
       "    .dataframe tbody tr th {\n",
       "        vertical-align: top;\n",
       "    }\n",
       "\n",
       "    .dataframe thead th {\n",
       "        text-align: right;\n",
       "    }\n",
       "</style>\n",
       "<table border=\"1\" class=\"dataframe\">\n",
       "  <thead>\n",
       "    <tr style=\"text-align: right;\">\n",
       "      <th></th>\n",
       "      <th>Serial No.</th>\n",
       "      <th>GRE Score</th>\n",
       "      <th>TOEFL Score</th>\n",
       "      <th>University Rating</th>\n",
       "      <th>SOP</th>\n",
       "      <th>LOR</th>\n",
       "      <th>CGPA</th>\n",
       "      <th>Research</th>\n",
       "      <th>Chance of Admit</th>\n",
       "    </tr>\n",
       "  </thead>\n",
       "  <tbody>\n",
       "    <tr>\n",
       "      <th>count</th>\n",
       "      <td>500.000000</td>\n",
       "      <td>500.000000</td>\n",
       "      <td>500.000000</td>\n",
       "      <td>500.000000</td>\n",
       "      <td>500.000000</td>\n",
       "      <td>500.00000</td>\n",
       "      <td>500.000000</td>\n",
       "      <td>500.000000</td>\n",
       "      <td>500.00000</td>\n",
       "    </tr>\n",
       "    <tr>\n",
       "      <th>mean</th>\n",
       "      <td>250.500000</td>\n",
       "      <td>316.472000</td>\n",
       "      <td>107.192000</td>\n",
       "      <td>3.114000</td>\n",
       "      <td>3.374000</td>\n",
       "      <td>3.48400</td>\n",
       "      <td>8.576440</td>\n",
       "      <td>0.560000</td>\n",
       "      <td>0.72174</td>\n",
       "    </tr>\n",
       "    <tr>\n",
       "      <th>std</th>\n",
       "      <td>144.481833</td>\n",
       "      <td>11.295148</td>\n",
       "      <td>6.081868</td>\n",
       "      <td>1.143512</td>\n",
       "      <td>0.991004</td>\n",
       "      <td>0.92545</td>\n",
       "      <td>0.604813</td>\n",
       "      <td>0.496884</td>\n",
       "      <td>0.14114</td>\n",
       "    </tr>\n",
       "    <tr>\n",
       "      <th>min</th>\n",
       "      <td>1.000000</td>\n",
       "      <td>290.000000</td>\n",
       "      <td>92.000000</td>\n",
       "      <td>1.000000</td>\n",
       "      <td>1.000000</td>\n",
       "      <td>1.00000</td>\n",
       "      <td>6.800000</td>\n",
       "      <td>0.000000</td>\n",
       "      <td>0.34000</td>\n",
       "    </tr>\n",
       "    <tr>\n",
       "      <th>25%</th>\n",
       "      <td>125.750000</td>\n",
       "      <td>308.000000</td>\n",
       "      <td>103.000000</td>\n",
       "      <td>2.000000</td>\n",
       "      <td>2.500000</td>\n",
       "      <td>3.00000</td>\n",
       "      <td>8.127500</td>\n",
       "      <td>0.000000</td>\n",
       "      <td>0.63000</td>\n",
       "    </tr>\n",
       "    <tr>\n",
       "      <th>50%</th>\n",
       "      <td>250.500000</td>\n",
       "      <td>317.000000</td>\n",
       "      <td>107.000000</td>\n",
       "      <td>3.000000</td>\n",
       "      <td>3.500000</td>\n",
       "      <td>3.50000</td>\n",
       "      <td>8.560000</td>\n",
       "      <td>1.000000</td>\n",
       "      <td>0.72000</td>\n",
       "    </tr>\n",
       "    <tr>\n",
       "      <th>75%</th>\n",
       "      <td>375.250000</td>\n",
       "      <td>325.000000</td>\n",
       "      <td>112.000000</td>\n",
       "      <td>4.000000</td>\n",
       "      <td>4.000000</td>\n",
       "      <td>4.00000</td>\n",
       "      <td>9.040000</td>\n",
       "      <td>1.000000</td>\n",
       "      <td>0.82000</td>\n",
       "    </tr>\n",
       "    <tr>\n",
       "      <th>max</th>\n",
       "      <td>500.000000</td>\n",
       "      <td>340.000000</td>\n",
       "      <td>120.000000</td>\n",
       "      <td>5.000000</td>\n",
       "      <td>5.000000</td>\n",
       "      <td>5.00000</td>\n",
       "      <td>9.920000</td>\n",
       "      <td>1.000000</td>\n",
       "      <td>0.97000</td>\n",
       "    </tr>\n",
       "  </tbody>\n",
       "</table>\n",
       "</div>"
      ],
      "text/plain": [
       "       Serial No.   GRE Score  TOEFL Score  University Rating         SOP  \\\n",
       "count  500.000000  500.000000   500.000000         500.000000  500.000000   \n",
       "mean   250.500000  316.472000   107.192000           3.114000    3.374000   \n",
       "std    144.481833   11.295148     6.081868           1.143512    0.991004   \n",
       "min      1.000000  290.000000    92.000000           1.000000    1.000000   \n",
       "25%    125.750000  308.000000   103.000000           2.000000    2.500000   \n",
       "50%    250.500000  317.000000   107.000000           3.000000    3.500000   \n",
       "75%    375.250000  325.000000   112.000000           4.000000    4.000000   \n",
       "max    500.000000  340.000000   120.000000           5.000000    5.000000   \n",
       "\n",
       "            LOR         CGPA    Research  Chance of Admit   \n",
       "count  500.00000  500.000000  500.000000         500.00000  \n",
       "mean     3.48400    8.576440    0.560000           0.72174  \n",
       "std      0.92545    0.604813    0.496884           0.14114  \n",
       "min      1.00000    6.800000    0.000000           0.34000  \n",
       "25%      3.00000    8.127500    0.000000           0.63000  \n",
       "50%      3.50000    8.560000    1.000000           0.72000  \n",
       "75%      4.00000    9.040000    1.000000           0.82000  \n",
       "max      5.00000    9.920000    1.000000           0.97000  "
      ]
     },
     "execution_count": 6,
     "metadata": {},
     "output_type": "execute_result"
    }
   ],
   "source": [
    "# Check the basic Statistics on numeric columns\n",
    "df.describe()"
   ]
  },
  {
   "cell_type": "code",
   "execution_count": 7,
   "id": "000cab08",
   "metadata": {
    "execution": {
     "iopub.execute_input": "2025-06-28T12:29:28.529285Z",
     "iopub.status.busy": "2025-06-28T12:29:28.528981Z",
     "iopub.status.idle": "2025-06-28T12:29:28.538760Z",
     "shell.execute_reply": "2025-06-28T12:29:28.537621Z"
    },
    "papermill": {
     "duration": 0.019428,
     "end_time": "2025-06-28T12:29:28.540672",
     "exception": false,
     "start_time": "2025-06-28T12:29:28.521244",
     "status": "completed"
    },
    "tags": []
   },
   "outputs": [
    {
     "data": {
      "text/plain": [
       "Serial No.           False\n",
       "GRE Score            False\n",
       "TOEFL Score          False\n",
       "University Rating    False\n",
       "SOP                  False\n",
       "LOR                  False\n",
       "CGPA                 False\n",
       "Research             False\n",
       "Chance of Admit      False\n",
       "dtype: bool"
      ]
     },
     "execution_count": 7,
     "metadata": {},
     "output_type": "execute_result"
    }
   ],
   "source": [
    "# Check if any null values\n",
    "df.isnull().any()"
   ]
  },
  {
   "cell_type": "code",
   "execution_count": 8,
   "id": "3e0562f2",
   "metadata": {
    "execution": {
     "iopub.execute_input": "2025-06-28T12:29:28.556145Z",
     "iopub.status.busy": "2025-06-28T12:29:28.555755Z",
     "iopub.status.idle": "2025-06-28T12:29:28.573375Z",
     "shell.execute_reply": "2025-06-28T12:29:28.572166Z"
    },
    "papermill": {
     "duration": 0.027659,
     "end_time": "2025-06-28T12:29:28.575648",
     "exception": false,
     "start_time": "2025-06-28T12:29:28.547989",
     "status": "completed"
    },
    "tags": []
   },
   "outputs": [
    {
     "data": {
      "text/html": [
       "<div>\n",
       "<style scoped>\n",
       "    .dataframe tbody tr th:only-of-type {\n",
       "        vertical-align: middle;\n",
       "    }\n",
       "\n",
       "    .dataframe tbody tr th {\n",
       "        vertical-align: top;\n",
       "    }\n",
       "\n",
       "    .dataframe thead th {\n",
       "        text-align: right;\n",
       "    }\n",
       "</style>\n",
       "<table border=\"1\" class=\"dataframe\">\n",
       "  <thead>\n",
       "    <tr style=\"text-align: right;\">\n",
       "      <th></th>\n",
       "      <th>Serial No.</th>\n",
       "      <th>GRE Score</th>\n",
       "      <th>TOEFL Score</th>\n",
       "      <th>University Rating</th>\n",
       "      <th>SOP</th>\n",
       "      <th>LOR</th>\n",
       "      <th>CGPA</th>\n",
       "      <th>Research</th>\n",
       "      <th>Chance of Admit</th>\n",
       "    </tr>\n",
       "  </thead>\n",
       "  <tbody>\n",
       "    <tr>\n",
       "      <th>0</th>\n",
       "      <td>1</td>\n",
       "      <td>337</td>\n",
       "      <td>118</td>\n",
       "      <td>4</td>\n",
       "      <td>4.5</td>\n",
       "      <td>4.5</td>\n",
       "      <td>9.65</td>\n",
       "      <td>1</td>\n",
       "      <td>0.92</td>\n",
       "    </tr>\n",
       "    <tr>\n",
       "      <th>1</th>\n",
       "      <td>2</td>\n",
       "      <td>324</td>\n",
       "      <td>107</td>\n",
       "      <td>4</td>\n",
       "      <td>4.0</td>\n",
       "      <td>4.5</td>\n",
       "      <td>8.87</td>\n",
       "      <td>1</td>\n",
       "      <td>0.76</td>\n",
       "    </tr>\n",
       "    <tr>\n",
       "      <th>2</th>\n",
       "      <td>3</td>\n",
       "      <td>316</td>\n",
       "      <td>104</td>\n",
       "      <td>3</td>\n",
       "      <td>3.0</td>\n",
       "      <td>3.5</td>\n",
       "      <td>8.00</td>\n",
       "      <td>1</td>\n",
       "      <td>0.72</td>\n",
       "    </tr>\n",
       "    <tr>\n",
       "      <th>3</th>\n",
       "      <td>4</td>\n",
       "      <td>322</td>\n",
       "      <td>110</td>\n",
       "      <td>3</td>\n",
       "      <td>3.5</td>\n",
       "      <td>2.5</td>\n",
       "      <td>8.67</td>\n",
       "      <td>1</td>\n",
       "      <td>0.80</td>\n",
       "    </tr>\n",
       "    <tr>\n",
       "      <th>4</th>\n",
       "      <td>5</td>\n",
       "      <td>314</td>\n",
       "      <td>103</td>\n",
       "      <td>2</td>\n",
       "      <td>2.0</td>\n",
       "      <td>3.0</td>\n",
       "      <td>8.21</td>\n",
       "      <td>0</td>\n",
       "      <td>0.65</td>\n",
       "    </tr>\n",
       "    <tr>\n",
       "      <th>...</th>\n",
       "      <td>...</td>\n",
       "      <td>...</td>\n",
       "      <td>...</td>\n",
       "      <td>...</td>\n",
       "      <td>...</td>\n",
       "      <td>...</td>\n",
       "      <td>...</td>\n",
       "      <td>...</td>\n",
       "      <td>...</td>\n",
       "    </tr>\n",
       "    <tr>\n",
       "      <th>495</th>\n",
       "      <td>496</td>\n",
       "      <td>332</td>\n",
       "      <td>108</td>\n",
       "      <td>5</td>\n",
       "      <td>4.5</td>\n",
       "      <td>4.0</td>\n",
       "      <td>9.02</td>\n",
       "      <td>1</td>\n",
       "      <td>0.87</td>\n",
       "    </tr>\n",
       "    <tr>\n",
       "      <th>496</th>\n",
       "      <td>497</td>\n",
       "      <td>337</td>\n",
       "      <td>117</td>\n",
       "      <td>5</td>\n",
       "      <td>5.0</td>\n",
       "      <td>5.0</td>\n",
       "      <td>9.87</td>\n",
       "      <td>1</td>\n",
       "      <td>0.96</td>\n",
       "    </tr>\n",
       "    <tr>\n",
       "      <th>497</th>\n",
       "      <td>498</td>\n",
       "      <td>330</td>\n",
       "      <td>120</td>\n",
       "      <td>5</td>\n",
       "      <td>4.5</td>\n",
       "      <td>5.0</td>\n",
       "      <td>9.56</td>\n",
       "      <td>1</td>\n",
       "      <td>0.93</td>\n",
       "    </tr>\n",
       "    <tr>\n",
       "      <th>498</th>\n",
       "      <td>499</td>\n",
       "      <td>312</td>\n",
       "      <td>103</td>\n",
       "      <td>4</td>\n",
       "      <td>4.0</td>\n",
       "      <td>5.0</td>\n",
       "      <td>8.43</td>\n",
       "      <td>0</td>\n",
       "      <td>0.73</td>\n",
       "    </tr>\n",
       "    <tr>\n",
       "      <th>499</th>\n",
       "      <td>500</td>\n",
       "      <td>327</td>\n",
       "      <td>113</td>\n",
       "      <td>4</td>\n",
       "      <td>4.5</td>\n",
       "      <td>4.5</td>\n",
       "      <td>9.04</td>\n",
       "      <td>0</td>\n",
       "      <td>0.84</td>\n",
       "    </tr>\n",
       "  </tbody>\n",
       "</table>\n",
       "<p>500 rows × 9 columns</p>\n",
       "</div>"
      ],
      "text/plain": [
       "     Serial No.  GRE Score  TOEFL Score  University Rating  SOP  LOR  CGPA  \\\n",
       "0             1        337          118                  4  4.5  4.5  9.65   \n",
       "1             2        324          107                  4  4.0  4.5  8.87   \n",
       "2             3        316          104                  3  3.0  3.5  8.00   \n",
       "3             4        322          110                  3  3.5  2.5  8.67   \n",
       "4             5        314          103                  2  2.0  3.0  8.21   \n",
       "..          ...        ...          ...                ...  ...  ...   ...   \n",
       "495         496        332          108                  5  4.5  4.0  9.02   \n",
       "496         497        337          117                  5  5.0  5.0  9.87   \n",
       "497         498        330          120                  5  4.5  5.0  9.56   \n",
       "498         499        312          103                  4  4.0  5.0  8.43   \n",
       "499         500        327          113                  4  4.5  4.5  9.04   \n",
       "\n",
       "     Research  Chance of Admit  \n",
       "0           1             0.92  \n",
       "1           1             0.76  \n",
       "2           1             0.72  \n",
       "3           1             0.80  \n",
       "4           0             0.65  \n",
       "..        ...              ...  \n",
       "495         1             0.87  \n",
       "496         1             0.96  \n",
       "497         1             0.93  \n",
       "498         0             0.73  \n",
       "499         0             0.84  \n",
       "\n",
       "[500 rows x 9 columns]"
      ]
     },
     "execution_count": 8,
     "metadata": {},
     "output_type": "execute_result"
    }
   ],
   "source": [
    "# Renaming the columns with appropriate names\n",
    "\n",
    "df = df.rename(columns= {'LOR ': 'LOR', 'Chance of Admit ': 'Chance of Admit'})\n",
    "\n",
    "df"
   ]
  },
  {
   "cell_type": "markdown",
   "id": "fabd8694",
   "metadata": {
    "papermill": {
     "duration": 0.0065,
     "end_time": "2025-06-28T12:29:28.589299",
     "exception": false,
     "start_time": "2025-06-28T12:29:28.582799",
     "status": "completed"
    },
    "tags": []
   },
   "source": [
    "The Columns LOR and Chance of Admit had a blank space which we removed in above steps."
   ]
  },
  {
   "cell_type": "markdown",
   "id": "210363ba",
   "metadata": {
    "papermill": {
     "duration": 0.006197,
     "end_time": "2025-06-28T12:29:28.602104",
     "exception": false,
     "start_time": "2025-06-28T12:29:28.595907",
     "status": "completed"
    },
    "tags": []
   },
   "source": [
    "# Data Visualization"
   ]
  },
  {
   "cell_type": "code",
   "execution_count": 9,
   "id": "e07c66d6",
   "metadata": {
    "execution": {
     "iopub.execute_input": "2025-06-28T12:29:28.616613Z",
     "iopub.status.busy": "2025-06-28T12:29:28.616257Z",
     "iopub.status.idle": "2025-06-28T12:29:28.917223Z",
     "shell.execute_reply": "2025-06-28T12:29:28.916078Z"
    },
    "papermill": {
     "duration": 0.310597,
     "end_time": "2025-06-28T12:29:28.919087",
     "exception": false,
     "start_time": "2025-06-28T12:29:28.608490",
     "status": "completed"
    },
    "tags": []
   },
   "outputs": [
    {
     "data": {
      "text/plain": [
       "Text(0, 0.5, 'Count')"
      ]
     },
     "execution_count": 9,
     "metadata": {},
     "output_type": "execute_result"
    },
    {
     "data": {
      "image/png": "[encoded data removed]",
      "text/plain": [
       "<Figure size 640x480 with 1 Axes>"
      ]
     },
     "metadata": {},
     "output_type": "display_data"
    }
   ],
   "source": [
    "# Visualizing the GRE score\n",
    "\n",
    "fig = plt.hist(df['GRE Score'], rwidth= 0.7)\n",
    "plt.title(\"Distribution of GRE Scores\")\n",
    "plt.xlabel('GRE Scores')\n",
    "plt.ylabel('Count')"
   ]
  },
  {
   "cell_type": "code",
   "execution_count": 10,
   "id": "02998d11",
   "metadata": {
    "execution": {
     "iopub.execute_input": "2025-06-28T12:29:28.936646Z",
     "iopub.status.busy": "2025-06-28T12:29:28.935509Z",
     "iopub.status.idle": "2025-06-28T12:29:29.125057Z",
     "shell.execute_reply": "2025-06-28T12:29:29.124035Z"
    },
    "papermill": {
     "duration": 0.19964,
     "end_time": "2025-06-28T12:29:29.126719",
     "exception": false,
     "start_time": "2025-06-28T12:29:28.927079",
     "status": "completed"
    },
    "tags": []
   },
   "outputs": [
    {
     "data": {
      "image/png": "[encoded data removed]",
      "text/plain": [
       "<Figure size 640x480 with 1 Axes>"
      ]
     },
     "metadata": {},
     "output_type": "display_data"
    }
   ],
   "source": [
    "\n",
    "# Visualizing the feature TOEFL\n",
    "fig = plt.hist(df['TOEFL Score'], rwidth=0.7)\n",
    "plt.title('Distribution of TOEFL Scores')\n",
    "plt.xlabel('TOEFL Scores')\n",
    "plt.ylabel('Count')\n",
    "plt.show()"
   ]
  },
  {
   "cell_type": "code",
   "execution_count": 11,
   "id": "7a107204",
   "metadata": {
    "execution": {
     "iopub.execute_input": "2025-06-28T12:29:29.143744Z",
     "iopub.status.busy": "2025-06-28T12:29:29.142586Z",
     "iopub.status.idle": "2025-06-28T12:29:29.341053Z",
     "shell.execute_reply": "2025-06-28T12:29:29.339987Z"
    },
    "papermill": {
     "duration": 0.20858,
     "end_time": "2025-06-28T12:29:29.342845",
     "exception": false,
     "start_time": "2025-06-28T12:29:29.134265",
     "status": "completed"
    },
    "tags": []
   },
   "outputs": [
    {
     "data": {
      "image/png": "[encoded data removed]",
      "text/plain": [
       "<Figure size 640x480 with 1 Axes>"
      ]
     },
     "metadata": {},
     "output_type": "display_data"
    }
   ],
   "source": [
    "# Visualizing the feature University Rating\n",
    "fig = plt.hist(df['University Rating'], rwidth=0.7)\n",
    "plt.title('Distribution of University Rating')\n",
    "plt.xlabel('University Rating')\n",
    "plt.ylabel('Count')\n",
    "plt.show()"
   ]
  },
  {
   "cell_type": "code",
   "execution_count": 12,
   "id": "c6764cf0",
   "metadata": {
    "execution": {
     "iopub.execute_input": "2025-06-28T12:29:29.360471Z",
     "iopub.status.busy": "2025-06-28T12:29:29.359684Z",
     "iopub.status.idle": "2025-06-28T12:29:29.548852Z",
     "shell.execute_reply": "2025-06-28T12:29:29.547874Z"
    },
    "papermill": {
     "duration": 0.199987,
     "end_time": "2025-06-28T12:29:29.550598",
     "exception": false,
     "start_time": "2025-06-28T12:29:29.350611",
     "status": "completed"
    },
    "tags": []
   },
   "outputs": [
    {
     "data": {
      "image/png": "[encoded data removed]",
      "text/plain": [
       "<Figure size 640x480 with 1 Axes>"
      ]
     },
     "metadata": {},
     "output_type": "display_data"
    }
   ],
   "source": [
    "# Visualizing the feature SOP (Statement of Purpose) (out of 5)\n",
    "fig = plt.hist(df['SOP'], rwidth=0.7)\n",
    "plt.title('Distribution of SOP')\n",
    "plt.xlabel('SOP Rating')\n",
    "plt.ylabel('Count')\n",
    "plt.show()"
   ]
  },
  {
   "cell_type": "code",
   "execution_count": 13,
   "id": "36f6691b",
   "metadata": {
    "execution": {
     "iopub.execute_input": "2025-06-28T12:29:29.568874Z",
     "iopub.status.busy": "2025-06-28T12:29:29.568248Z",
     "iopub.status.idle": "2025-06-28T12:29:29.755873Z",
     "shell.execute_reply": "2025-06-28T12:29:29.754727Z"
    },
    "papermill": {
     "duration": 0.1985,
     "end_time": "2025-06-28T12:29:29.757602",
     "exception": false,
     "start_time": "2025-06-28T12:29:29.559102",
     "status": "completed"
    },
    "tags": []
   },
   "outputs": [
    {
     "data": {
      "image/png": "[encoded data removed]",
      "text/plain": [
       "<Figure size 640x480 with 1 Axes>"
      ]
     },
     "metadata": {},
     "output_type": "display_data"
    }
   ],
   "source": [
    "# Visualizing the feature LOR (Letter of Recommendation Strength) (out of 5)\n",
    "fig = plt.hist(df['LOR'], rwidth=0.7)\n",
    "plt.title('Distribution of LOR Rating')\n",
    "plt.xlabel('LOR Rating')\n",
    "plt.ylabel('Count')\n",
    "plt.show()"
   ]
  },
  {
   "cell_type": "code",
   "execution_count": 14,
   "id": "c54abebf",
   "metadata": {
    "execution": {
     "iopub.execute_input": "2025-06-28T12:29:29.777471Z",
     "iopub.status.busy": "2025-06-28T12:29:29.777164Z",
     "iopub.status.idle": "2025-06-28T12:29:29.942499Z",
     "shell.execute_reply": "2025-06-28T12:29:29.941598Z"
    },
    "papermill": {
     "duration": 0.178092,
     "end_time": "2025-06-28T12:29:29.944412",
     "exception": false,
     "start_time": "2025-06-28T12:29:29.766320",
     "status": "completed"
    },
    "tags": []
   },
   "outputs": [
    {
     "data": {
      "image/png": "[encoded data removed]",
      "text/plain": [
       "<Figure size 640x480 with 1 Axes>"
      ]
     },
     "metadata": {},
     "output_type": "display_data"
    }
   ],
   "source": [
    "# Visualizing the feature CGPA\n",
    "fig = plt.hist(df['CGPA'], rwidth=0.7)\n",
    "plt.title('Distribution of CGPA')\n",
    "plt.xlabel('CGPA')\n",
    "plt.ylabel('Count')\n",
    "plt.show()"
   ]
  },
  {
   "cell_type": "code",
   "execution_count": 15,
   "id": "809dec54",
   "metadata": {
    "execution": {
     "iopub.execute_input": "2025-06-28T12:29:29.965638Z",
     "iopub.status.busy": "2025-06-28T12:29:29.965302Z",
     "iopub.status.idle": "2025-06-28T12:29:30.136772Z",
     "shell.execute_reply": "2025-06-28T12:29:30.135880Z"
    },
    "papermill": {
     "duration": 0.184295,
     "end_time": "2025-06-28T12:29:30.138623",
     "exception": false,
     "start_time": "2025-06-28T12:29:29.954328",
     "status": "completed"
    },
    "tags": []
   },
   "outputs": [
    {
     "data": {
      "image/png": "[encoded data removed]",
      "text/plain": [
       "<Figure size 640x480 with 1 Axes>"
      ]
     },
     "metadata": {},
     "output_type": "display_data"
    }
   ],
   "source": [
    "# Visualizing the feature Research Expereince\n",
    "fig = plt.hist(df['Research'], rwidth=0.7)\n",
    "plt.title('Distribution of Research Papers')\n",
    "plt.xlabel('Research Experience')\n",
    "plt.ylabel('Count')\n",
    "plt.show()"
   ]
  },
  {
   "cell_type": "markdown",
   "id": "f0242167",
   "metadata": {
    "papermill": {
     "duration": 0.00974,
     "end_time": "2025-06-28T12:29:30.158480",
     "exception": false,
     "start_time": "2025-06-28T12:29:30.148740",
     "status": "completed"
    },
    "tags": []
   },
   "source": [
    "# Data Cleaning"
   ]
  },
  {
   "cell_type": "code",
   "execution_count": 16,
   "id": "50cda008",
   "metadata": {
    "execution": {
     "iopub.execute_input": "2025-06-28T12:29:30.179448Z",
     "iopub.status.busy": "2025-06-28T12:29:30.179113Z",
     "iopub.status.idle": "2025-06-28T12:29:30.196403Z",
     "shell.execute_reply": "2025-06-28T12:29:30.195201Z"
    },
    "papermill": {
     "duration": 0.029961,
     "end_time": "2025-06-28T12:29:30.198085",
     "exception": false,
     "start_time": "2025-06-28T12:29:30.168124",
     "status": "completed"
    },
    "tags": []
   },
   "outputs": [
    {
     "data": {
      "text/html": [
       "<div>\n",
       "<style scoped>\n",
       "    .dataframe tbody tr th:only-of-type {\n",
       "        vertical-align: middle;\n",
       "    }\n",
       "\n",
       "    .dataframe tbody tr th {\n",
       "        vertical-align: top;\n",
       "    }\n",
       "\n",
       "    .dataframe thead th {\n",
       "        text-align: right;\n",
       "    }\n",
       "</style>\n",
       "<table border=\"1\" class=\"dataframe\">\n",
       "  <thead>\n",
       "    <tr style=\"text-align: right;\">\n",
       "      <th></th>\n",
       "      <th>GRE Score</th>\n",
       "      <th>TOEFL Score</th>\n",
       "      <th>University Rating</th>\n",
       "      <th>SOP</th>\n",
       "      <th>LOR</th>\n",
       "      <th>CGPA</th>\n",
       "      <th>Research</th>\n",
       "      <th>Chance of Admit</th>\n",
       "    </tr>\n",
       "  </thead>\n",
       "  <tbody>\n",
       "    <tr>\n",
       "      <th>0</th>\n",
       "      <td>337</td>\n",
       "      <td>118</td>\n",
       "      <td>4</td>\n",
       "      <td>4.5</td>\n",
       "      <td>4.5</td>\n",
       "      <td>9.65</td>\n",
       "      <td>1</td>\n",
       "      <td>0.92</td>\n",
       "    </tr>\n",
       "    <tr>\n",
       "      <th>1</th>\n",
       "      <td>324</td>\n",
       "      <td>107</td>\n",
       "      <td>4</td>\n",
       "      <td>4.0</td>\n",
       "      <td>4.5</td>\n",
       "      <td>8.87</td>\n",
       "      <td>1</td>\n",
       "      <td>0.76</td>\n",
       "    </tr>\n",
       "    <tr>\n",
       "      <th>2</th>\n",
       "      <td>316</td>\n",
       "      <td>104</td>\n",
       "      <td>3</td>\n",
       "      <td>3.0</td>\n",
       "      <td>3.5</td>\n",
       "      <td>8.00</td>\n",
       "      <td>1</td>\n",
       "      <td>0.72</td>\n",
       "    </tr>\n",
       "    <tr>\n",
       "      <th>3</th>\n",
       "      <td>322</td>\n",
       "      <td>110</td>\n",
       "      <td>3</td>\n",
       "      <td>3.5</td>\n",
       "      <td>2.5</td>\n",
       "      <td>8.67</td>\n",
       "      <td>1</td>\n",
       "      <td>0.80</td>\n",
       "    </tr>\n",
       "    <tr>\n",
       "      <th>4</th>\n",
       "      <td>314</td>\n",
       "      <td>103</td>\n",
       "      <td>2</td>\n",
       "      <td>2.0</td>\n",
       "      <td>3.0</td>\n",
       "      <td>8.21</td>\n",
       "      <td>0</td>\n",
       "      <td>0.65</td>\n",
       "    </tr>\n",
       "    <tr>\n",
       "      <th>...</th>\n",
       "      <td>...</td>\n",
       "      <td>...</td>\n",
       "      <td>...</td>\n",
       "      <td>...</td>\n",
       "      <td>...</td>\n",
       "      <td>...</td>\n",
       "      <td>...</td>\n",
       "      <td>...</td>\n",
       "    </tr>\n",
       "    <tr>\n",
       "      <th>495</th>\n",
       "      <td>332</td>\n",
       "      <td>108</td>\n",
       "      <td>5</td>\n",
       "      <td>4.5</td>\n",
       "      <td>4.0</td>\n",
       "      <td>9.02</td>\n",
       "      <td>1</td>\n",
       "      <td>0.87</td>\n",
       "    </tr>\n",
       "    <tr>\n",
       "      <th>496</th>\n",
       "      <td>337</td>\n",
       "      <td>117</td>\n",
       "      <td>5</td>\n",
       "      <td>5.0</td>\n",
       "      <td>5.0</td>\n",
       "      <td>9.87</td>\n",
       "      <td>1</td>\n",
       "      <td>0.96</td>\n",
       "    </tr>\n",
       "    <tr>\n",
       "      <th>497</th>\n",
       "      <td>330</td>\n",
       "      <td>120</td>\n",
       "      <td>5</td>\n",
       "      <td>4.5</td>\n",
       "      <td>5.0</td>\n",
       "      <td>9.56</td>\n",
       "      <td>1</td>\n",
       "      <td>0.93</td>\n",
       "    </tr>\n",
       "    <tr>\n",
       "      <th>498</th>\n",
       "      <td>312</td>\n",
       "      <td>103</td>\n",
       "      <td>4</td>\n",
       "      <td>4.0</td>\n",
       "      <td>5.0</td>\n",
       "      <td>8.43</td>\n",
       "      <td>0</td>\n",
       "      <td>0.73</td>\n",
       "    </tr>\n",
       "    <tr>\n",
       "      <th>499</th>\n",
       "      <td>327</td>\n",
       "      <td>113</td>\n",
       "      <td>4</td>\n",
       "      <td>4.5</td>\n",
       "      <td>4.5</td>\n",
       "      <td>9.04</td>\n",
       "      <td>0</td>\n",
       "      <td>0.84</td>\n",
       "    </tr>\n",
       "  </tbody>\n",
       "</table>\n",
       "<p>500 rows × 8 columns</p>\n",
       "</div>"
      ],
      "text/plain": [
       "     GRE Score  TOEFL Score  University Rating  SOP  LOR  CGPA  Research  \\\n",
       "0          337          118                  4  4.5  4.5  9.65         1   \n",
       "1          324          107                  4  4.0  4.5  8.87         1   \n",
       "2          316          104                  3  3.0  3.5  8.00         1   \n",
       "3          322          110                  3  3.5  2.5  8.67         1   \n",
       "4          314          103                  2  2.0  3.0  8.21         0   \n",
       "..         ...          ...                ...  ...  ...   ...       ...   \n",
       "495        332          108                  5  4.5  4.0  9.02         1   \n",
       "496        337          117                  5  5.0  5.0  9.87         1   \n",
       "497        330          120                  5  4.5  5.0  9.56         1   \n",
       "498        312          103                  4  4.0  5.0  8.43         0   \n",
       "499        327          113                  4  4.5  4.5  9.04         0   \n",
       "\n",
       "     Chance of Admit  \n",
       "0               0.92  \n",
       "1               0.76  \n",
       "2               0.72  \n",
       "3               0.80  \n",
       "4               0.65  \n",
       "..               ...  \n",
       "495             0.87  \n",
       "496             0.96  \n",
       "497             0.93  \n",
       "498             0.73  \n",
       "499             0.84  \n",
       "\n",
       "[500 rows x 8 columns]"
      ]
     },
     "execution_count": 16,
     "metadata": {},
     "output_type": "execute_result"
    }
   ],
   "source": [
    "# Dropping the Serial Number column\n",
    "df.drop('Serial No.', axis=1, inplace= True)\n",
    "df"
   ]
  },
  {
   "cell_type": "code",
   "execution_count": 17,
   "id": "7445b85e",
   "metadata": {
    "execution": {
     "iopub.execute_input": "2025-06-28T12:29:30.219103Z",
     "iopub.status.busy": "2025-06-28T12:29:30.218752Z",
     "iopub.status.idle": "2025-06-28T12:29:30.223868Z",
     "shell.execute_reply": "2025-06-28T12:29:30.222740Z"
    },
    "papermill": {
     "duration": 0.017624,
     "end_time": "2025-06-28T12:29:30.225499",
     "exception": false,
     "start_time": "2025-06-28T12:29:30.207875",
     "status": "completed"
    },
    "tags": []
   },
   "outputs": [],
   "source": [
    "# Replacing the null values\n",
    "# df[['GRE Score','TOEFL Score','University Rating','SOP','LOR','CGPA','Research','Chance of Admit']] = df[['GRE Score','TOEFL Score','University Rating','SOP','LOR','CGPA','Research','Chance of Admit']].replace(0, np.NaN)\n",
    "# df.isnull().sum()"
   ]
  },
  {
   "cell_type": "markdown",
   "id": "53516467",
   "metadata": {
    "papermill": {
     "duration": 0.009335,
     "end_time": "2025-06-28T12:29:30.244972",
     "exception": false,
     "start_time": "2025-06-28T12:29:30.235637",
     "status": "completed"
    },
    "tags": []
   },
   "source": [
    "There were no null values"
   ]
  },
  {
   "cell_type": "markdown",
   "id": "235fffd7",
   "metadata": {
    "papermill": {
     "duration": 0.01016,
     "end_time": "2025-06-28T12:29:30.265353",
     "exception": false,
     "start_time": "2025-06-28T12:29:30.255193",
     "status": "completed"
    },
    "tags": []
   },
   "source": [
    "# Model Building"
   ]
  },
  {
   "cell_type": "code",
   "execution_count": 18,
   "id": "573d6a54",
   "metadata": {
    "execution": {
     "iopub.execute_input": "2025-06-28T12:29:30.286826Z",
     "iopub.status.busy": "2025-06-28T12:29:30.286433Z",
     "iopub.status.idle": "2025-06-28T12:29:30.292537Z",
     "shell.execute_reply": "2025-06-28T12:29:30.291715Z"
    },
    "papermill": {
     "duration": 0.018437,
     "end_time": "2025-06-28T12:29:30.294028",
     "exception": false,
     "start_time": "2025-06-28T12:29:30.275591",
     "status": "completed"
    },
    "tags": []
   },
   "outputs": [],
   "source": [
    "# Splitting the dataset in Features and Label\n",
    "\n",
    "x = df.drop('Chance of Admit', axis= 'columns')\n",
    "y = df['Chance of Admit']"
   ]
  },
  {
   "cell_type": "code",
   "execution_count": 19,
   "id": "feafa5f8",
   "metadata": {
    "execution": {
     "iopub.execute_input": "2025-06-28T12:29:30.316023Z",
     "iopub.status.busy": "2025-06-28T12:29:30.315693Z",
     "iopub.status.idle": "2025-06-28T12:29:32.712365Z",
     "shell.execute_reply": "2025-06-28T12:29:32.711280Z"
    },
    "papermill": {
     "duration": 2.41029,
     "end_time": "2025-06-28T12:29:32.714220",
     "exception": false,
     "start_time": "2025-06-28T12:29:30.303930",
     "status": "completed"
    },
    "tags": []
   },
   "outputs": [],
   "source": [
    "# Using GridSearchCV to find the best alogorithm for this problem\n",
    "\n",
    "from sklearn.model_selection import GridSearchCV\n",
    "\n",
    "from sklearn.linear_model import LinearRegression, Lasso\n",
    "\n",
    "from sklearn.svm import SVR\n",
    "from sklearn.tree import DecisionTreeRegressor\n",
    "from sklearn.ensemble import RandomForestRegressor\n",
    "from sklearn.neighbors import KNeighborsRegressor"
   ]
  },
  {
   "cell_type": "code",
   "execution_count": 20,
   "id": "88bb8998",
   "metadata": {
    "execution": {
     "iopub.execute_input": "2025-06-28T12:29:32.735412Z",
     "iopub.status.busy": "2025-06-28T12:29:32.734859Z",
     "iopub.status.idle": "2025-06-28T12:29:37.202013Z",
     "shell.execute_reply": "2025-06-28T12:29:37.200892Z"
    },
    "papermill": {
     "duration": 4.479655,
     "end_time": "2025-06-28T12:29:37.203830",
     "exception": false,
     "start_time": "2025-06-28T12:29:32.724175",
     "status": "completed"
    },
    "tags": []
   },
   "outputs": [
    {
     "data": {
      "text/html": [
       "<div>\n",
       "<style scoped>\n",
       "    .dataframe tbody tr th:only-of-type {\n",
       "        vertical-align: middle;\n",
       "    }\n",
       "\n",
       "    .dataframe tbody tr th {\n",
       "        vertical-align: top;\n",
       "    }\n",
       "\n",
       "    .dataframe thead th {\n",
       "        text-align: right;\n",
       "    }\n",
       "</style>\n",
       "<table border=\"1\" class=\"dataframe\">\n",
       "  <thead>\n",
       "    <tr style=\"text-align: right;\">\n",
       "      <th></th>\n",
       "      <th>model</th>\n",
       "      <th>best_parameters</th>\n",
       "      <th>score</th>\n",
       "    </tr>\n",
       "  </thead>\n",
       "  <tbody>\n",
       "    <tr>\n",
       "      <th>0</th>\n",
       "      <td>linear_regression</td>\n",
       "      <td>{'fit_intercept': True}</td>\n",
       "      <td>0.810802</td>\n",
       "    </tr>\n",
       "    <tr>\n",
       "      <th>1</th>\n",
       "      <td>lasso</td>\n",
       "      <td>{'alpha': 1, 'selection': 'random'}</td>\n",
       "      <td>0.215088</td>\n",
       "    </tr>\n",
       "    <tr>\n",
       "      <th>2</th>\n",
       "      <td>svr</td>\n",
       "      <td>{'gamma': 0.001, 'kernel': 'linear'}</td>\n",
       "      <td>0.782325</td>\n",
       "    </tr>\n",
       "    <tr>\n",
       "      <th>3</th>\n",
       "      <td>decision_tree</td>\n",
       "      <td>{'criterion': 'squared_error', 'splitter': 'ra...</td>\n",
       "      <td>0.608040</td>\n",
       "    </tr>\n",
       "    <tr>\n",
       "      <th>4</th>\n",
       "      <td>random_forest</td>\n",
       "      <td>{'n_estimators': 20}</td>\n",
       "      <td>0.769003</td>\n",
       "    </tr>\n",
       "    <tr>\n",
       "      <th>5</th>\n",
       "      <td>knn</td>\n",
       "      <td>{'n_neighbors': 20}</td>\n",
       "      <td>0.723012</td>\n",
       "    </tr>\n",
       "  </tbody>\n",
       "</table>\n",
       "</div>"
      ],
      "text/plain": [
       "               model                                    best_parameters  \\\n",
       "0  linear_regression                            {'fit_intercept': True}   \n",
       "1              lasso                {'alpha': 1, 'selection': 'random'}   \n",
       "2                svr               {'gamma': 0.001, 'kernel': 'linear'}   \n",
       "3      decision_tree  {'criterion': 'squared_error', 'splitter': 'ra...   \n",
       "4      random_forest                               {'n_estimators': 20}   \n",
       "5                knn                                {'n_neighbors': 20}   \n",
       "\n",
       "      score  \n",
       "0  0.810802  \n",
       "1  0.215088  \n",
       "2  0.782325  \n",
       "3  0.608040  \n",
       "4  0.769003  \n",
       "5  0.723012  "
      ]
     },
     "execution_count": 20,
     "metadata": {},
     "output_type": "execute_result"
    }
   ],
   "source": [
    "# Creating a function to calculate best model for this problem\n",
    "\n",
    "def find_best_model(x, y):\n",
    "    model = {'linear_regression': {\n",
    "        'model': LinearRegression(),\n",
    "        'parameters': {\n",
    "            'fit_intercept': [True, False]\n",
    "        }\n",
    "    },\n",
    "             'lasso': {\n",
    "                'model': Lasso(),\n",
    "                'parameters': {\n",
    "                    'alpha': [1, 2],\n",
    "                    'selection': ['random', 'cyclic']\n",
    "                }\n",
    "            },\n",
    "            'svr': {\n",
    "                'model': SVR(),\n",
    "                'parameters': {\n",
    "                    'gamma': [0.001, 0.01, 0.1, 1.0],\n",
    "                    'kernel': ['rbf', 'linear']\n",
    "                }\n",
    "            },\n",
    "            'decision_tree': {\n",
    "                'model': DecisionTreeRegressor(),\n",
    "                'parameters': {\n",
    "                    'criterion': ['squared_error'],\n",
    "                    'splitter': ['best', 'random']\n",
    "                }\n",
    "            },\n",
    "            'random_forest': {\n",
    "                'model': RandomForestRegressor(criterion= 'squared_error', random_state= 42),\n",
    "                'parameters': {\n",
    "                    'n_estimators': [5, 10, 15, 20]\n",
    "                }\n",
    "            },\n",
    "            'knn': {\n",
    "                'model': KNeighborsRegressor(algorithm= 'auto'),\n",
    "                'parameters': {\n",
    "                    'n_neighbors': [2, 5, 10, 20]\n",
    "                }\n",
    "            }\n",
    "        }\n",
    "\n",
    "    scores = []\n",
    "\n",
    "    for model_name, model_params in model.items():\n",
    "        gs = GridSearchCV(model_params['model'],\n",
    "                          model_params['parameters'],\n",
    "                          cv= 5, return_train_score= False,\n",
    "                          n_jobs=-1) # n_jobs=-1 to use all available cores\n",
    "        gs.fit(x, y)\n",
    "        scores.append({'model': model_name,\n",
    "                      'best_parameters': gs.best_params_,\n",
    "                      'score': gs.best_score_})\n",
    "\n",
    "    return pd.DataFrame(scores, columns= ['model', 'best_parameters', 'score'])\n",
    "\n",
    "find_best_model(x, y)"
   ]
  },
  {
   "cell_type": "markdown",
   "id": "531ab8d1",
   "metadata": {
    "papermill": {
     "duration": 0.009793,
     "end_time": "2025-06-28T12:29:37.223973",
     "exception": false,
     "start_time": "2025-06-28T12:29:37.214180",
     "status": "completed"
    },
    "tags": []
   },
   "source": [
    "**Since the Linear Regression algorithm has the highest accuracy, the model selected for this problem is Linear Regression.**"
   ]
  },
  {
   "cell_type": "markdown",
   "id": "a97c82f2",
   "metadata": {
    "papermill": {
     "duration": 0.010403,
     "end_time": "2025-06-28T12:29:37.245527",
     "exception": false,
     "start_time": "2025-06-28T12:29:37.235124",
     "status": "completed"
    },
    "tags": []
   },
   "source": [
    "# Linear Regression Model"
   ]
  },
  {
   "cell_type": "code",
   "execution_count": 21,
   "id": "945157e3",
   "metadata": {
    "execution": {
     "iopub.execute_input": "2025-06-28T12:29:37.268273Z",
     "iopub.status.busy": "2025-06-28T12:29:37.266902Z",
     "iopub.status.idle": "2025-06-28T12:29:37.298695Z",
     "shell.execute_reply": "2025-06-28T12:29:37.297255Z"
    },
    "papermill": {
     "duration": 0.04482,
     "end_time": "2025-06-28T12:29:37.300436",
     "exception": false,
     "start_time": "2025-06-28T12:29:37.255616",
     "status": "completed"
    },
    "tags": []
   },
   "outputs": [
    {
     "name": "stdout",
     "output_type": "stream",
     "text": [
      "Highest Accuracy: 81%\n"
     ]
    }
   ],
   "source": [
    "# Using cross_val_score for gaining high accuracy\n",
    "\n",
    "from sklearn.model_selection import cross_val_score\n",
    "\n",
    "scores = cross_val_score(LinearRegression(fit_intercept= True), x, y, cv= 5, n_jobs= -1)\n",
    "\n",
    "print('Highest Accuracy: {}%'.format(round(sum(scores) * 100 / len(scores)), 3))"
   ]
  },
  {
   "cell_type": "code",
   "execution_count": 22,
   "id": "e7bae3c8",
   "metadata": {
    "execution": {
     "iopub.execute_input": "2025-06-28T12:29:37.322154Z",
     "iopub.status.busy": "2025-06-28T12:29:37.321783Z",
     "iopub.status.idle": "2025-06-28T12:29:37.330298Z",
     "shell.execute_reply": "2025-06-28T12:29:37.329199Z"
    },
    "papermill": {
     "duration": 0.021275,
     "end_time": "2025-06-28T12:29:37.331878",
     "exception": false,
     "start_time": "2025-06-28T12:29:37.310603",
     "status": "completed"
    },
    "tags": []
   },
   "outputs": [
    {
     "name": "stdout",
     "output_type": "stream",
     "text": [
      "400 100\n"
     ]
    }
   ],
   "source": [
    "# Splitting the dataset into train and test samples\n",
    "\n",
    "from sklearn.model_selection import train_test_split\n",
    "\n",
    "x_train, x_test, y_train, y_test = train_test_split(x, y, test_size= 0.2, random_state= 42)\n",
    "\n",
    "print(len(x_train), len(x_test))"
   ]
  },
  {
   "cell_type": "code",
   "execution_count": 23,
   "id": "56f694d5",
   "metadata": {
    "execution": {
     "iopub.execute_input": "2025-06-28T12:29:37.353767Z",
     "iopub.status.busy": "2025-06-28T12:29:37.353000Z",
     "iopub.status.idle": "2025-06-28T12:29:37.365548Z",
     "shell.execute_reply": "2025-06-28T12:29:37.364630Z"
    },
    "papermill": {
     "duration": 0.025373,
     "end_time": "2025-06-28T12:29:37.367314",
     "exception": false,
     "start_time": "2025-06-28T12:29:37.341941",
     "status": "completed"
    },
    "tags": []
   },
   "outputs": [
    {
     "data": {
      "text/plain": [
       "0.818843256782963"
      ]
     },
     "execution_count": 23,
     "metadata": {},
     "output_type": "execute_result"
    }
   ],
   "source": [
    "# Creating Linear Regression Model\n",
    "model = LinearRegression(fit_intercept= True, n_jobs= -1)\n",
    "model.fit(x_train, y_train)\n",
    "model.score(x_test, y_test)"
   ]
  },
  {
   "cell_type": "markdown",
   "id": "df7a0d10",
   "metadata": {
    "papermill": {
     "duration": 0.010432,
     "end_time": "2025-06-28T12:29:37.485802",
     "exception": false,
     "start_time": "2025-06-28T12:29:37.475370",
     "status": "completed"
    },
    "tags": []
   },
   "source": [
    "# Predicting the Values using our trained model"
   ]
  },
  {
   "cell_type": "code",
   "execution_count": 24,
   "id": "9310aeba",
   "metadata": {
    "execution": {
     "iopub.execute_input": "2025-06-28T12:29:37.508127Z",
     "iopub.status.busy": "2025-06-28T12:29:37.507750Z",
     "iopub.status.idle": "2025-06-28T12:29:37.515998Z",
     "shell.execute_reply": "2025-06-28T12:29:37.514699Z"
    },
    "papermill": {
     "duration": 0.021629,
     "end_time": "2025-06-28T12:29:37.517767",
     "exception": false,
     "start_time": "2025-06-28T12:29:37.496138",
     "status": "completed"
    },
    "tags": []
   },
   "outputs": [
    {
     "name": "stdout",
     "output_type": "stream",
     "text": [
      "Chance of getting into UCLA is 93.437%\n"
     ]
    },
    {
     "name": "stderr",
     "output_type": "stream",
     "text": [
      "/usr/local/lib/python3.11/dist-packages/sklearn/base.py:439: UserWarning: X does not have valid feature names, but LinearRegression was fitted with feature names\n",
      "  warnings.warn(\n"
     ]
    }
   ],
   "source": [
    "# Prediction 1\n",
    "# Input in the form : GRE, TOEFL, University Rating, SOP, LOR, CGPA, Research\n",
    "print('Chance of getting into UCLA is {}%'.format(round(model.predict([[337, 118, 4, 4.5, 4.5, 9.65, 0]])[0]*100, 3)))"
   ]
  },
  {
   "cell_type": "code",
   "execution_count": 25,
   "id": "650b73dd",
   "metadata": {
    "execution": {
     "iopub.execute_input": "2025-06-28T12:29:37.541358Z",
     "iopub.status.busy": "2025-06-28T12:29:37.540227Z",
     "iopub.status.idle": "2025-06-28T12:29:37.546621Z",
     "shell.execute_reply": "2025-06-28T12:29:37.545518Z"
    },
    "papermill": {
     "duration": 0.019699,
     "end_time": "2025-06-28T12:29:37.548335",
     "exception": false,
     "start_time": "2025-06-28T12:29:37.528636",
     "status": "completed"
    },
    "tags": []
   },
   "outputs": [
    {
     "name": "stdout",
     "output_type": "stream",
     "text": [
      "Chance of getting into UCLA is 74.423%\n"
     ]
    },
    {
     "name": "stderr",
     "output_type": "stream",
     "text": [
      "/usr/local/lib/python3.11/dist-packages/sklearn/base.py:439: UserWarning: X does not have valid feature names, but LinearRegression was fitted with feature names\n",
      "  warnings.warn(\n"
     ]
    }
   ],
   "source": [
    "# Prediction 2\n",
    "# Input in the form : GRE, TOEFL, University Rating, SOP, LOR, CGPA, Research\n",
    "print('Chance of getting into UCLA is {}%'.format(round(model.predict([[320, 113, 2, 2.0, 2.5, 8.64, 1]])[0]*100, 3)))"
   ]
  }
 ],
 "metadata": {
  "kaggle": {
   "accelerator": "none",
   "dataSources": [
    {
     "datasetId": 14872,
     "sourceId": 228180,
     "sourceType": "datasetVersion"
    }
   ],
   "dockerImageVersionId": 31040,
   "isGpuEnabled": false,
   "isInternetEnabled": true,
   "language": "python",
   "sourceType": "notebook"
  },
  "kernelspec": {
   "display_name": "Python 3",
   "language": "python",
   "name": "python3"
  },
  "language_info": {
   "codemirror_mode": {
    "name": "ipython",
    "version": 3
   },
   "file_extension": ".py",
   "mimetype": "text/x-python",
   "name": "python",
   "nbconvert_exporter": "python",
   "pygments_lexer": "ipython3",
   "version": "3.11.11"
  },
  "papermill": {
   "default_parameters": {},
   "duration": 19.46592,
   "end_time": "2025-06-28T12:29:40.181063",
   "environment_variables": {},
   "exception": null,
   "input_path": "__notebook__.ipynb",
   "output_path": "__notebook__.ipynb",
   "parameters": {},
   "start_time": "2025-06-28T12:29:20.715143",
   "version": "2.6.0"
  }
 },
 "nbformat": 4,
 "nbformat_minor": 5
}
