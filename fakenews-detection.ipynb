{
 "cells": [
  {
   "cell_type": "code",
   "execution_count": 1,
   "id": "5aef81a9",
   "metadata": {
    "execution": {
     "iopub.execute_input": "2025-06-06T10:05:34.766120Z",
     "iopub.status.busy": "2025-06-06T10:05:34.765759Z",
     "iopub.status.idle": "2025-06-06T10:05:38.586298Z",
     "shell.execute_reply": "2025-06-06T10:05:38.585353Z"
    },
    "papermill": {
     "duration": 3.826675,
     "end_time": "2025-06-06T10:05:38.588047",
     "exception": false,
     "start_time": "2025-06-06T10:05:34.761372",
     "status": "completed"
    },
    "tags": []
   },
   "outputs": [],
   "source": [
    "import pandas as pd\n",
    "import numpy as np\n",
    "import itertools\n",
    "from sklearn.model_selection import train_test_split\n",
    "from sklearn.feature_extraction.text import TfidfVectorizer\n",
    "from sklearn.linear_model import PassiveAggressiveClassifier\n",
    "from sklearn.metrics import accuracy_score, confusion_matrix"
   ]
  },
  {
   "cell_type": "code",
   "execution_count": 2,
   "id": "bc0537fe",
   "metadata": {
    "execution": {
     "iopub.execute_input": "2025-06-06T10:05:38.594526Z",
     "iopub.status.busy": "2025-06-06T10:05:38.594071Z",
     "iopub.status.idle": "2025-06-06T10:05:39.575821Z",
     "shell.execute_reply": "2025-06-06T10:05:39.574877Z"
    },
    "papermill": {
     "duration": 0.986224,
     "end_time": "2025-06-06T10:05:39.577259",
     "exception": false,
     "start_time": "2025-06-06T10:05:38.591035",
     "status": "completed"
    },
    "tags": []
   },
   "outputs": [
    {
     "data": {
      "text/plain": [
       "(6335, 4)"
      ]
     },
     "execution_count": 2,
     "metadata": {},
     "output_type": "execute_result"
    }
   ],
   "source": [
    "df = pd.read_csv(\"/kaggle/input/fake-news/news.csv\")\n",
    "\n",
    "df.shape"
   ]
  },
  {
   "cell_type": "code",
   "execution_count": 3,
   "id": "46c3d5c3",
   "metadata": {
    "execution": {
     "iopub.execute_input": "2025-06-06T10:05:39.583444Z",
     "iopub.status.busy": "2025-06-06T10:05:39.583125Z",
     "iopub.status.idle": "2025-06-06T10:05:39.608164Z",
     "shell.execute_reply": "2025-06-06T10:05:39.607107Z"
    },
    "papermill": {
     "duration": 0.029802,
     "end_time": "2025-06-06T10:05:39.609670",
     "exception": false,
     "start_time": "2025-06-06T10:05:39.579868",
     "status": "completed"
    },
    "tags": []
   },
   "outputs": [
    {
     "data": {
      "text/html": [
       "<div>\n",
       "<style scoped>\n",
       "    .dataframe tbody tr th:only-of-type {\n",
       "        vertical-align: middle;\n",
       "    }\n",
       "\n",
       "    .dataframe tbody tr th {\n",
       "        vertical-align: top;\n",
       "    }\n",
       "\n",
       "    .dataframe thead th {\n",
       "        text-align: right;\n",
       "    }\n",
       "</style>\n",
       "<table border=\"1\" class=\"dataframe\">\n",
       "  <thead>\n",
       "    <tr style=\"text-align: right;\">\n",
       "      <th></th>\n",
       "      <th>Unnamed: 0</th>\n",
       "      <th>title</th>\n",
       "      <th>text</th>\n",
       "      <th>label</th>\n",
       "    </tr>\n",
       "  </thead>\n",
       "  <tbody>\n",
       "    <tr>\n",
       "      <th>0</th>\n",
       "      <td>8476</td>\n",
       "      <td>You Can Smell Hillary’s Fear</td>\n",
       "      <td>Daniel Greenfield, a Shillman Journalism Fello...</td>\n",
       "      <td>FAKE</td>\n",
       "    </tr>\n",
       "    <tr>\n",
       "      <th>1</th>\n",
       "      <td>10294</td>\n",
       "      <td>Watch The Exact Moment Paul Ryan Committed Pol...</td>\n",
       "      <td>Google Pinterest Digg Linkedin Reddit Stumbleu...</td>\n",
       "      <td>FAKE</td>\n",
       "    </tr>\n",
       "    <tr>\n",
       "      <th>2</th>\n",
       "      <td>3608</td>\n",
       "      <td>Kerry to go to Paris in gesture of sympathy</td>\n",
       "      <td>U.S. Secretary of State John F. Kerry said Mon...</td>\n",
       "      <td>REAL</td>\n",
       "    </tr>\n",
       "    <tr>\n",
       "      <th>3</th>\n",
       "      <td>10142</td>\n",
       "      <td>Bernie supporters on Twitter erupt in anger ag...</td>\n",
       "      <td>— Kaydee King (@KaydeeKing) November 9, 2016 T...</td>\n",
       "      <td>FAKE</td>\n",
       "    </tr>\n",
       "    <tr>\n",
       "      <th>4</th>\n",
       "      <td>875</td>\n",
       "      <td>The Battle of New York: Why This Primary Matters</td>\n",
       "      <td>It's primary day in New York and front-runners...</td>\n",
       "      <td>REAL</td>\n",
       "    </tr>\n",
       "  </tbody>\n",
       "</table>\n",
       "</div>"
      ],
      "text/plain": [
       "   Unnamed: 0                                              title  \\\n",
       "0        8476                       You Can Smell Hillary’s Fear   \n",
       "1       10294  Watch The Exact Moment Paul Ryan Committed Pol...   \n",
       "2        3608        Kerry to go to Paris in gesture of sympathy   \n",
       "3       10142  Bernie supporters on Twitter erupt in anger ag...   \n",
       "4         875   The Battle of New York: Why This Primary Matters   \n",
       "\n",
       "                                                text label  \n",
       "0  Daniel Greenfield, a Shillman Journalism Fello...  FAKE  \n",
       "1  Google Pinterest Digg Linkedin Reddit Stumbleu...  FAKE  \n",
       "2  U.S. Secretary of State John F. Kerry said Mon...  REAL  \n",
       "3  — Kaydee King (@KaydeeKing) November 9, 2016 T...  FAKE  \n",
       "4  It's primary day in New York and front-runners...  REAL  "
      ]
     },
     "execution_count": 3,
     "metadata": {},
     "output_type": "execute_result"
    }
   ],
   "source": [
    "df.head()"
   ]
  },
  {
   "cell_type": "code",
   "execution_count": 4,
   "id": "f7b437e8",
   "metadata": {
    "execution": {
     "iopub.execute_input": "2025-06-06T10:05:39.616518Z",
     "iopub.status.busy": "2025-06-06T10:05:39.615808Z",
     "iopub.status.idle": "2025-06-06T10:05:39.624493Z",
     "shell.execute_reply": "2025-06-06T10:05:39.623772Z"
    },
    "papermill": {
     "duration": 0.013464,
     "end_time": "2025-06-06T10:05:39.625833",
     "exception": false,
     "start_time": "2025-06-06T10:05:39.612369",
     "status": "completed"
    },
    "tags": []
   },
   "outputs": [
    {
     "data": {
      "text/plain": [
       "0    FAKE\n",
       "1    FAKE\n",
       "2    REAL\n",
       "3    FAKE\n",
       "4    REAL\n",
       "Name: label, dtype: object"
      ]
     },
     "execution_count": 4,
     "metadata": {},
     "output_type": "execute_result"
    }
   ],
   "source": [
    "labels= df.label\n",
    "labels.head()"
   ]
  },
  {
   "cell_type": "code",
   "execution_count": 5,
   "id": "30e000c2",
   "metadata": {
    "execution": {
     "iopub.execute_input": "2025-06-06T10:05:39.632164Z",
     "iopub.status.busy": "2025-06-06T10:05:39.631880Z",
     "iopub.status.idle": "2025-06-06T10:05:39.642869Z",
     "shell.execute_reply": "2025-06-06T10:05:39.642129Z"
    },
    "papermill": {
     "duration": 0.015873,
     "end_time": "2025-06-06T10:05:39.644422",
     "exception": false,
     "start_time": "2025-06-06T10:05:39.628549",
     "status": "completed"
    },
    "tags": []
   },
   "outputs": [],
   "source": [
    "x_train, x_test, y_train, y_test = train_test_split(df['text'], labels, test_size=0.2, random_state=42)"
   ]
  },
  {
   "cell_type": "code",
   "execution_count": 6,
   "id": "84637be5",
   "metadata": {
    "execution": {
     "iopub.execute_input": "2025-06-06T10:05:39.650548Z",
     "iopub.status.busy": "2025-06-06T10:05:39.650272Z",
     "iopub.status.idle": "2025-06-06T10:05:43.555261Z",
     "shell.execute_reply": "2025-06-06T10:05:43.554414Z"
    },
    "papermill": {
     "duration": 3.910247,
     "end_time": "2025-06-06T10:05:43.557259",
     "exception": false,
     "start_time": "2025-06-06T10:05:39.647012",
     "status": "completed"
    },
    "tags": []
   },
   "outputs": [],
   "source": [
    "tfidf = TfidfVectorizer(stop_words='english', max_df=0.7)\n",
    "\n",
    "tfidf_train = tfidf.fit_transform(x_train)\n",
    "tfidf_test = tfidf.transform(x_test)"
   ]
  },
  {
   "cell_type": "code",
   "execution_count": 7,
   "id": "3d26b544",
   "metadata": {
    "execution": {
     "iopub.execute_input": "2025-06-06T10:05:43.567919Z",
     "iopub.status.busy": "2025-06-06T10:05:43.566764Z",
     "iopub.status.idle": "2025-06-06T10:05:43.719026Z",
     "shell.execute_reply": "2025-06-06T10:05:43.718043Z"
    },
    "papermill": {
     "duration": 0.158988,
     "end_time": "2025-06-06T10:05:43.720672",
     "exception": false,
     "start_time": "2025-06-06T10:05:43.561684",
     "status": "completed"
    },
    "tags": []
   },
   "outputs": [
    {
     "name": "stdout",
     "output_type": "stream",
     "text": [
      "Accuracy: 93.61%\n"
     ]
    }
   ],
   "source": [
    "pac = PassiveAggressiveClassifier(max_iter=50)\n",
    "pac.fit(tfidf_train, y_train)\n",
    "\n",
    "y_pred = pac.predict(tfidf_test)\n",
    "score = accuracy_score(y_test, y_pred)\n",
    "\n",
    "print(f\"Accuracy: {round(score*100,2)}%\")"
   ]
  },
  {
   "cell_type": "code",
   "execution_count": 8,
   "id": "6619f0f0",
   "metadata": {
    "execution": {
     "iopub.execute_input": "2025-06-06T10:05:43.730752Z",
     "iopub.status.busy": "2025-06-06T10:05:43.730396Z",
     "iopub.status.idle": "2025-06-06T10:05:43.741940Z",
     "shell.execute_reply": "2025-06-06T10:05:43.741056Z"
    },
    "papermill": {
     "duration": 0.018092,
     "end_time": "2025-06-06T10:05:43.743403",
     "exception": false,
     "start_time": "2025-06-06T10:05:43.725311",
     "status": "completed"
    },
    "tags": []
   },
   "outputs": [
    {
     "data": {
      "text/plain": [
       "array([[588,  40],\n",
       "       [ 41, 598]])"
      ]
     },
     "execution_count": 8,
     "metadata": {},
     "output_type": "execute_result"
    }
   ],
   "source": [
    "confusion_matrix(y_test, y_pred, labels=['FAKE','REAL'])"
   ]
  }
 ],
 "metadata": {
  "kaggle": {
   "accelerator": "none",
   "dataSources": [
    {
     "datasetId": 3950844,
     "sourceId": 6875518,
     "sourceType": "datasetVersion"
    }
   ],
   "dockerImageVersionId": 31040,
   "isGpuEnabled": false,
   "isInternetEnabled": true,
   "language": "python",
   "sourceType": "notebook"
  },
  "kernelspec": {
   "display_name": "Python 3",
   "language": "python",
   "name": "python3"
  },
  "language_info": {
   "codemirror_mode": {
    "name": "ipython",
    "version": 3
   },
   "file_extension": ".py",
   "mimetype": "text/x-python",
   "name": "python",
   "nbconvert_exporter": "python",
   "pygments_lexer": "ipython3",
   "version": "3.11.11"
  },
  "papermill": {
   "default_parameters": {},
   "duration": 14.659608,
   "end_time": "2025-06-06T10:05:44.466082",
   "environment_variables": {},
   "exception": null,
   "input_path": "__notebook__.ipynb",
   "output_path": "__notebook__.ipynb",
   "parameters": {},
   "start_time": "2025-06-06T10:05:29.806474",
   "version": "2.6.0"
  }
 },
 "nbformat": 4,
 "nbformat_minor": 5
}
