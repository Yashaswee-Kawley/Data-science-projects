{
 "cells": [
  {
   "cell_type": "code",
   "execution_count": 1,
   "id": "527b8f90",
   "metadata": {
    "_cell_guid": "b1076dfc-b9ad-4769-8c92-a6c4dae69d19",
    "_uuid": "8f2839f25d086af736a60e9eeb907d3b93b6e0e5",
    "execution": {
     "iopub.execute_input": "2025-06-20T11:37:12.654306Z",
     "iopub.status.busy": "2025-06-20T11:37:12.654007Z",
     "iopub.status.idle": "2025-06-20T11:37:15.398554Z",
     "shell.execute_reply": "2025-06-20T11:37:15.397800Z"
    },
    "papermill": {
     "duration": 2.753937,
     "end_time": "2025-06-20T11:37:15.400016",
     "exception": false,
     "start_time": "2025-06-20T11:37:12.646079",
     "status": "completed"
    },
    "tags": []
   },
   "outputs": [],
   "source": [
    "import pandas as pd\n",
    "import numpy as np\n",
    "import seaborn as sns\n",
    "import matplotlib.pyplot as plt\n",
    "%matplotlib inline"
   ]
  },
  {
   "cell_type": "markdown",
   "id": "07c70a2c",
   "metadata": {
    "papermill": {
     "duration": 0.005682,
     "end_time": "2025-06-20T11:37:15.412355",
     "exception": false,
     "start_time": "2025-06-20T11:37:15.406673",
     "status": "completed"
    },
    "tags": []
   },
   "source": [
    "# Exploratory Data Analysis"
   ]
  },
  {
   "cell_type": "code",
   "execution_count": 2,
   "id": "d0be5ae8",
   "metadata": {
    "execution": {
     "iopub.execute_input": "2025-06-20T11:37:15.424907Z",
     "iopub.status.busy": "2025-06-20T11:37:15.424598Z",
     "iopub.status.idle": "2025-06-20T11:37:16.497547Z",
     "shell.execute_reply": "2025-06-20T11:37:16.496672Z"
    },
    "papermill": {
     "duration": 1.080817,
     "end_time": "2025-06-20T11:37:16.498903",
     "exception": false,
     "start_time": "2025-06-20T11:37:15.418086",
     "status": "completed"
    },
    "tags": []
   },
   "outputs": [
    {
     "name": "stderr",
     "output_type": "stream",
     "text": [
      "/usr/local/lib/python3.11/dist-packages/pandas/io/formats/format.py:1458: RuntimeWarning: invalid value encountered in greater\n",
      "  has_large_values = (abs_vals > 1e6).any()\n",
      "/usr/local/lib/python3.11/dist-packages/pandas/io/formats/format.py:1459: RuntimeWarning: invalid value encountered in less\n",
      "  has_small_values = ((abs_vals < 10 ** (-self.digits)) & (abs_vals > 0)).any()\n",
      "/usr/local/lib/python3.11/dist-packages/pandas/io/formats/format.py:1459: RuntimeWarning: invalid value encountered in greater\n",
      "  has_small_values = ((abs_vals < 10 ** (-self.digits)) & (abs_vals > 0)).any()\n"
     ]
    },
    {
     "data": {
      "text/html": [
       "<div>\n",
       "<style scoped>\n",
       "    .dataframe tbody tr th:only-of-type {\n",
       "        vertical-align: middle;\n",
       "    }\n",
       "\n",
       "    .dataframe tbody tr th {\n",
       "        vertical-align: top;\n",
       "    }\n",
       "\n",
       "    .dataframe thead th {\n",
       "        text-align: right;\n",
       "    }\n",
       "</style>\n",
       "<table border=\"1\" class=\"dataframe\">\n",
       "  <thead>\n",
       "    <tr style=\"text-align: right;\">\n",
       "      <th></th>\n",
       "      <th>User_ID</th>\n",
       "      <th>Product_ID</th>\n",
       "      <th>Gender</th>\n",
       "      <th>Age</th>\n",
       "      <th>Occupation</th>\n",
       "      <th>City_Category</th>\n",
       "      <th>Stay_In_Current_City_Years</th>\n",
       "      <th>Marital_Status</th>\n",
       "      <th>Product_Category_1</th>\n",
       "      <th>Product_Category_2</th>\n",
       "      <th>Product_Category_3</th>\n",
       "      <th>Purchase</th>\n",
       "    </tr>\n",
       "  </thead>\n",
       "  <tbody>\n",
       "    <tr>\n",
       "      <th>0</th>\n",
       "      <td>1000001</td>\n",
       "      <td>P00069042</td>\n",
       "      <td>F</td>\n",
       "      <td>0-17</td>\n",
       "      <td>10</td>\n",
       "      <td>A</td>\n",
       "      <td>2</td>\n",
       "      <td>0</td>\n",
       "      <td>3</td>\n",
       "      <td>NaN</td>\n",
       "      <td>NaN</td>\n",
       "      <td>8370</td>\n",
       "    </tr>\n",
       "    <tr>\n",
       "      <th>1</th>\n",
       "      <td>1000001</td>\n",
       "      <td>P00248942</td>\n",
       "      <td>F</td>\n",
       "      <td>0-17</td>\n",
       "      <td>10</td>\n",
       "      <td>A</td>\n",
       "      <td>2</td>\n",
       "      <td>0</td>\n",
       "      <td>1</td>\n",
       "      <td>6.0</td>\n",
       "      <td>14.0</td>\n",
       "      <td>15200</td>\n",
       "    </tr>\n",
       "    <tr>\n",
       "      <th>2</th>\n",
       "      <td>1000001</td>\n",
       "      <td>P00087842</td>\n",
       "      <td>F</td>\n",
       "      <td>0-17</td>\n",
       "      <td>10</td>\n",
       "      <td>A</td>\n",
       "      <td>2</td>\n",
       "      <td>0</td>\n",
       "      <td>12</td>\n",
       "      <td>NaN</td>\n",
       "      <td>NaN</td>\n",
       "      <td>1422</td>\n",
       "    </tr>\n",
       "    <tr>\n",
       "      <th>3</th>\n",
       "      <td>1000001</td>\n",
       "      <td>P00085442</td>\n",
       "      <td>F</td>\n",
       "      <td>0-17</td>\n",
       "      <td>10</td>\n",
       "      <td>A</td>\n",
       "      <td>2</td>\n",
       "      <td>0</td>\n",
       "      <td>12</td>\n",
       "      <td>14.0</td>\n",
       "      <td>NaN</td>\n",
       "      <td>1057</td>\n",
       "    </tr>\n",
       "    <tr>\n",
       "      <th>4</th>\n",
       "      <td>1000002</td>\n",
       "      <td>P00285442</td>\n",
       "      <td>M</td>\n",
       "      <td>55+</td>\n",
       "      <td>16</td>\n",
       "      <td>C</td>\n",
       "      <td>4+</td>\n",
       "      <td>0</td>\n",
       "      <td>8</td>\n",
       "      <td>NaN</td>\n",
       "      <td>NaN</td>\n",
       "      <td>7969</td>\n",
       "    </tr>\n",
       "  </tbody>\n",
       "</table>\n",
       "</div>"
      ],
      "text/plain": [
       "   User_ID Product_ID Gender   Age  Occupation City_Category  \\\n",
       "0  1000001  P00069042      F  0-17          10             A   \n",
       "1  1000001  P00248942      F  0-17          10             A   \n",
       "2  1000001  P00087842      F  0-17          10             A   \n",
       "3  1000001  P00085442      F  0-17          10             A   \n",
       "4  1000002  P00285442      M   55+          16             C   \n",
       "\n",
       "  Stay_In_Current_City_Years  Marital_Status  Product_Category_1  \\\n",
       "0                          2               0                   3   \n",
       "1                          2               0                   1   \n",
       "2                          2               0                  12   \n",
       "3                          2               0                  12   \n",
       "4                         4+               0                   8   \n",
       "\n",
       "   Product_Category_2  Product_Category_3  Purchase  \n",
       "0                 NaN                 NaN      8370  \n",
       "1                 6.0                14.0     15200  \n",
       "2                 NaN                 NaN      1422  \n",
       "3                14.0                 NaN      1057  \n",
       "4                 NaN                 NaN      7969  "
      ]
     },
     "execution_count": 2,
     "metadata": {},
     "output_type": "execute_result"
    }
   ],
   "source": [
    "pd.set_option('display.max_columns', None)\n",
    "df = pd.read_csv('/kaggle/input/black-friday-sales-eda/train.csv')\n",
    "\n",
    "df.head(5)"
   ]
  },
  {
   "cell_type": "code",
   "execution_count": 3,
   "id": "516acfdc",
   "metadata": {
    "execution": {
     "iopub.execute_input": "2025-06-20T11:37:16.512628Z",
     "iopub.status.busy": "2025-06-20T11:37:16.512432Z",
     "iopub.status.idle": "2025-06-20T11:37:16.651590Z",
     "shell.execute_reply": "2025-06-20T11:37:16.650663Z"
    },
    "papermill": {
     "duration": 0.147529,
     "end_time": "2025-06-20T11:37:16.652805",
     "exception": false,
     "start_time": "2025-06-20T11:37:16.505276",
     "status": "completed"
    },
    "tags": []
   },
   "outputs": [
    {
     "name": "stdout",
     "output_type": "stream",
     "text": [
      "<class 'pandas.core.frame.DataFrame'>\n",
      "RangeIndex: 550068 entries, 0 to 550067\n",
      "Data columns (total 12 columns):\n",
      " #   Column                      Non-Null Count   Dtype  \n",
      "---  ------                      --------------   -----  \n",
      " 0   User_ID                     550068 non-null  int64  \n",
      " 1   Product_ID                  550068 non-null  object \n",
      " 2   Gender                      550068 non-null  object \n",
      " 3   Age                         550068 non-null  object \n",
      " 4   Occupation                  550068 non-null  int64  \n",
      " 5   City_Category               550068 non-null  object \n",
      " 6   Stay_In_Current_City_Years  550068 non-null  object \n",
      " 7   Marital_Status              550068 non-null  int64  \n",
      " 8   Product_Category_1          550068 non-null  int64  \n",
      " 9   Product_Category_2          376430 non-null  float64\n",
      " 10  Product_Category_3          166821 non-null  float64\n",
      " 11  Purchase                    550068 non-null  int64  \n",
      "dtypes: float64(2), int64(5), object(5)\n",
      "memory usage: 50.4+ MB\n"
     ]
    }
   ],
   "source": [
    "df.info()"
   ]
  },
  {
   "cell_type": "code",
   "execution_count": 4,
   "id": "0b144a59",
   "metadata": {
    "execution": {
     "iopub.execute_input": "2025-06-20T11:37:16.666741Z",
     "iopub.status.busy": "2025-06-20T11:37:16.666544Z",
     "iopub.status.idle": "2025-06-20T11:37:16.671965Z",
     "shell.execute_reply": "2025-06-20T11:37:16.671439Z"
    },
    "papermill": {
     "duration": 0.013902,
     "end_time": "2025-06-20T11:37:16.673012",
     "exception": false,
     "start_time": "2025-06-20T11:37:16.659110",
     "status": "completed"
    },
    "tags": []
   },
   "outputs": [
    {
     "data": {
      "text/plain": [
       "int64      5\n",
       "object     5\n",
       "float64    2\n",
       "Name: count, dtype: int64"
      ]
     },
     "execution_count": 4,
     "metadata": {},
     "output_type": "execute_result"
    }
   ],
   "source": [
    "df.dtypes.value_counts()"
   ]
  },
  {
   "cell_type": "code",
   "execution_count": 5,
   "id": "2e793f30",
   "metadata": {
    "execution": {
     "iopub.execute_input": "2025-06-20T11:37:16.686217Z",
     "iopub.status.busy": "2025-06-20T11:37:16.685973Z",
     "iopub.status.idle": "2025-06-20T11:37:16.690221Z",
     "shell.execute_reply": "2025-06-20T11:37:16.689704Z"
    },
    "papermill": {
     "duration": 0.011875,
     "end_time": "2025-06-20T11:37:16.691188",
     "exception": false,
     "start_time": "2025-06-20T11:37:16.679313",
     "status": "completed"
    },
    "tags": []
   },
   "outputs": [
    {
     "data": {
      "text/plain": [
       "(550068, 12)"
      ]
     },
     "execution_count": 5,
     "metadata": {},
     "output_type": "execute_result"
    }
   ],
   "source": [
    "df.shape"
   ]
  },
  {
   "cell_type": "code",
   "execution_count": 6,
   "id": "f3d6c158",
   "metadata": {
    "execution": {
     "iopub.execute_input": "2025-06-20T11:37:16.704346Z",
     "iopub.status.busy": "2025-06-20T11:37:16.703894Z",
     "iopub.status.idle": "2025-06-20T11:37:16.708705Z",
     "shell.execute_reply": "2025-06-20T11:37:16.708046Z"
    },
    "papermill": {
     "duration": 0.012398,
     "end_time": "2025-06-20T11:37:16.709700",
     "exception": false,
     "start_time": "2025-06-20T11:37:16.697302",
     "status": "completed"
    },
    "tags": []
   },
   "outputs": [
    {
     "data": {
      "text/plain": [
       "Index(['User_ID', 'Product_ID', 'Gender', 'Age', 'Occupation', 'City_Category',\n",
       "       'Stay_In_Current_City_Years', 'Marital_Status', 'Product_Category_1',\n",
       "       'Product_Category_2', 'Product_Category_3', 'Purchase'],\n",
       "      dtype='object')"
      ]
     },
     "execution_count": 6,
     "metadata": {},
     "output_type": "execute_result"
    }
   ],
   "source": [
    "df.columns"
   ]
  },
  {
   "cell_type": "code",
   "execution_count": 7,
   "id": "727a5d26",
   "metadata": {
    "execution": {
     "iopub.execute_input": "2025-06-20T11:37:16.723145Z",
     "iopub.status.busy": "2025-06-20T11:37:16.722948Z",
     "iopub.status.idle": "2025-06-20T11:37:16.850186Z",
     "shell.execute_reply": "2025-06-20T11:37:16.849460Z"
    },
    "papermill": {
     "duration": 0.135389,
     "end_time": "2025-06-20T11:37:16.851445",
     "exception": false,
     "start_time": "2025-06-20T11:37:16.716056",
     "status": "completed"
    },
    "tags": []
   },
   "outputs": [
    {
     "data": {
      "text/plain": [
       "User_ID                            0\n",
       "Product_ID                         0\n",
       "Gender                             0\n",
       "Age                                0\n",
       "Occupation                         0\n",
       "City_Category                      0\n",
       "Stay_In_Current_City_Years         0\n",
       "Marital_Status                     0\n",
       "Product_Category_1                 0\n",
       "Product_Category_2            173638\n",
       "Product_Category_3            383247\n",
       "Purchase                           0\n",
       "dtype: int64"
      ]
     },
     "execution_count": 7,
     "metadata": {},
     "output_type": "execute_result"
    }
   ],
   "source": [
    "df.isnull().sum()"
   ]
  },
  {
   "cell_type": "code",
   "execution_count": 8,
   "id": "1165146c",
   "metadata": {
    "execution": {
     "iopub.execute_input": "2025-06-20T11:37:16.865980Z",
     "iopub.status.busy": "2025-06-20T11:37:16.865420Z",
     "iopub.status.idle": "2025-06-20T11:37:17.097121Z",
     "shell.execute_reply": "2025-06-20T11:37:17.096594Z"
    },
    "papermill": {
     "duration": 0.239989,
     "end_time": "2025-06-20T11:37:17.098375",
     "exception": false,
     "start_time": "2025-06-20T11:37:16.858386",
     "status": "completed"
    },
    "tags": []
   },
   "outputs": [
    {
     "data": {
      "text/plain": [
       "0"
      ]
     },
     "execution_count": 8,
     "metadata": {},
     "output_type": "execute_result"
    }
   ],
   "source": [
    "df.duplicated().sum()"
   ]
  },
  {
   "cell_type": "code",
   "execution_count": 9,
   "id": "9caa5605",
   "metadata": {
    "execution": {
     "iopub.execute_input": "2025-06-20T11:37:17.112105Z",
     "iopub.status.busy": "2025-06-20T11:37:17.111916Z",
     "iopub.status.idle": "2025-06-20T11:37:17.142109Z",
     "shell.execute_reply": "2025-06-20T11:37:17.141126Z"
    },
    "papermill": {
     "duration": 0.038506,
     "end_time": "2025-06-20T11:37:17.143433",
     "exception": false,
     "start_time": "2025-06-20T11:37:17.104927",
     "status": "completed"
    },
    "tags": []
   },
   "outputs": [
    {
     "name": "stderr",
     "output_type": "stream",
     "text": [
      "/usr/local/lib/python3.11/dist-packages/pandas/io/formats/format.py:1458: RuntimeWarning: invalid value encountered in greater\n",
      "  has_large_values = (abs_vals > 1e6).any()\n",
      "/usr/local/lib/python3.11/dist-packages/pandas/io/formats/format.py:1459: RuntimeWarning: invalid value encountered in less\n",
      "  has_small_values = ((abs_vals < 10 ** (-self.digits)) & (abs_vals > 0)).any()\n",
      "/usr/local/lib/python3.11/dist-packages/pandas/io/formats/format.py:1459: RuntimeWarning: invalid value encountered in greater\n",
      "  has_small_values = ((abs_vals < 10 ** (-self.digits)) & (abs_vals > 0)).any()\n"
     ]
    },
    {
     "data": {
      "text/html": [
       "<div>\n",
       "<style scoped>\n",
       "    .dataframe tbody tr th:only-of-type {\n",
       "        vertical-align: middle;\n",
       "    }\n",
       "\n",
       "    .dataframe tbody tr th {\n",
       "        vertical-align: top;\n",
       "    }\n",
       "\n",
       "    .dataframe thead th {\n",
       "        text-align: right;\n",
       "    }\n",
       "</style>\n",
       "<table border=\"1\" class=\"dataframe\">\n",
       "  <thead>\n",
       "    <tr style=\"text-align: right;\">\n",
       "      <th></th>\n",
       "      <th>User_ID</th>\n",
       "      <th>Gender</th>\n",
       "      <th>Age</th>\n",
       "      <th>Occupation</th>\n",
       "      <th>City_Category</th>\n",
       "      <th>Stay_In_Current_City_Years</th>\n",
       "      <th>Marital_Status</th>\n",
       "      <th>Product_Category_1</th>\n",
       "      <th>Product_Category_2</th>\n",
       "      <th>Product_Category_3</th>\n",
       "      <th>Purchase</th>\n",
       "    </tr>\n",
       "  </thead>\n",
       "  <tbody>\n",
       "    <tr>\n",
       "      <th>0</th>\n",
       "      <td>1000001</td>\n",
       "      <td>F</td>\n",
       "      <td>0-17</td>\n",
       "      <td>10</td>\n",
       "      <td>A</td>\n",
       "      <td>2</td>\n",
       "      <td>0</td>\n",
       "      <td>3</td>\n",
       "      <td>NaN</td>\n",
       "      <td>NaN</td>\n",
       "      <td>8370</td>\n",
       "    </tr>\n",
       "    <tr>\n",
       "      <th>1</th>\n",
       "      <td>1000001</td>\n",
       "      <td>F</td>\n",
       "      <td>0-17</td>\n",
       "      <td>10</td>\n",
       "      <td>A</td>\n",
       "      <td>2</td>\n",
       "      <td>0</td>\n",
       "      <td>1</td>\n",
       "      <td>6.0</td>\n",
       "      <td>14.0</td>\n",
       "      <td>15200</td>\n",
       "    </tr>\n",
       "    <tr>\n",
       "      <th>2</th>\n",
       "      <td>1000001</td>\n",
       "      <td>F</td>\n",
       "      <td>0-17</td>\n",
       "      <td>10</td>\n",
       "      <td>A</td>\n",
       "      <td>2</td>\n",
       "      <td>0</td>\n",
       "      <td>12</td>\n",
       "      <td>NaN</td>\n",
       "      <td>NaN</td>\n",
       "      <td>1422</td>\n",
       "    </tr>\n",
       "  </tbody>\n",
       "</table>\n",
       "</div>"
      ],
      "text/plain": [
       "   User_ID Gender   Age  Occupation City_Category Stay_In_Current_City_Years  \\\n",
       "0  1000001      F  0-17          10             A                          2   \n",
       "1  1000001      F  0-17          10             A                          2   \n",
       "2  1000001      F  0-17          10             A                          2   \n",
       "\n",
       "   Marital_Status  Product_Category_1  Product_Category_2  Product_Category_3  \\\n",
       "0               0                   3                 NaN                 NaN   \n",
       "1               0                   1                 6.0                14.0   \n",
       "2               0                  12                 NaN                 NaN   \n",
       "\n",
       "   Purchase  \n",
       "0      8370  \n",
       "1     15200  \n",
       "2      1422  "
      ]
     },
     "execution_count": 9,
     "metadata": {},
     "output_type": "execute_result"
    }
   ],
   "source": [
    "df.drop(['Product_ID'], inplace= True, axis='columns')\n",
    "\n",
    "df.head(3)"
   ]
  },
  {
   "cell_type": "code",
   "execution_count": 10,
   "id": "2e056a2f",
   "metadata": {
    "execution": {
     "iopub.execute_input": "2025-06-20T11:37:17.158184Z",
     "iopub.status.busy": "2025-06-20T11:37:17.157667Z",
     "iopub.status.idle": "2025-06-20T11:37:17.189318Z",
     "shell.execute_reply": "2025-06-20T11:37:17.188431Z"
    },
    "papermill": {
     "duration": 0.040335,
     "end_time": "2025-06-20T11:37:17.190710",
     "exception": false,
     "start_time": "2025-06-20T11:37:17.150375",
     "status": "completed"
    },
    "tags": []
   },
   "outputs": [
    {
     "name": "stderr",
     "output_type": "stream",
     "text": [
      "/usr/local/lib/python3.11/dist-packages/pandas/io/formats/format.py:1458: RuntimeWarning: invalid value encountered in greater\n",
      "  has_large_values = (abs_vals > 1e6).any()\n",
      "/usr/local/lib/python3.11/dist-packages/pandas/io/formats/format.py:1459: RuntimeWarning: invalid value encountered in less\n",
      "  has_small_values = ((abs_vals < 10 ** (-self.digits)) & (abs_vals > 0)).any()\n",
      "/usr/local/lib/python3.11/dist-packages/pandas/io/formats/format.py:1459: RuntimeWarning: invalid value encountered in greater\n",
      "  has_small_values = ((abs_vals < 10 ** (-self.digits)) & (abs_vals > 0)).any()\n"
     ]
    },
    {
     "data": {
      "text/html": [
       "<div>\n",
       "<style scoped>\n",
       "    .dataframe tbody tr th:only-of-type {\n",
       "        vertical-align: middle;\n",
       "    }\n",
       "\n",
       "    .dataframe tbody tr th {\n",
       "        vertical-align: top;\n",
       "    }\n",
       "\n",
       "    .dataframe thead th {\n",
       "        text-align: right;\n",
       "    }\n",
       "</style>\n",
       "<table border=\"1\" class=\"dataframe\">\n",
       "  <thead>\n",
       "    <tr style=\"text-align: right;\">\n",
       "      <th></th>\n",
       "      <th>Gender</th>\n",
       "      <th>Age</th>\n",
       "      <th>Occupation</th>\n",
       "      <th>City_Category</th>\n",
       "      <th>Stay_In_Current_City_Years</th>\n",
       "      <th>Marital_Status</th>\n",
       "      <th>Product_Category_1</th>\n",
       "      <th>Product_Category_2</th>\n",
       "      <th>Product_Category_3</th>\n",
       "      <th>Purchase</th>\n",
       "    </tr>\n",
       "  </thead>\n",
       "  <tbody>\n",
       "    <tr>\n",
       "      <th>0</th>\n",
       "      <td>F</td>\n",
       "      <td>0-17</td>\n",
       "      <td>10</td>\n",
       "      <td>A</td>\n",
       "      <td>2</td>\n",
       "      <td>0</td>\n",
       "      <td>3</td>\n",
       "      <td>NaN</td>\n",
       "      <td>NaN</td>\n",
       "      <td>8370</td>\n",
       "    </tr>\n",
       "    <tr>\n",
       "      <th>1</th>\n",
       "      <td>F</td>\n",
       "      <td>0-17</td>\n",
       "      <td>10</td>\n",
       "      <td>A</td>\n",
       "      <td>2</td>\n",
       "      <td>0</td>\n",
       "      <td>1</td>\n",
       "      <td>6.0</td>\n",
       "      <td>14.0</td>\n",
       "      <td>15200</td>\n",
       "    </tr>\n",
       "    <tr>\n",
       "      <th>2</th>\n",
       "      <td>F</td>\n",
       "      <td>0-17</td>\n",
       "      <td>10</td>\n",
       "      <td>A</td>\n",
       "      <td>2</td>\n",
       "      <td>0</td>\n",
       "      <td>12</td>\n",
       "      <td>NaN</td>\n",
       "      <td>NaN</td>\n",
       "      <td>1422</td>\n",
       "    </tr>\n",
       "  </tbody>\n",
       "</table>\n",
       "</div>"
      ],
      "text/plain": [
       "  Gender   Age  Occupation City_Category Stay_In_Current_City_Years  \\\n",
       "0      F  0-17          10             A                          2   \n",
       "1      F  0-17          10             A                          2   \n",
       "2      F  0-17          10             A                          2   \n",
       "\n",
       "   Marital_Status  Product_Category_1  Product_Category_2  Product_Category_3  \\\n",
       "0               0                   3                 NaN                 NaN   \n",
       "1               0                   1                 6.0                14.0   \n",
       "2               0                  12                 NaN                 NaN   \n",
       "\n",
       "   Purchase  \n",
       "0      8370  \n",
       "1     15200  \n",
       "2      1422  "
      ]
     },
     "execution_count": 10,
     "metadata": {},
     "output_type": "execute_result"
    }
   ],
   "source": [
    "df.drop(['User_ID'], inplace= True, axis=1)\n",
    "\n",
    "df.head(3)"
   ]
  },
  {
   "cell_type": "code",
   "execution_count": 11,
   "id": "79a480d8",
   "metadata": {
    "execution": {
     "iopub.execute_input": "2025-06-20T11:37:17.206380Z",
     "iopub.status.busy": "2025-06-20T11:37:17.206095Z",
     "iopub.status.idle": "2025-06-20T11:37:17.232078Z",
     "shell.execute_reply": "2025-06-20T11:37:17.231538Z"
    },
    "papermill": {
     "duration": 0.034733,
     "end_time": "2025-06-20T11:37:17.233076",
     "exception": false,
     "start_time": "2025-06-20T11:37:17.198343",
     "status": "completed"
    },
    "tags": []
   },
   "outputs": [
    {
     "data": {
      "text/plain": [
       "array(['2', '4+', '3', '1', '0'], dtype=object)"
      ]
     },
     "execution_count": 11,
     "metadata": {},
     "output_type": "execute_result"
    }
   ],
   "source": [
    "df['Stay_In_Current_City_Years'].unique()"
   ]
  },
  {
   "cell_type": "code",
   "execution_count": 12,
   "id": "c7ce273b",
   "metadata": {
    "execution": {
     "iopub.execute_input": "2025-06-20T11:37:17.247842Z",
     "iopub.status.busy": "2025-06-20T11:37:17.247640Z",
     "iopub.status.idle": "2025-06-20T11:37:17.492492Z",
     "shell.execute_reply": "2025-06-20T11:37:17.491861Z"
    },
    "papermill": {
     "duration": 0.253753,
     "end_time": "2025-06-20T11:37:17.493709",
     "exception": false,
     "start_time": "2025-06-20T11:37:17.239956",
     "status": "completed"
    },
    "tags": []
   },
   "outputs": [
    {
     "data": {
      "text/plain": [
       "array([2, 4, 3, 1, 0])"
      ]
     },
     "execution_count": 12,
     "metadata": {},
     "output_type": "execute_result"
    }
   ],
   "source": [
    "def cities(value):\n",
    "    if '+' in value:\n",
    "        value = value.replace('+', '')\n",
    "        return int(value)\n",
    "    else:\n",
    "        return int(value)\n",
    "\n",
    "df['Stay_In_Current_City_Years'] = df['Stay_In_Current_City_Years'].apply(cities)\n",
    "\n",
    "df['Stay_In_Current_City_Years'].unique()"
   ]
  },
  {
   "cell_type": "code",
   "execution_count": 13,
   "id": "66258d2c",
   "metadata": {
    "execution": {
     "iopub.execute_input": "2025-06-20T11:37:17.509017Z",
     "iopub.status.busy": "2025-06-20T11:37:17.508788Z",
     "iopub.status.idle": "2025-06-20T11:37:17.534147Z",
     "shell.execute_reply": "2025-06-20T11:37:17.533632Z"
    },
    "papermill": {
     "duration": 0.034186,
     "end_time": "2025-06-20T11:37:17.535196",
     "exception": false,
     "start_time": "2025-06-20T11:37:17.501010",
     "status": "completed"
    },
    "tags": []
   },
   "outputs": [
    {
     "data": {
      "text/plain": [
       "array(['F', 'M'], dtype=object)"
      ]
     },
     "execution_count": 13,
     "metadata": {},
     "output_type": "execute_result"
    }
   ],
   "source": [
    "df['Gender'].unique()"
   ]
  },
  {
   "cell_type": "code",
   "execution_count": 14,
   "id": "8e45bb8d",
   "metadata": {
    "execution": {
     "iopub.execute_input": "2025-06-20T11:37:17.550356Z",
     "iopub.status.busy": "2025-06-20T11:37:17.550127Z",
     "iopub.status.idle": "2025-06-20T11:37:17.573707Z",
     "shell.execute_reply": "2025-06-20T11:37:17.573194Z"
    },
    "papermill": {
     "duration": 0.03231,
     "end_time": "2025-06-20T11:37:17.574661",
     "exception": false,
     "start_time": "2025-06-20T11:37:17.542351",
     "status": "completed"
    },
    "tags": []
   },
   "outputs": [
    {
     "data": {
      "text/plain": [
       "array(['0-17', '55+', '26-35', '46-50', '51-55', '36-45', '18-25'],\n",
       "      dtype=object)"
      ]
     },
     "execution_count": 14,
     "metadata": {},
     "output_type": "execute_result"
    }
   ],
   "source": [
    "df['Age'].unique()"
   ]
  },
  {
   "cell_type": "code",
   "execution_count": 15,
   "id": "a47baa68",
   "metadata": {
    "execution": {
     "iopub.execute_input": "2025-06-20T11:37:17.590154Z",
     "iopub.status.busy": "2025-06-20T11:37:17.589942Z",
     "iopub.status.idle": "2025-06-20T11:37:17.600970Z",
     "shell.execute_reply": "2025-06-20T11:37:17.600437Z"
    },
    "papermill": {
     "duration": 0.019921,
     "end_time": "2025-06-20T11:37:17.601957",
     "exception": false,
     "start_time": "2025-06-20T11:37:17.582036",
     "status": "completed"
    },
    "tags": []
   },
   "outputs": [
    {
     "name": "stderr",
     "output_type": "stream",
     "text": [
      "/usr/local/lib/python3.11/dist-packages/pandas/io/formats/format.py:1458: RuntimeWarning: invalid value encountered in greater\n",
      "  has_large_values = (abs_vals > 1e6).any()\n",
      "/usr/local/lib/python3.11/dist-packages/pandas/io/formats/format.py:1459: RuntimeWarning: invalid value encountered in less\n",
      "  has_small_values = ((abs_vals < 10 ** (-self.digits)) & (abs_vals > 0)).any()\n",
      "/usr/local/lib/python3.11/dist-packages/pandas/io/formats/format.py:1459: RuntimeWarning: invalid value encountered in greater\n",
      "  has_small_values = ((abs_vals < 10 ** (-self.digits)) & (abs_vals > 0)).any()\n"
     ]
    },
    {
     "data": {
      "text/html": [
       "<div>\n",
       "<style scoped>\n",
       "    .dataframe tbody tr th:only-of-type {\n",
       "        vertical-align: middle;\n",
       "    }\n",
       "\n",
       "    .dataframe tbody tr th {\n",
       "        vertical-align: top;\n",
       "    }\n",
       "\n",
       "    .dataframe thead th {\n",
       "        text-align: right;\n",
       "    }\n",
       "</style>\n",
       "<table border=\"1\" class=\"dataframe\">\n",
       "  <thead>\n",
       "    <tr style=\"text-align: right;\">\n",
       "      <th></th>\n",
       "      <th>Gender</th>\n",
       "      <th>Age</th>\n",
       "      <th>Occupation</th>\n",
       "      <th>City_Category</th>\n",
       "      <th>Stay_In_Current_City_Years</th>\n",
       "      <th>Marital_Status</th>\n",
       "      <th>Product_Category_1</th>\n",
       "      <th>Product_Category_2</th>\n",
       "      <th>Product_Category_3</th>\n",
       "      <th>Purchase</th>\n",
       "    </tr>\n",
       "  </thead>\n",
       "  <tbody>\n",
       "    <tr>\n",
       "      <th>0</th>\n",
       "      <td>F</td>\n",
       "      <td>0-17</td>\n",
       "      <td>10</td>\n",
       "      <td>A</td>\n",
       "      <td>2</td>\n",
       "      <td>0</td>\n",
       "      <td>3</td>\n",
       "      <td>NaN</td>\n",
       "      <td>NaN</td>\n",
       "      <td>8370</td>\n",
       "    </tr>\n",
       "    <tr>\n",
       "      <th>1</th>\n",
       "      <td>F</td>\n",
       "      <td>0-17</td>\n",
       "      <td>10</td>\n",
       "      <td>A</td>\n",
       "      <td>2</td>\n",
       "      <td>0</td>\n",
       "      <td>1</td>\n",
       "      <td>6.0</td>\n",
       "      <td>14.0</td>\n",
       "      <td>15200</td>\n",
       "    </tr>\n",
       "    <tr>\n",
       "      <th>2</th>\n",
       "      <td>F</td>\n",
       "      <td>0-17</td>\n",
       "      <td>10</td>\n",
       "      <td>A</td>\n",
       "      <td>2</td>\n",
       "      <td>0</td>\n",
       "      <td>12</td>\n",
       "      <td>NaN</td>\n",
       "      <td>NaN</td>\n",
       "      <td>1422</td>\n",
       "    </tr>\n",
       "    <tr>\n",
       "      <th>3</th>\n",
       "      <td>F</td>\n",
       "      <td>0-17</td>\n",
       "      <td>10</td>\n",
       "      <td>A</td>\n",
       "      <td>2</td>\n",
       "      <td>0</td>\n",
       "      <td>12</td>\n",
       "      <td>14.0</td>\n",
       "      <td>NaN</td>\n",
       "      <td>1057</td>\n",
       "    </tr>\n",
       "    <tr>\n",
       "      <th>4</th>\n",
       "      <td>M</td>\n",
       "      <td>55+</td>\n",
       "      <td>16</td>\n",
       "      <td>C</td>\n",
       "      <td>4</td>\n",
       "      <td>0</td>\n",
       "      <td>8</td>\n",
       "      <td>NaN</td>\n",
       "      <td>NaN</td>\n",
       "      <td>7969</td>\n",
       "    </tr>\n",
       "  </tbody>\n",
       "</table>\n",
       "</div>"
      ],
      "text/plain": [
       "  Gender   Age  Occupation City_Category  Stay_In_Current_City_Years  \\\n",
       "0      F  0-17          10             A                           2   \n",
       "1      F  0-17          10             A                           2   \n",
       "2      F  0-17          10             A                           2   \n",
       "3      F  0-17          10             A                           2   \n",
       "4      M   55+          16             C                           4   \n",
       "\n",
       "   Marital_Status  Product_Category_1  Product_Category_2  Product_Category_3  \\\n",
       "0               0                   3                 NaN                 NaN   \n",
       "1               0                   1                 6.0                14.0   \n",
       "2               0                  12                 NaN                 NaN   \n",
       "3               0                  12                14.0                 NaN   \n",
       "4               0                   8                 NaN                 NaN   \n",
       "\n",
       "   Purchase  \n",
       "0      8370  \n",
       "1     15200  \n",
       "2      1422  \n",
       "3      1057  \n",
       "4      7969  "
      ]
     },
     "execution_count": 15,
     "metadata": {},
     "output_type": "execute_result"
    }
   ],
   "source": [
    "df.head(5)"
   ]
  },
  {
   "cell_type": "code",
   "execution_count": 16,
   "id": "c43e1e8b",
   "metadata": {
    "execution": {
     "iopub.execute_input": "2025-06-20T11:37:17.617396Z",
     "iopub.status.busy": "2025-06-20T11:37:17.617136Z",
     "iopub.status.idle": "2025-06-20T11:37:17.624573Z",
     "shell.execute_reply": "2025-06-20T11:37:17.623965Z"
    },
    "papermill": {
     "duration": 0.01635,
     "end_time": "2025-06-20T11:37:17.625668",
     "exception": false,
     "start_time": "2025-06-20T11:37:17.609318",
     "status": "completed"
    },
    "tags": []
   },
   "outputs": [
    {
     "data": {
      "text/plain": [
       "array([ 3,  1, 12,  8,  5,  4,  2,  6, 14, 11, 13, 15,  7, 16, 18, 10, 17,\n",
       "        9, 20, 19])"
      ]
     },
     "execution_count": 16,
     "metadata": {},
     "output_type": "execute_result"
    }
   ],
   "source": [
    "df['Product_Category_1'].unique()"
   ]
  },
  {
   "cell_type": "code",
   "execution_count": 17,
   "id": "477d5163",
   "metadata": {
    "execution": {
     "iopub.execute_input": "2025-06-20T11:37:17.689499Z",
     "iopub.status.busy": "2025-06-20T11:37:17.689251Z",
     "iopub.status.idle": "2025-06-20T11:37:17.700325Z",
     "shell.execute_reply": "2025-06-20T11:37:17.699737Z"
    },
    "papermill": {
     "duration": 0.020354,
     "end_time": "2025-06-20T11:37:17.701390",
     "exception": false,
     "start_time": "2025-06-20T11:37:17.681036",
     "status": "completed"
    },
    "tags": []
   },
   "outputs": [
    {
     "data": {
      "text/plain": [
       "array([nan,  6., 14.,  2.,  8., 15., 16., 11.,  5.,  3.,  4., 12.,  9.,\n",
       "       10., 17., 13.,  7., 18.])"
      ]
     },
     "execution_count": 17,
     "metadata": {},
     "output_type": "execute_result"
    }
   ],
   "source": [
    "df['Product_Category_2'].unique()"
   ]
  },
  {
   "cell_type": "code",
   "execution_count": 18,
   "id": "89edf6c3",
   "metadata": {
    "execution": {
     "iopub.execute_input": "2025-06-20T11:37:17.716750Z",
     "iopub.status.busy": "2025-06-20T11:37:17.716543Z",
     "iopub.status.idle": "2025-06-20T11:37:17.724391Z",
     "shell.execute_reply": "2025-06-20T11:37:17.723669Z"
    },
    "papermill": {
     "duration": 0.016806,
     "end_time": "2025-06-20T11:37:17.725570",
     "exception": false,
     "start_time": "2025-06-20T11:37:17.708764",
     "status": "completed"
    },
    "tags": []
   },
   "outputs": [
    {
     "data": {
      "text/plain": [
       "31.56664266963357"
      ]
     },
     "execution_count": 18,
     "metadata": {},
     "output_type": "execute_result"
    }
   ],
   "source": [
    "(df['Product_Category_2'].isnull().sum() / len(df)) * 100"
   ]
  },
  {
   "cell_type": "code",
   "execution_count": 19,
   "id": "dd05a356",
   "metadata": {
    "execution": {
     "iopub.execute_input": "2025-06-20T11:37:17.740782Z",
     "iopub.status.busy": "2025-06-20T11:37:17.740603Z",
     "iopub.status.idle": "2025-06-20T11:37:17.791075Z",
     "shell.execute_reply": "2025-06-20T11:37:17.790484Z"
    },
    "papermill": {
     "duration": 0.059369,
     "end_time": "2025-06-20T11:37:17.792229",
     "exception": false,
     "start_time": "2025-06-20T11:37:17.732860",
     "status": "completed"
    },
    "tags": []
   },
   "outputs": [
    {
     "data": {
      "text/plain": [
       "Age\n",
       "0-17     4.0\n",
       "18-25    8.0\n",
       "26-35    8.0\n",
       "36-45    8.0\n",
       "46-50    8.0\n",
       "51-55    8.0\n",
       "55+      8.0\n",
       "Name: Product_Category_2, dtype: float64"
      ]
     },
     "execution_count": 19,
     "metadata": {},
     "output_type": "execute_result"
    }
   ],
   "source": [
    "s = df.groupby('Age')['Product_Category_2'].agg(pd.Series.mode)\n",
    "\n",
    "s"
   ]
  },
  {
   "cell_type": "code",
   "execution_count": 20,
   "id": "553381de",
   "metadata": {
    "execution": {
     "iopub.execute_input": "2025-06-20T11:37:17.808277Z",
     "iopub.status.busy": "2025-06-20T11:37:17.808051Z",
     "iopub.status.idle": "2025-06-20T11:37:18.086008Z",
     "shell.execute_reply": "2025-06-20T11:37:18.085425Z"
    },
    "papermill": {
     "duration": 0.28737,
     "end_time": "2025-06-20T11:37:18.087455",
     "exception": false,
     "start_time": "2025-06-20T11:37:17.800085",
     "status": "completed"
    },
    "tags": []
   },
   "outputs": [],
   "source": [
    "for key in s.index:\n",
    "    df.loc[(df['Age'] == key) & (df['Product_Category_2'].isnull()), 'Product_Category_2'] = s[key]"
   ]
  },
  {
   "cell_type": "code",
   "execution_count": 21,
   "id": "7e0e1e3e",
   "metadata": {
    "execution": {
     "iopub.execute_input": "2025-06-20T11:37:18.103599Z",
     "iopub.status.busy": "2025-06-20T11:37:18.103391Z",
     "iopub.status.idle": "2025-06-20T11:37:18.108902Z",
     "shell.execute_reply": "2025-06-20T11:37:18.108382Z"
    },
    "papermill": {
     "duration": 0.014587,
     "end_time": "2025-06-20T11:37:18.109915",
     "exception": false,
     "start_time": "2025-06-20T11:37:18.095328",
     "status": "completed"
    },
    "tags": []
   },
   "outputs": [
    {
     "data": {
      "text/plain": [
       "0"
      ]
     },
     "execution_count": 21,
     "metadata": {},
     "output_type": "execute_result"
    }
   ],
   "source": [
    "df['Product_Category_2'].isnull().sum()"
   ]
  },
  {
   "cell_type": "code",
   "execution_count": 22,
   "id": "b63bf8d3",
   "metadata": {
    "execution": {
     "iopub.execute_input": "2025-06-20T11:37:18.126484Z",
     "iopub.status.busy": "2025-06-20T11:37:18.126292Z",
     "iopub.status.idle": "2025-06-20T11:37:18.136235Z",
     "shell.execute_reply": "2025-06-20T11:37:18.135644Z"
    },
    "papermill": {
     "duration": 0.019695,
     "end_time": "2025-06-20T11:37:18.137473",
     "exception": false,
     "start_time": "2025-06-20T11:37:18.117778",
     "status": "completed"
    },
    "tags": []
   },
   "outputs": [
    {
     "data": {
      "text/plain": [
       "array([nan, 14., 17.,  5.,  4., 16., 15.,  8.,  9., 13.,  6., 12.,  3.,\n",
       "       18., 11., 10.])"
      ]
     },
     "execution_count": 22,
     "metadata": {},
     "output_type": "execute_result"
    }
   ],
   "source": [
    "df['Product_Category_3'].unique()"
   ]
  },
  {
   "cell_type": "code",
   "execution_count": 23,
   "id": "aec64a81",
   "metadata": {
    "execution": {
     "iopub.execute_input": "2025-06-20T11:37:18.153585Z",
     "iopub.status.busy": "2025-06-20T11:37:18.153363Z",
     "iopub.status.idle": "2025-06-20T11:37:18.160665Z",
     "shell.execute_reply": "2025-06-20T11:37:18.160185Z"
    },
    "papermill": {
     "duration": 0.016564,
     "end_time": "2025-06-20T11:37:18.161707",
     "exception": false,
     "start_time": "2025-06-20T11:37:18.145143",
     "status": "completed"
    },
    "tags": []
   },
   "outputs": [
    {
     "data": {
      "text/plain": [
       "69.67265865311198"
      ]
     },
     "execution_count": 23,
     "metadata": {},
     "output_type": "execute_result"
    }
   ],
   "source": [
    "(df['Product_Category_3'].isnull().sum() / len(df)) * 100"
   ]
  },
  {
   "cell_type": "code",
   "execution_count": 24,
   "id": "8e6a3bb8",
   "metadata": {
    "execution": {
     "iopub.execute_input": "2025-06-20T11:37:18.178184Z",
     "iopub.status.busy": "2025-06-20T11:37:18.177772Z",
     "iopub.status.idle": "2025-06-20T11:37:18.220924Z",
     "shell.execute_reply": "2025-06-20T11:37:18.220251Z"
    },
    "papermill": {
     "duration": 0.052573,
     "end_time": "2025-06-20T11:37:18.222025",
     "exception": false,
     "start_time": "2025-06-20T11:37:18.169452",
     "status": "completed"
    },
    "tags": []
   },
   "outputs": [
    {
     "data": {
      "text/plain": [
       "Age\n",
       "0-17     16.0\n",
       "18-25    16.0\n",
       "26-35    16.0\n",
       "36-45    16.0\n",
       "46-50    16.0\n",
       "51-55    16.0\n",
       "55+      16.0\n",
       "Name: Product_Category_3, dtype: float64"
      ]
     },
     "execution_count": 24,
     "metadata": {},
     "output_type": "execute_result"
    }
   ],
   "source": [
    "p = df.groupby('Age')['Product_Category_3'].agg(pd.Series.mode)\n",
    "\n",
    "p"
   ]
  },
  {
   "cell_type": "code",
   "execution_count": 25,
   "id": "85cb6971",
   "metadata": {
    "execution": {
     "iopub.execute_input": "2025-06-20T11:37:18.238920Z",
     "iopub.status.busy": "2025-06-20T11:37:18.238673Z",
     "iopub.status.idle": "2025-06-20T11:37:18.518954Z",
     "shell.execute_reply": "2025-06-20T11:37:18.518414Z"
    },
    "papermill": {
     "duration": 0.290103,
     "end_time": "2025-06-20T11:37:18.520251",
     "exception": false,
     "start_time": "2025-06-20T11:37:18.230148",
     "status": "completed"
    },
    "tags": []
   },
   "outputs": [],
   "source": [
    "for key in p.index:\n",
    "    df.loc[(df['Age'] == key) & (df['Product_Category_3'].isnull()), 'Product_Category_3'] = p[key]"
   ]
  },
  {
   "cell_type": "code",
   "execution_count": 26,
   "id": "6a29e9ad",
   "metadata": {
    "execution": {
     "iopub.execute_input": "2025-06-20T11:37:18.537080Z",
     "iopub.status.busy": "2025-06-20T11:37:18.536853Z",
     "iopub.status.idle": "2025-06-20T11:37:18.542852Z",
     "shell.execute_reply": "2025-06-20T11:37:18.542339Z"
    },
    "papermill": {
     "duration": 0.015471,
     "end_time": "2025-06-20T11:37:18.543950",
     "exception": false,
     "start_time": "2025-06-20T11:37:18.528479",
     "status": "completed"
    },
    "tags": []
   },
   "outputs": [
    {
     "data": {
      "text/plain": [
       "0"
      ]
     },
     "execution_count": 26,
     "metadata": {},
     "output_type": "execute_result"
    }
   ],
   "source": [
    "df['Product_Category_3'].isnull().sum()"
   ]
  },
  {
   "cell_type": "code",
   "execution_count": 27,
   "id": "04d460dc",
   "metadata": {
    "execution": {
     "iopub.execute_input": "2025-06-20T11:37:18.560907Z",
     "iopub.status.busy": "2025-06-20T11:37:18.560256Z",
     "iopub.status.idle": "2025-06-20T11:37:18.643290Z",
     "shell.execute_reply": "2025-06-20T11:37:18.642366Z"
    },
    "papermill": {
     "duration": 0.092573,
     "end_time": "2025-06-20T11:37:18.644445",
     "exception": false,
     "start_time": "2025-06-20T11:37:18.551872",
     "status": "completed"
    },
    "tags": []
   },
   "outputs": [
    {
     "name": "stdout",
     "output_type": "stream",
     "text": [
      "<class 'pandas.core.frame.DataFrame'>\n",
      "RangeIndex: 550068 entries, 0 to 550067\n",
      "Data columns (total 10 columns):\n",
      " #   Column                      Non-Null Count   Dtype  \n",
      "---  ------                      --------------   -----  \n",
      " 0   Gender                      550068 non-null  object \n",
      " 1   Age                         550068 non-null  object \n",
      " 2   Occupation                  550068 non-null  int64  \n",
      " 3   City_Category               550068 non-null  object \n",
      " 4   Stay_In_Current_City_Years  550068 non-null  int64  \n",
      " 5   Marital_Status              550068 non-null  int64  \n",
      " 6   Product_Category_1          550068 non-null  int64  \n",
      " 7   Product_Category_2          550068 non-null  float64\n",
      " 8   Product_Category_3          550068 non-null  float64\n",
      " 9   Purchase                    550068 non-null  int64  \n",
      "dtypes: float64(2), int64(5), object(3)\n",
      "memory usage: 42.0+ MB\n"
     ]
    }
   ],
   "source": [
    "df.info()"
   ]
  },
  {
   "cell_type": "code",
   "execution_count": 28,
   "id": "91382f64",
   "metadata": {
    "execution": {
     "iopub.execute_input": "2025-06-20T11:37:18.661545Z",
     "iopub.status.busy": "2025-06-20T11:37:18.661301Z",
     "iopub.status.idle": "2025-06-20T11:37:23.611642Z",
     "shell.execute_reply": "2025-06-20T11:37:23.610940Z"
    },
    "papermill": {
     "duration": 4.960012,
     "end_time": "2025-06-20T11:37:23.612768",
     "exception": false,
     "start_time": "2025-06-20T11:37:18.652756",
     "status": "completed"
    },
    "tags": []
   },
   "outputs": [
    {
     "data": {
      "text/plain": [
       "<Axes: title={'center': 'Age Vs. Purchase'}, xlabel='Age', ylabel='Purchase'>"
      ]
     },
     "execution_count": 28,
     "metadata": {},
     "output_type": "execute_result"
    },
    {
     "data": {
      "image/png": "[encoded data removed]",
      "text/plain": [
       "<Figure size 480x480 with 1 Axes>"
      ]
     },
     "metadata": {},
     "output_type": "display_data"
    }
   ],
   "source": [
    "plt.figure(figsize= (6, 6), dpi= 80)\n",
    "plt.title('Age Vs. Purchase')\n",
    "sns.barplot(x= 'Age', y= 'Purchase', data= df, palette= 'Set1')"
   ]
  },
  {
   "cell_type": "code",
   "execution_count": 29,
   "id": "6ed24fb2",
   "metadata": {
    "execution": {
     "iopub.execute_input": "2025-06-20T11:37:23.630926Z",
     "iopub.status.busy": "2025-06-20T11:37:23.630538Z",
     "iopub.status.idle": "2025-06-20T11:37:27.581975Z",
     "shell.execute_reply": "2025-06-20T11:37:27.581305Z"
    },
    "papermill": {
     "duration": 3.962093,
     "end_time": "2025-06-20T11:37:27.583833",
     "exception": false,
     "start_time": "2025-06-20T11:37:23.621740",
     "status": "completed"
    },
    "tags": []
   },
   "outputs": [
    {
     "name": "stderr",
     "output_type": "stream",
     "text": [
      "/usr/local/lib/python3.11/dist-packages/seaborn/_oldcore.py:1119: FutureWarning: use_inf_as_na option is deprecated and will be removed in a future version. Convert inf values to NaN before operating instead.\n",
      "  with pd.option_context('mode.use_inf_as_na', True):\n"
     ]
    },
    {
     "data": {
      "image/png": "[encoded data removed]",
      "text/plain": [
       "<Figure size 960x960 with 8 Axes>"
      ]
     },
     "metadata": {},
     "output_type": "display_data"
    }
   ],
   "source": [
    "plt.figure(figsize= (12, 12), dpi= 80)\n",
    "plt.subplot(4, 2, 1)\n",
    "plt.title('Gender')\n",
    "sns.countplot(x= 'Gender', data= df, palette= 'muted')\n",
    "\n",
    "plt.subplot(4, 2, 3)\n",
    "plt.title('Age')\n",
    "sns.countplot(x= 'Age', data= df, palette= 'rocket')\n",
    " \n",
    "plt.subplot(4, 2, 2)\n",
    "plt.title('Occupation')\n",
    "sns.countplot(x= 'Occupation', data= df, palette= 'colorblind')\n",
    "\n",
    "plt.subplot(4, 2, 4)\n",
    "plt.title('City_Category')\n",
    "sns.countplot(x= 'City_Category', data= df, palette= 'crest')\n",
    "\n",
    "plt.subplot(4, 2, 5)\n",
    "plt.title('Stay_In_Current_City_Years')\n",
    "sns.countplot(x= 'Stay_In_Current_City_Years', data= df, palette= 'coolwarm')\n",
    "\n",
    "plt.subplot(4, 2, 6)\n",
    "plt.title('Marital_Status')\n",
    "sns.countplot(x= 'Marital_Status', data= df, palette= 'hot')\n",
    "\n",
    "ax = plt.subplot(4, 2, 8)\n",
    "plt.title('Purchase')\n",
    "ax.set_xlim(0, 26000)\n",
    "ax.set_ylim(0, 0.00015)\n",
    "sns.kdeplot(df['Purchase'])\n",
    "\n",
    "plt.subplot(4, 2, 7)\n",
    "plt.title('Product_Category_1')\n",
    "sns.countplot(x= 'Product_Category_1', data= df, palette= 'viridis')\n",
    "\n",
    "plt.tight_layout()\n",
    "plt.show()"
   ]
  },
  {
   "cell_type": "code",
   "execution_count": 30,
   "id": "ba04450e",
   "metadata": {
    "execution": {
     "iopub.execute_input": "2025-06-20T11:37:27.603358Z",
     "iopub.status.busy": "2025-06-20T11:37:27.603122Z",
     "iopub.status.idle": "2025-06-20T11:37:42.472528Z",
     "shell.execute_reply": "2025-06-20T11:37:42.471866Z"
    },
    "papermill": {
     "duration": 14.880529,
     "end_time": "2025-06-20T11:37:42.473864",
     "exception": false,
     "start_time": "2025-06-20T11:37:27.593335",
     "status": "completed"
    },
    "tags": []
   },
   "outputs": [
    {
     "data": {
      "text/plain": [
       "<function matplotlib.pyplot.show(close=None, block=None)>"
      ]
     },
     "execution_count": 30,
     "metadata": {},
     "output_type": "execute_result"
    },
    {
     "data": {
      "image/png": "[encoded data removed]",
      "text/plain": [
       "<Figure size 640x640 with 3 Axes>"
      ]
     },
     "metadata": {},
     "output_type": "display_data"
    }
   ],
   "source": [
    "plt.figure(figsize= (8, 8), dpi= 80)\n",
    "plt.subplot(2, 2, 1)\n",
    "plt.title('Gender Vs. Purchase')\n",
    "sns.barplot(x= 'Gender', y= 'Purchase', data= df, palette= 'autumn')\n",
    "\n",
    "plt.subplot(2, 2, 2)\n",
    "plt.title('Marital_Status Vs. Purchase')\n",
    "sns.barplot(x= 'Marital_Status', y= 'Purchase', hue= 'Gender', data= df, palette= 'viridis')\n",
    "\n",
    "plt.subplot(2, 2, 3)\n",
    "plt.title('City_Category Vs. Purchase')\n",
    "sns.barplot(x= 'City_Category', y= 'Purchase', data= df, hue= 'Gender', palette= 'Purples')\n",
    "\n",
    "plt.tight_layout()\n",
    "plt.show"
   ]
  },
  {
   "cell_type": "code",
   "execution_count": 31,
   "id": "b5444d7a",
   "metadata": {
    "execution": {
     "iopub.execute_input": "2025-06-20T11:37:42.495834Z",
     "iopub.status.busy": "2025-06-20T11:37:42.495400Z",
     "iopub.status.idle": "2025-06-20T11:37:47.613061Z",
     "shell.execute_reply": "2025-06-20T11:37:47.612351Z"
    },
    "papermill": {
     "duration": 5.128904,
     "end_time": "2025-06-20T11:37:47.614143",
     "exception": false,
     "start_time": "2025-06-20T11:37:42.485239",
     "status": "completed"
    },
    "tags": []
   },
   "outputs": [
    {
     "data": {
      "text/plain": [
       "<Axes: title={'center': 'Marital_Status Vs. Purchase'}, xlabel='Marital_Status', ylabel='Purchase'>"
      ]
     },
     "execution_count": 31,
     "metadata": {},
     "output_type": "execute_result"
    },
    {
     "data": {
      "image/png": "[encoded data removed]",
      "text/plain": [
       "<Figure size 640x640 with 1 Axes>"
      ]
     },
     "metadata": {},
     "output_type": "display_data"
    }
   ],
   "source": [
    "plt.figure(figsize= (8, 8), dpi= 80)\n",
    "plt.title('Marital_Status Vs. Purchase')\n",
    "sns.barplot(x= 'Marital_Status', y= 'Purchase', hue= 'Age', data= df, palette= 'dark')"
   ]
  },
  {
   "cell_type": "code",
   "execution_count": 32,
   "id": "727871e8",
   "metadata": {
    "execution": {
     "iopub.execute_input": "2025-06-20T11:37:47.636094Z",
     "iopub.status.busy": "2025-06-20T11:37:47.635907Z",
     "iopub.status.idle": "2025-06-20T11:37:47.768377Z",
     "shell.execute_reply": "2025-06-20T11:37:47.767680Z"
    },
    "papermill": {
     "duration": 0.145021,
     "end_time": "2025-06-20T11:37:47.769562",
     "exception": false,
     "start_time": "2025-06-20T11:37:47.624541",
     "status": "completed"
    },
    "tags": []
   },
   "outputs": [
    {
     "data": {
      "text/html": [
       "<div>\n",
       "<style scoped>\n",
       "    .dataframe tbody tr th:only-of-type {\n",
       "        vertical-align: middle;\n",
       "    }\n",
       "\n",
       "    .dataframe tbody tr th {\n",
       "        vertical-align: top;\n",
       "    }\n",
       "\n",
       "    .dataframe thead th {\n",
       "        text-align: right;\n",
       "    }\n",
       "</style>\n",
       "<table border=\"1\" class=\"dataframe\">\n",
       "  <thead>\n",
       "    <tr style=\"text-align: right;\">\n",
       "      <th></th>\n",
       "      <th>City_Category</th>\n",
       "    </tr>\n",
       "    <tr>\n",
       "      <th>City_Category</th>\n",
       "      <th></th>\n",
       "    </tr>\n",
       "  </thead>\n",
       "  <tbody>\n",
       "    <tr>\n",
       "      <th>A</th>\n",
       "      <td>147720</td>\n",
       "    </tr>\n",
       "    <tr>\n",
       "      <th>B</th>\n",
       "      <td>231173</td>\n",
       "    </tr>\n",
       "    <tr>\n",
       "      <th>C</th>\n",
       "      <td>171175</td>\n",
       "    </tr>\n",
       "  </tbody>\n",
       "</table>\n",
       "</div>"
      ],
      "text/plain": [
       "               City_Category\n",
       "City_Category               \n",
       "A                     147720\n",
       "B                     231173\n",
       "C                     171175"
      ]
     },
     "metadata": {},
     "output_type": "display_data"
    },
    {
     "data": {
      "image/png": "[encoded data removed]",
      "text/plain": [
       "<Figure size 450x450 with 1 Axes>"
      ]
     },
     "metadata": {},
     "output_type": "display_data"
    }
   ],
   "source": [
    "plt.figure(figsize= (5, 5), dpi= 90)\n",
    "plt.title('City_Category')\n",
    "palette_color= sns.color_palette('bright')\n",
    "b = df.groupby('City_Category')['City_Category'].agg('count')\n",
    "\n",
    "display(b.to_frame())\n",
    "plt.pie(b, labels= b.index, autopct= '%.0f%%')\n",
    "\n",
    "plt.show()"
   ]
  },
  {
   "cell_type": "code",
   "execution_count": 33,
   "id": "caf3eab1",
   "metadata": {
    "execution": {
     "iopub.execute_input": "2025-06-20T11:37:47.791477Z",
     "iopub.status.busy": "2025-06-20T11:37:47.791290Z",
     "iopub.status.idle": "2025-06-20T11:38:02.512973Z",
     "shell.execute_reply": "2025-06-20T11:38:02.512197Z"
    },
    "papermill": {
     "duration": 14.733874,
     "end_time": "2025-06-20T11:38:02.514258",
     "exception": false,
     "start_time": "2025-06-20T11:37:47.780384",
     "status": "completed"
    },
    "tags": []
   },
   "outputs": [
    {
     "data": {
      "image/png": "[encoded data removed]",
      "text/plain": [
       "<Figure size 800x400 with 3 Axes>"
      ]
     },
     "metadata": {},
     "output_type": "display_data"
    }
   ],
   "source": [
    "plt.figure(figsize= (10, 5), dpi= 80)\n",
    "plt.subplot(2, 2, 1)\n",
    "plt.title('Product_Category_1 Vs. Purchase')\n",
    "sns.barplot(x= 'Product_Category_1', y= 'Purchase', data= df)\n",
    "plt.xticks(rotation= 90)\n",
    "\n",
    "plt.subplot(2, 2, 2)\n",
    "plt.title('Product_Category_2 Vs. Purchase')\n",
    "sns.barplot(x= 'Product_Category_2', y= 'Purchase', data= df)\n",
    "plt.xticks(rotation= 90)\n",
    "\n",
    "plt.subplot(2, 2, 3)\n",
    "plt.title('Product_Category_3 Vs. Purchase')\n",
    "sns.barplot(x= 'Product_Category_3', y= 'Purchase', data= df)\n",
    "plt.xticks(rotation= 90)\n",
    "\n",
    "plt.tight_layout()\n",
    "plt.show()"
   ]
  },
  {
   "cell_type": "code",
   "execution_count": 34,
   "id": "581628b5",
   "metadata": {
    "execution": {
     "iopub.execute_input": "2025-06-20T11:38:02.537508Z",
     "iopub.status.busy": "2025-06-20T11:38:02.536964Z",
     "iopub.status.idle": "2025-06-20T11:38:03.071332Z",
     "shell.execute_reply": "2025-06-20T11:38:03.070571Z"
    },
    "papermill": {
     "duration": 0.546791,
     "end_time": "2025-06-20T11:38:03.072501",
     "exception": false,
     "start_time": "2025-06-20T11:38:02.525710",
     "status": "completed"
    },
    "tags": []
   },
   "outputs": [
    {
     "name": "stderr",
     "output_type": "stream",
     "text": [
      "/usr/local/lib/python3.11/dist-packages/seaborn/_oldcore.py:1119: FutureWarning: use_inf_as_na option is deprecated and will be removed in a future version. Convert inf values to NaN before operating instead.\n",
      "  with pd.option_context('mode.use_inf_as_na', True):\n",
      "/usr/local/lib/python3.11/dist-packages/seaborn/_oldcore.py:1119: FutureWarning: use_inf_as_na option is deprecated and will be removed in a future version. Convert inf values to NaN before operating instead.\n",
      "  with pd.option_context('mode.use_inf_as_na', True):\n"
     ]
    },
    {
     "data": {
      "image/png": "[encoded data removed]",
      "text/plain": [
       "<Figure size 700x350 with 2 Axes>"
      ]
     },
     "metadata": {},
     "output_type": "display_data"
    }
   ],
   "source": [
    "plt.figure(figsize=(10,5),dpi=70)\n",
    "plt.subplot(1,2,1)\n",
    "um=df[df['Marital_Status']==0].value_counts('Purchase')\n",
    "plt.title('Unmarried')\n",
    "sns.kdeplot(x= 'Purchase',data= um)\n",
    "\n",
    "plt.subplot(1,2,2)\n",
    "m=df[df['Marital_Status']==1].value_counts('Purchase')\n",
    "plt.title('Married')\n",
    "sns.kdeplot(x= 'Purchase',data= m)\n",
    "\n",
    "plt.tight_layout()\n",
    "plt.show()"
   ]
  },
  {
   "cell_type": "code",
   "execution_count": 35,
   "id": "6758c27a",
   "metadata": {
    "execution": {
     "iopub.execute_input": "2025-06-20T11:38:03.096436Z",
     "iopub.status.busy": "2025-06-20T11:38:03.096225Z",
     "iopub.status.idle": "2025-06-20T11:38:03.790062Z",
     "shell.execute_reply": "2025-06-20T11:38:03.789306Z"
    },
    "papermill": {
     "duration": 0.707076,
     "end_time": "2025-06-20T11:38:03.791332",
     "exception": false,
     "start_time": "2025-06-20T11:38:03.084256",
     "status": "completed"
    },
    "tags": []
   },
   "outputs": [
    {
     "name": "stderr",
     "output_type": "stream",
     "text": [
      "/usr/local/lib/python3.11/dist-packages/seaborn/_oldcore.py:1119: FutureWarning: use_inf_as_na option is deprecated and will be removed in a future version. Convert inf values to NaN before operating instead.\n",
      "  with pd.option_context('mode.use_inf_as_na', True):\n",
      "/usr/local/lib/python3.11/dist-packages/seaborn/_oldcore.py:1119: FutureWarning: use_inf_as_na option is deprecated and will be removed in a future version. Convert inf values to NaN before operating instead.\n",
      "  with pd.option_context('mode.use_inf_as_na', True):\n"
     ]
    },
    {
     "data": {
      "image/png": "[encoded data removed]",
      "text/plain": [
       "<Figure size 700x350 with 2 Axes>"
      ]
     },
     "metadata": {},
     "output_type": "display_data"
    }
   ],
   "source": [
    "plt.figure(figsize=(10,5),dpi=70)\n",
    "plt.subplot(1,2,1)\n",
    "f=df[df['Gender']=='F'].value_counts('Purchase')\n",
    "plt.title('Female')\n",
    "sns.kdeplot(x= 'Purchase',data=f)\n",
    "\n",
    "plt.subplot(1,2,2)\n",
    "ma=df[df['Gender']=='M'].value_counts('Purchase')\n",
    "plt.title('Male')\n",
    "sns.kdeplot(x= 'Purchase',data=ma)\n",
    "\n",
    "plt.tight_layout()\n",
    "plt.show()"
   ]
  },
  {
   "cell_type": "code",
   "execution_count": 36,
   "id": "b4b2814e",
   "metadata": {
    "execution": {
     "iopub.execute_input": "2025-06-20T11:38:03.817043Z",
     "iopub.status.busy": "2025-06-20T11:38:03.816598Z",
     "iopub.status.idle": "2025-06-20T11:38:03.907577Z",
     "shell.execute_reply": "2025-06-20T11:38:03.906743Z"
    },
    "papermill": {
     "duration": 0.104753,
     "end_time": "2025-06-20T11:38:03.908619",
     "exception": false,
     "start_time": "2025-06-20T11:38:03.803866",
     "status": "completed"
    },
    "tags": []
   },
   "outputs": [
    {
     "name": "stdout",
     "output_type": "stream",
     "text": [
      "<class 'pandas.core.frame.DataFrame'>\n",
      "RangeIndex: 550068 entries, 0 to 550067\n",
      "Data columns (total 10 columns):\n",
      " #   Column                      Non-Null Count   Dtype  \n",
      "---  ------                      --------------   -----  \n",
      " 0   Gender                      550068 non-null  object \n",
      " 1   Age                         550068 non-null  object \n",
      " 2   Occupation                  550068 non-null  int64  \n",
      " 3   City_Category               550068 non-null  object \n",
      " 4   Stay_In_Current_City_Years  550068 non-null  int64  \n",
      " 5   Marital_Status              550068 non-null  int64  \n",
      " 6   Product_Category_1          550068 non-null  int64  \n",
      " 7   Product_Category_2          550068 non-null  float64\n",
      " 8   Product_Category_3          550068 non-null  float64\n",
      " 9   Purchase                    550068 non-null  int64  \n",
      "dtypes: float64(2), int64(5), object(3)\n",
      "memory usage: 42.0+ MB\n"
     ]
    }
   ],
   "source": [
    "df.info()"
   ]
  },
  {
   "cell_type": "code",
   "execution_count": 37,
   "id": "b9e49d06",
   "metadata": {
    "execution": {
     "iopub.execute_input": "2025-06-20T11:38:03.933564Z",
     "iopub.status.busy": "2025-06-20T11:38:03.933353Z",
     "iopub.status.idle": "2025-06-20T11:38:04.267368Z",
     "shell.execute_reply": "2025-06-20T11:38:04.266640Z"
    },
    "papermill": {
     "duration": 0.347934,
     "end_time": "2025-06-20T11:38:04.268503",
     "exception": false,
     "start_time": "2025-06-20T11:38:03.920569",
     "status": "completed"
    },
    "tags": []
   },
   "outputs": [
    {
     "data": {
      "text/html": [
       "<div>\n",
       "<style scoped>\n",
       "    .dataframe tbody tr th:only-of-type {\n",
       "        vertical-align: middle;\n",
       "    }\n",
       "\n",
       "    .dataframe tbody tr th {\n",
       "        vertical-align: top;\n",
       "    }\n",
       "\n",
       "    .dataframe thead th {\n",
       "        text-align: right;\n",
       "    }\n",
       "</style>\n",
       "<table border=\"1\" class=\"dataframe\">\n",
       "  <thead>\n",
       "    <tr style=\"text-align: right;\">\n",
       "      <th></th>\n",
       "      <th>Gender</th>\n",
       "      <th>Age</th>\n",
       "      <th>Occupation</th>\n",
       "      <th>City_Category</th>\n",
       "      <th>Stay_In_Current_City_Years</th>\n",
       "      <th>Marital_Status</th>\n",
       "      <th>Product_Category_1</th>\n",
       "      <th>Product_Category_2</th>\n",
       "      <th>Product_Category_3</th>\n",
       "      <th>Purchase</th>\n",
       "    </tr>\n",
       "  </thead>\n",
       "  <tbody>\n",
       "    <tr>\n",
       "      <th>0</th>\n",
       "      <td>0</td>\n",
       "      <td>0</td>\n",
       "      <td>10</td>\n",
       "      <td>0</td>\n",
       "      <td>2</td>\n",
       "      <td>0</td>\n",
       "      <td>3</td>\n",
       "      <td>4.0</td>\n",
       "      <td>16.0</td>\n",
       "      <td>8370</td>\n",
       "    </tr>\n",
       "    <tr>\n",
       "      <th>1</th>\n",
       "      <td>0</td>\n",
       "      <td>0</td>\n",
       "      <td>10</td>\n",
       "      <td>0</td>\n",
       "      <td>2</td>\n",
       "      <td>0</td>\n",
       "      <td>1</td>\n",
       "      <td>6.0</td>\n",
       "      <td>14.0</td>\n",
       "      <td>15200</td>\n",
       "    </tr>\n",
       "    <tr>\n",
       "      <th>2</th>\n",
       "      <td>0</td>\n",
       "      <td>0</td>\n",
       "      <td>10</td>\n",
       "      <td>0</td>\n",
       "      <td>2</td>\n",
       "      <td>0</td>\n",
       "      <td>12</td>\n",
       "      <td>4.0</td>\n",
       "      <td>16.0</td>\n",
       "      <td>1422</td>\n",
       "    </tr>\n",
       "    <tr>\n",
       "      <th>3</th>\n",
       "      <td>0</td>\n",
       "      <td>0</td>\n",
       "      <td>10</td>\n",
       "      <td>0</td>\n",
       "      <td>2</td>\n",
       "      <td>0</td>\n",
       "      <td>12</td>\n",
       "      <td>14.0</td>\n",
       "      <td>16.0</td>\n",
       "      <td>1057</td>\n",
       "    </tr>\n",
       "    <tr>\n",
       "      <th>4</th>\n",
       "      <td>1</td>\n",
       "      <td>6</td>\n",
       "      <td>16</td>\n",
       "      <td>2</td>\n",
       "      <td>4</td>\n",
       "      <td>0</td>\n",
       "      <td>8</td>\n",
       "      <td>8.0</td>\n",
       "      <td>16.0</td>\n",
       "      <td>7969</td>\n",
       "    </tr>\n",
       "  </tbody>\n",
       "</table>\n",
       "</div>"
      ],
      "text/plain": [
       "   Gender  Age  Occupation  City_Category  Stay_In_Current_City_Years  \\\n",
       "0       0    0          10              0                           2   \n",
       "1       0    0          10              0                           2   \n",
       "2       0    0          10              0                           2   \n",
       "3       0    0          10              0                           2   \n",
       "4       1    6          16              2                           4   \n",
       "\n",
       "   Marital_Status  Product_Category_1  Product_Category_2  Product_Category_3  \\\n",
       "0               0                   3                 4.0                16.0   \n",
       "1               0                   1                 6.0                14.0   \n",
       "2               0                  12                 4.0                16.0   \n",
       "3               0                  12                14.0                16.0   \n",
       "4               0                   8                 8.0                16.0   \n",
       "\n",
       "   Purchase  \n",
       "0      8370  \n",
       "1     15200  \n",
       "2      1422  \n",
       "3      1057  \n",
       "4      7969  "
      ]
     },
     "execution_count": 37,
     "metadata": {},
     "output_type": "execute_result"
    }
   ],
   "source": [
    "from sklearn.preprocessing import LabelEncoder\n",
    "lr = LabelEncoder()\n",
    "df['Gender'] = lr.fit_transform(df['Gender'])\n",
    "df['Age'] = lr.fit_transform(df['Age'])\n",
    "df['City_Category'] = lr.fit_transform(df['City_Category'])\n",
    "\n",
    "df.head()"
   ]
  },
  {
   "cell_type": "code",
   "execution_count": 38,
   "id": "3e78fcd4",
   "metadata": {
    "execution": {
     "iopub.execute_input": "2025-06-20T11:38:04.293743Z",
     "iopub.status.busy": "2025-06-20T11:38:04.293426Z",
     "iopub.status.idle": "2025-06-20T11:38:04.318092Z",
     "shell.execute_reply": "2025-06-20T11:38:04.317514Z"
    },
    "papermill": {
     "duration": 0.038557,
     "end_time": "2025-06-20T11:38:04.319396",
     "exception": false,
     "start_time": "2025-06-20T11:38:04.280839",
     "status": "completed"
    },
    "tags": []
   },
   "outputs": [],
   "source": [
    "x = df.drop('Purchase', axis=1)\n",
    "y = df['Purchase']"
   ]
  },
  {
   "cell_type": "code",
   "execution_count": 39,
   "id": "55db87b4",
   "metadata": {
    "execution": {
     "iopub.execute_input": "2025-06-20T11:38:04.344526Z",
     "iopub.status.busy": "2025-06-20T11:38:04.344080Z",
     "iopub.status.idle": "2025-06-20T11:38:04.513469Z",
     "shell.execute_reply": "2025-06-20T11:38:04.512905Z"
    },
    "papermill": {
     "duration": 0.183142,
     "end_time": "2025-06-20T11:38:04.514830",
     "exception": false,
     "start_time": "2025-06-20T11:38:04.331688",
     "status": "completed"
    },
    "tags": []
   },
   "outputs": [],
   "source": [
    "from sklearn.model_selection import train_test_split\n",
    "\n",
    "x_train, x_test, y_train, y_test = train_test_split(x, y, test_size= 0.3, random_state= 42)"
   ]
  },
  {
   "cell_type": "code",
   "execution_count": 40,
   "id": "78c98569",
   "metadata": {
    "execution": {
     "iopub.execute_input": "2025-06-20T11:38:04.545260Z",
     "iopub.status.busy": "2025-06-20T11:38:04.544983Z",
     "iopub.status.idle": "2025-06-20T11:38:04.850158Z",
     "shell.execute_reply": "2025-06-20T11:38:04.849459Z"
    },
    "papermill": {
     "duration": 0.3242,
     "end_time": "2025-06-20T11:38:04.851528",
     "exception": false,
     "start_time": "2025-06-20T11:38:04.527328",
     "status": "completed"
    },
    "tags": []
   },
   "outputs": [
    {
     "name": "stdout",
     "output_type": "stream",
     "text": [
      "MSE of Linear Regression Model is  3578.6095790882023\n"
     ]
    },
    {
     "data": {
      "text/plain": [
       "0.12899183854001894"
      ]
     },
     "execution_count": 40,
     "metadata": {},
     "output_type": "execute_result"
    }
   ],
   "source": [
    "from sklearn.linear_model import LinearRegression\n",
    "from sklearn.metrics import mean_absolute_error, r2_score\n",
    "\n",
    "lr = LinearRegression()\n",
    "lr.fit(x_train, y_train)\n",
    "\n",
    "y_pred = lr.predict(x_test)\n",
    "\n",
    "print('MSE of Linear Regression Model is ', mean_absolute_error(y_test, y_pred))\n",
    "r2_score(y_test, y_pred)"
   ]
  },
  {
   "cell_type": "code",
   "execution_count": 41,
   "id": "0e42b0f8",
   "metadata": {
    "execution": {
     "iopub.execute_input": "2025-06-20T11:38:04.879684Z",
     "iopub.status.busy": "2025-06-20T11:38:04.879433Z",
     "iopub.status.idle": "2025-06-20T11:38:04.993792Z",
     "shell.execute_reply": "2025-06-20T11:38:04.993197Z"
    },
    "papermill": {
     "duration": 0.132842,
     "end_time": "2025-06-20T11:38:04.998902",
     "exception": false,
     "start_time": "2025-06-20T11:38:04.866060",
     "status": "completed"
    },
    "tags": []
   },
   "outputs": [
    {
     "name": "stdout",
     "output_type": "stream",
     "text": [
      "MSE of Lasso Model is  3578.5534139588103\n"
     ]
    },
    {
     "data": {
      "text/plain": [
       "0.1289900991722437"
      ]
     },
     "execution_count": 41,
     "metadata": {},
     "output_type": "execute_result"
    }
   ],
   "source": [
    "from sklearn.linear_model import Lasso, Ridge, ElasticNet\n",
    "\n",
    "lasso = Lasso()\n",
    "ridge = Ridge()\n",
    "enet = ElasticNet()\n",
    "\n",
    "lasso.fit(x_train, y_train)\n",
    "y_pred = lasso.predict(x_test)\n",
    "\n",
    "print('MSE of Lasso Model is ', mean_absolute_error(y_test, y_pred))\n",
    "r2_score(y_test, y_pred)"
   ]
  },
  {
   "cell_type": "code",
   "execution_count": 42,
   "id": "bcd66e39",
   "metadata": {
    "execution": {
     "iopub.execute_input": "2025-06-20T11:38:05.046019Z",
     "iopub.status.busy": "2025-06-20T11:38:05.045772Z",
     "iopub.status.idle": "2025-06-20T11:38:05.131831Z",
     "shell.execute_reply": "2025-06-20T11:38:05.131099Z"
    },
    "papermill": {
     "duration": 0.10986,
     "end_time": "2025-06-20T11:38:05.133006",
     "exception": false,
     "start_time": "2025-06-20T11:38:05.023146",
     "status": "completed"
    },
    "tags": []
   },
   "outputs": [
    {
     "name": "stdout",
     "output_type": "stream",
     "text": [
      "MSE of Ridge Model is  3578.6095228832573\n"
     ]
    },
    {
     "data": {
      "text/plain": [
       "0.12899183579392237"
      ]
     },
     "execution_count": 42,
     "metadata": {},
     "output_type": "execute_result"
    }
   ],
   "source": [
    "ridge.fit(x_train, y_train)\n",
    "y_pred = ridge.predict(x_test)\n",
    "\n",
    "print('MSE of Ridge Model is ', mean_absolute_error(y_test, y_pred))\n",
    "r2_score(y_test, y_pred)"
   ]
  },
  {
   "cell_type": "code",
   "execution_count": 43,
   "id": "610bffbb",
   "metadata": {
    "execution": {
     "iopub.execute_input": "2025-06-20T11:38:05.161602Z",
     "iopub.status.busy": "2025-06-20T11:38:05.161374Z",
     "iopub.status.idle": "2025-06-20T11:38:05.258774Z",
     "shell.execute_reply": "2025-06-20T11:38:05.258001Z"
    },
    "papermill": {
     "duration": 0.11711,
     "end_time": "2025-06-20T11:38:05.265215",
     "exception": false,
     "start_time": "2025-06-20T11:38:05.148105",
     "status": "completed"
    },
    "tags": []
   },
   "outputs": [
    {
     "name": "stdout",
     "output_type": "stream",
     "text": [
      "MSE of ElasticNet Model is  3585.695847943828\n"
     ]
    },
    {
     "data": {
      "text/plain": [
       "0.12714943365235998"
      ]
     },
     "execution_count": 43,
     "metadata": {},
     "output_type": "execute_result"
    }
   ],
   "source": [
    "enet.fit(x_train, y_train)\n",
    "y_pred = enet.predict(x_test)\n",
    "\n",
    "print('MSE of ElasticNet Model is ', mean_absolute_error(y_test, y_pred))\n",
    "r2_score(y_test, y_pred)"
   ]
  },
  {
   "cell_type": "code",
   "execution_count": 44,
   "id": "6c16274d",
   "metadata": {
    "execution": {
     "iopub.execute_input": "2025-06-20T11:38:05.320910Z",
     "iopub.status.busy": "2025-06-20T11:38:05.320581Z",
     "iopub.status.idle": "2025-06-20T11:38:06.422019Z",
     "shell.execute_reply": "2025-06-20T11:38:06.421280Z"
    },
    "papermill": {
     "duration": 1.127398,
     "end_time": "2025-06-20T11:38:06.423258",
     "exception": false,
     "start_time": "2025-06-20T11:38:05.295860",
     "status": "completed"
    },
    "tags": []
   },
   "outputs": [
    {
     "name": "stdout",
     "output_type": "stream",
     "text": [
      "MSE of Decision Tree Model is  2358.4081295481596\n"
     ]
    },
    {
     "data": {
      "text/plain": [
       "0.5593523371672434"
      ]
     },
     "execution_count": 44,
     "metadata": {},
     "output_type": "execute_result"
    }
   ],
   "source": [
    "from sklearn.tree import DecisionTreeRegressor\n",
    "\n",
    "dt = DecisionTreeRegressor()\n",
    "\n",
    "dt.fit(x_train, y_train)\n",
    "\n",
    "y_pred = dt.predict(x_test)\n",
    "\n",
    "print('MSE of Decision Tree Model is ', mean_absolute_error(y_test, y_pred))\n",
    "r2_score(y_test, y_pred)"
   ]
  },
  {
   "cell_type": "code",
   "execution_count": 45,
   "id": "d44974c7",
   "metadata": {
    "execution": {
     "iopub.execute_input": "2025-06-20T11:38:06.451129Z",
     "iopub.status.busy": "2025-06-20T11:38:06.450898Z",
     "iopub.status.idle": "2025-06-20T11:39:17.358374Z",
     "shell.execute_reply": "2025-06-20T11:39:17.357688Z"
    },
    "papermill": {
     "duration": 70.936296,
     "end_time": "2025-06-20T11:39:17.372999",
     "exception": false,
     "start_time": "2025-06-20T11:38:06.436703",
     "status": "completed"
    },
    "tags": []
   },
   "outputs": [
    {
     "name": "stdout",
     "output_type": "stream",
     "text": [
      "MSE of Random Forest Model is  2224.1203907486847\n"
     ]
    },
    {
     "data": {
      "text/plain": [
       "0.6296084153777649"
      ]
     },
     "execution_count": 45,
     "metadata": {},
     "output_type": "execute_result"
    }
   ],
   "source": [
    "from sklearn.ensemble import RandomForestRegressor\n",
    "rf = RandomForestRegressor(random_state = 42)\n",
    "\n",
    "rf.fit(x_train, y_train)\n",
    "\n",
    "y_pred = rf.predict(x_test)\n",
    "\n",
    "print('MSE of Random Forest Model is ', mean_absolute_error(y_test, y_pred))\n",
    "r2_score(y_test, y_pred)"
   ]
  },
  {
   "cell_type": "code",
   "execution_count": 46,
   "id": "cacf26e4",
   "metadata": {
    "execution": {
     "iopub.execute_input": "2025-06-20T11:39:17.399471Z",
     "iopub.status.busy": "2025-06-20T11:39:17.399238Z",
     "iopub.status.idle": "2025-06-20T11:39:32.222187Z",
     "shell.execute_reply": "2025-06-20T11:39:32.221418Z"
    },
    "papermill": {
     "duration": 14.837427,
     "end_time": "2025-06-20T11:39:32.223356",
     "exception": false,
     "start_time": "2025-06-20T11:39:17.385929",
     "status": "completed"
    },
    "tags": []
   },
   "outputs": [
    {
     "name": "stdout",
     "output_type": "stream",
     "text": [
      "MSE of KNN Model is  2360.922789220766\n"
     ]
    },
    {
     "data": {
      "text/plain": [
       "0.5866043027085405"
      ]
     },
     "execution_count": 46,
     "metadata": {},
     "output_type": "execute_result"
    }
   ],
   "source": [
    "from sklearn.neighbors import KNeighborsRegressor\n",
    "\n",
    "knn = KNeighborsRegressor()\n",
    "\n",
    "knn.fit(x_train, y_train)\n",
    "\n",
    "y_pred = knn.predict(x_test)\n",
    "\n",
    "print('MSE of KNN Model is ', mean_absolute_error(y_test, y_pred))\n",
    "r2_score(y_test, y_pred)"
   ]
  },
  {
   "cell_type": "code",
   "execution_count": 47,
   "id": "ac801a14",
   "metadata": {
    "execution": {
     "iopub.execute_input": "2025-06-20T11:39:32.250604Z",
     "iopub.status.busy": "2025-06-20T11:39:32.250391Z",
     "iopub.status.idle": "2025-06-20T11:39:52.973199Z",
     "shell.execute_reply": "2025-06-20T11:39:52.972369Z"
    },
    "papermill": {
     "duration": 20.737544,
     "end_time": "2025-06-20T11:39:52.974420",
     "exception": false,
     "start_time": "2025-06-20T11:39:32.236876",
     "status": "completed"
    },
    "tags": []
   },
   "outputs": [
    {
     "name": "stdout",
     "output_type": "stream",
     "text": [
      "MSE of Gradient Boosting Model is  2360.922789220766\n"
     ]
    },
    {
     "data": {
      "text/plain": [
       "0.5866043027085405"
      ]
     },
     "execution_count": 47,
     "metadata": {},
     "output_type": "execute_result"
    }
   ],
   "source": [
    "from sklearn.ensemble import GradientBoostingRegressor\n",
    "\n",
    "gbr = GradientBoostingRegressor(random_state= 42)\n",
    "\n",
    "gbr.fit(x_train, y_train)\n",
    "\n",
    "ypred = gbr.predict(x_test)\n",
    "\n",
    "print('MSE of Gradient Boosting Model is ', mean_absolute_error(y_test, y_pred))\n",
    "r2_score(y_test, y_pred)"
   ]
  },
  {
   "cell_type": "code",
   "execution_count": 48,
   "id": "4200f300",
   "metadata": {
    "execution": {
     "iopub.execute_input": "2025-06-20T11:39:53.004748Z",
     "iopub.status.busy": "2025-06-20T11:39:53.004528Z",
     "iopub.status.idle": "2025-06-20T11:39:54.605109Z",
     "shell.execute_reply": "2025-06-20T11:39:54.604236Z"
    },
    "papermill": {
     "duration": 1.615908,
     "end_time": "2025-06-20T11:39:54.606722",
     "exception": false,
     "start_time": "2025-06-20T11:39:52.990814",
     "status": "completed"
    },
    "tags": []
   },
   "outputs": [
    {
     "name": "stdout",
     "output_type": "stream",
     "text": [
      "MSE of XGBoost Model is  2160.874440550259\n"
     ]
    },
    {
     "data": {
      "text/plain": [
       "0.6667150190827729"
      ]
     },
     "execution_count": 48,
     "metadata": {},
     "output_type": "execute_result"
    }
   ],
   "source": [
    "from xgboost.sklearn import XGBRegressor\n",
    "xgb = XGBRegressor(learning_rate= 1.0, max_depth= 6, min_child_weight= 40, seed= 42, tree_method='hist')\n",
    "\n",
    "xgb.fit(x_train, y_train)\n",
    "\n",
    "y_pred = xgb.predict(x_test)\n",
    "\n",
    "print('MSE of XGBoost Model is ', mean_absolute_error(y_test, y_pred))\n",
    "r2_score(y_test, y_pred)"
   ]
  },
  {
   "cell_type": "markdown",
   "id": "e6f7e297",
   "metadata": {
    "papermill": {
     "duration": 0.0147,
     "end_time": "2025-06-20T11:39:54.642572",
     "exception": false,
     "start_time": "2025-06-20T11:39:54.627872",
     "status": "completed"
    },
    "tags": []
   },
   "source": [
    "The best Model is XGBoost"
   ]
  }
 ],
 "metadata": {
  "kaggle": {
   "accelerator": "nvidiaTeslaT4",
   "dataSources": [
    {
     "datasetId": 2457185,
     "sourceId": 4163061,
     "sourceType": "datasetVersion"
    }
   ],
   "dockerImageVersionId": 31040,
   "isGpuEnabled": true,
   "isInternetEnabled": true,
   "language": "python",
   "sourceType": "notebook"
  },
  "kernelspec": {
   "display_name": "Python 3",
   "language": "python",
   "name": "python3"
  },
  "language_info": {
   "codemirror_mode": {
    "name": "ipython",
    "version": 3
   },
   "file_extension": ".py",
   "mimetype": "text/x-python",
   "name": "python",
   "nbconvert_exporter": "python",
   "pygments_lexer": "ipython3",
   "version": "3.11.11"
  },
  "papermill": {
   "default_parameters": {},
   "duration": 166.733336,
   "end_time": "2025-06-20T11:39:55.273455",
   "environment_variables": {},
   "exception": null,
   "input_path": "__notebook__.ipynb",
   "output_path": "__notebook__.ipynb",
   "parameters": {},
   "start_time": "2025-06-20T11:37:08.540119",
   "version": "2.6.0"
  }
 },
 "nbformat": 4,
 "nbformat_minor": 5
}
