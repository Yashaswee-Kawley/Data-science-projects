{
 "cells": [
  {
   "cell_type": "code",
   "execution_count": 1,
   "id": "0ee94c4e",
   "metadata": {
    "_cell_guid": "b1076dfc-b9ad-4769-8c92-a6c4dae69d19",
    "_uuid": "8f2839f25d086af736a60e9eeb907d3b93b6e0e5",
    "execution": {
     "iopub.execute_input": "2025-06-04T10:54:41.815800Z",
     "iopub.status.busy": "2025-06-04T10:54:41.815544Z",
     "iopub.status.idle": "2025-06-04T10:54:52.421773Z",
     "shell.execute_reply": "2025-06-04T10:54:52.414601Z"
    },
    "papermill": {
     "duration": 10.616674,
     "end_time": "2025-06-04T10:54:52.424272",
     "exception": false,
     "start_time": "2025-06-04T10:54:41.807598",
     "status": "completed"
    },
    "tags": []
   },
   "outputs": [
    {
     "data": {
      "text/html": [
       "<div>\n",
       "<style scoped>\n",
       "    .dataframe tbody tr th:only-of-type {\n",
       "        vertical-align: middle;\n",
       "    }\n",
       "\n",
       "    .dataframe tbody tr th {\n",
       "        vertical-align: top;\n",
       "    }\n",
       "\n",
       "    .dataframe thead th {\n",
       "        text-align: right;\n",
       "    }\n",
       "</style>\n",
       "<table border=\"1\" class=\"dataframe\">\n",
       "  <thead>\n",
       "    <tr style=\"text-align: right;\">\n",
       "      <th></th>\n",
       "      <th>Time</th>\n",
       "      <th>V1</th>\n",
       "      <th>V2</th>\n",
       "      <th>V3</th>\n",
       "      <th>V4</th>\n",
       "      <th>V5</th>\n",
       "      <th>V6</th>\n",
       "      <th>V7</th>\n",
       "      <th>V8</th>\n",
       "      <th>V9</th>\n",
       "      <th>...</th>\n",
       "      <th>V21</th>\n",
       "      <th>V22</th>\n",
       "      <th>V23</th>\n",
       "      <th>V24</th>\n",
       "      <th>V25</th>\n",
       "      <th>V26</th>\n",
       "      <th>V27</th>\n",
       "      <th>V28</th>\n",
       "      <th>Amount</th>\n",
       "      <th>Class</th>\n",
       "    </tr>\n",
       "  </thead>\n",
       "  <tbody>\n",
       "    <tr>\n",
       "      <th>0</th>\n",
       "      <td>0.0</td>\n",
       "      <td>-1.359807</td>\n",
       "      <td>-0.072781</td>\n",
       "      <td>2.536347</td>\n",
       "      <td>1.378155</td>\n",
       "      <td>-0.338321</td>\n",
       "      <td>0.462388</td>\n",
       "      <td>0.239599</td>\n",
       "      <td>0.098698</td>\n",
       "      <td>0.363787</td>\n",
       "      <td>...</td>\n",
       "      <td>-0.018307</td>\n",
       "      <td>0.277838</td>\n",
       "      <td>-0.110474</td>\n",
       "      <td>0.066928</td>\n",
       "      <td>0.128539</td>\n",
       "      <td>-0.189115</td>\n",
       "      <td>0.133558</td>\n",
       "      <td>-0.021053</td>\n",
       "      <td>149.62</td>\n",
       "      <td>0</td>\n",
       "    </tr>\n",
       "    <tr>\n",
       "      <th>1</th>\n",
       "      <td>0.0</td>\n",
       "      <td>1.191857</td>\n",
       "      <td>0.266151</td>\n",
       "      <td>0.166480</td>\n",
       "      <td>0.448154</td>\n",
       "      <td>0.060018</td>\n",
       "      <td>-0.082361</td>\n",
       "      <td>-0.078803</td>\n",
       "      <td>0.085102</td>\n",
       "      <td>-0.255425</td>\n",
       "      <td>...</td>\n",
       "      <td>-0.225775</td>\n",
       "      <td>-0.638672</td>\n",
       "      <td>0.101288</td>\n",
       "      <td>-0.339846</td>\n",
       "      <td>0.167170</td>\n",
       "      <td>0.125895</td>\n",
       "      <td>-0.008983</td>\n",
       "      <td>0.014724</td>\n",
       "      <td>2.69</td>\n",
       "      <td>0</td>\n",
       "    </tr>\n",
       "    <tr>\n",
       "      <th>2</th>\n",
       "      <td>1.0</td>\n",
       "      <td>-1.358354</td>\n",
       "      <td>-1.340163</td>\n",
       "      <td>1.773209</td>\n",
       "      <td>0.379780</td>\n",
       "      <td>-0.503198</td>\n",
       "      <td>1.800499</td>\n",
       "      <td>0.791461</td>\n",
       "      <td>0.247676</td>\n",
       "      <td>-1.514654</td>\n",
       "      <td>...</td>\n",
       "      <td>0.247998</td>\n",
       "      <td>0.771679</td>\n",
       "      <td>0.909412</td>\n",
       "      <td>-0.689281</td>\n",
       "      <td>-0.327642</td>\n",
       "      <td>-0.139097</td>\n",
       "      <td>-0.055353</td>\n",
       "      <td>-0.059752</td>\n",
       "      <td>378.66</td>\n",
       "      <td>0</td>\n",
       "    </tr>\n",
       "    <tr>\n",
       "      <th>3</th>\n",
       "      <td>1.0</td>\n",
       "      <td>-0.966272</td>\n",
       "      <td>-0.185226</td>\n",
       "      <td>1.792993</td>\n",
       "      <td>-0.863291</td>\n",
       "      <td>-0.010309</td>\n",
       "      <td>1.247203</td>\n",
       "      <td>0.237609</td>\n",
       "      <td>0.377436</td>\n",
       "      <td>-1.387024</td>\n",
       "      <td>...</td>\n",
       "      <td>-0.108300</td>\n",
       "      <td>0.005274</td>\n",
       "      <td>-0.190321</td>\n",
       "      <td>-1.175575</td>\n",
       "      <td>0.647376</td>\n",
       "      <td>-0.221929</td>\n",
       "      <td>0.062723</td>\n",
       "      <td>0.061458</td>\n",
       "      <td>123.50</td>\n",
       "      <td>0</td>\n",
       "    </tr>\n",
       "    <tr>\n",
       "      <th>4</th>\n",
       "      <td>2.0</td>\n",
       "      <td>-1.158233</td>\n",
       "      <td>0.877737</td>\n",
       "      <td>1.548718</td>\n",
       "      <td>0.403034</td>\n",
       "      <td>-0.407193</td>\n",
       "      <td>0.095921</td>\n",
       "      <td>0.592941</td>\n",
       "      <td>-0.270533</td>\n",
       "      <td>0.817739</td>\n",
       "      <td>...</td>\n",
       "      <td>-0.009431</td>\n",
       "      <td>0.798278</td>\n",
       "      <td>-0.137458</td>\n",
       "      <td>0.141267</td>\n",
       "      <td>-0.206010</td>\n",
       "      <td>0.502292</td>\n",
       "      <td>0.219422</td>\n",
       "      <td>0.215153</td>\n",
       "      <td>69.99</td>\n",
       "      <td>0</td>\n",
       "    </tr>\n",
       "  </tbody>\n",
       "</table>\n",
       "<p>5 rows × 31 columns</p>\n",
       "</div>"
      ],
      "text/plain": [
       "   Time        V1        V2        V3        V4        V5        V6        V7  \\\n",
       "0   0.0 -1.359807 -0.072781  2.536347  1.378155 -0.338321  0.462388  0.239599   \n",
       "1   0.0  1.191857  0.266151  0.166480  0.448154  0.060018 -0.082361 -0.078803   \n",
       "2   1.0 -1.358354 -1.340163  1.773209  0.379780 -0.503198  1.800499  0.791461   \n",
       "3   1.0 -0.966272 -0.185226  1.792993 -0.863291 -0.010309  1.247203  0.237609   \n",
       "4   2.0 -1.158233  0.877737  1.548718  0.403034 -0.407193  0.095921  0.592941   \n",
       "\n",
       "         V8        V9  ...       V21       V22       V23       V24       V25  \\\n",
       "0  0.098698  0.363787  ... -0.018307  0.277838 -0.110474  0.066928  0.128539   \n",
       "1  0.085102 -0.255425  ... -0.225775 -0.638672  0.101288 -0.339846  0.167170   \n",
       "2  0.247676 -1.514654  ...  0.247998  0.771679  0.909412 -0.689281 -0.327642   \n",
       "3  0.377436 -1.387024  ... -0.108300  0.005274 -0.190321 -1.175575  0.647376   \n",
       "4 -0.270533  0.817739  ... -0.009431  0.798278 -0.137458  0.141267 -0.206010   \n",
       "\n",
       "        V26       V27       V28  Amount  Class  \n",
       "0 -0.189115  0.133558 -0.021053  149.62      0  \n",
       "1  0.125895 -0.008983  0.014724    2.69      0  \n",
       "2 -0.139097 -0.055353 -0.059752  378.66      0  \n",
       "3 -0.221929  0.062723  0.061458  123.50      0  \n",
       "4  0.502292  0.219422  0.215153   69.99      0  \n",
       "\n",
       "[5 rows x 31 columns]"
      ]
     },
     "execution_count": 1,
     "metadata": {},
     "output_type": "execute_result"
    }
   ],
   "source": [
    "import pandas as pd\n",
    "from collections import Counter\n",
    "import itertools\n",
    "import numpy as np\n",
    "import matplotlib.pyplot as plt\n",
    "\n",
    "from sklearn.preprocessing import StandardScaler\n",
    "from sklearn.model_selection import train_test_split\n",
    "from sklearn.ensemble import RandomForestClassifier\n",
    "from sklearn.tree import DecisionTreeClassifier\n",
    "from sklearn.metrics import accuracy_score, precision_score, confusion_matrix, recall_score, f1_score\n",
    "\n",
    "df = pd.read_csv(\"/kaggle/input/creditcardfraud/creditcard.csv\")\n",
    "df.head()"
   ]
  },
  {
   "cell_type": "code",
   "execution_count": 2,
   "id": "ba312dce",
   "metadata": {
    "execution": {
     "iopub.execute_input": "2025-06-04T10:54:52.436087Z",
     "iopub.status.busy": "2025-06-04T10:54:52.435826Z",
     "iopub.status.idle": "2025-06-04T10:54:52.459119Z",
     "shell.execute_reply": "2025-06-04T10:54:52.452771Z"
    },
    "papermill": {
     "duration": 0.033007,
     "end_time": "2025-06-04T10:54:52.461620",
     "exception": false,
     "start_time": "2025-06-04T10:54:52.428613",
     "status": "completed"
    },
    "tags": []
   },
   "outputs": [
    {
     "data": {
      "text/plain": [
       "np.False_"
      ]
     },
     "execution_count": 2,
     "metadata": {},
     "output_type": "execute_result"
    }
   ],
   "source": [
    "df.isnull().values.any()"
   ]
  },
  {
   "cell_type": "code",
   "execution_count": 3,
   "id": "c727d249",
   "metadata": {
    "execution": {
     "iopub.execute_input": "2025-06-04T10:54:52.472904Z",
     "iopub.status.busy": "2025-06-04T10:54:52.472658Z",
     "iopub.status.idle": "2025-06-04T10:54:52.500566Z",
     "shell.execute_reply": "2025-06-04T10:54:52.495331Z"
    },
    "papermill": {
     "duration": 0.037578,
     "end_time": "2025-06-04T10:54:52.502960",
     "exception": false,
     "start_time": "2025-06-04T10:54:52.465382",
     "status": "completed"
    },
    "tags": []
   },
   "outputs": [
    {
     "data": {
      "text/plain": [
       "count    284807.000000\n",
       "mean         88.349619\n",
       "std         250.120109\n",
       "min           0.000000\n",
       "25%           5.600000\n",
       "50%          22.000000\n",
       "75%          77.165000\n",
       "max       25691.160000\n",
       "Name: Amount, dtype: float64"
      ]
     },
     "execution_count": 3,
     "metadata": {},
     "output_type": "execute_result"
    }
   ],
   "source": [
    "df[\"Amount\"].describe()"
   ]
  },
  {
   "cell_type": "code",
   "execution_count": 4,
   "id": "5bad98cc",
   "metadata": {
    "execution": {
     "iopub.execute_input": "2025-06-04T10:54:52.514668Z",
     "iopub.status.busy": "2025-06-04T10:54:52.514456Z",
     "iopub.status.idle": "2025-06-04T10:54:52.556094Z",
     "shell.execute_reply": "2025-06-04T10:54:52.550922Z"
    },
    "papermill": {
     "duration": 0.052309,
     "end_time": "2025-06-04T10:54:52.559329",
     "exception": false,
     "start_time": "2025-06-04T10:54:52.507020",
     "status": "completed"
    },
    "tags": []
   },
   "outputs": [
    {
     "name": "stdout",
     "output_type": "stream",
     "text": [
      "Number of Genuine transaction:  284315\n",
      "Number of Fraud transaction:  492\n",
      "Percentage of Fraud transaction: 0.1727\n"
     ]
    }
   ],
   "source": [
    "non_fraud = len(df[df.Class == 0])\n",
    "fraud = len(df[df.Class == 1])\n",
    "fraud_percent = (fraud / (fraud + non_fraud)) * 100\n",
    "\n",
    "print(\"Number of Genuine transaction: \", non_fraud)\n",
    "print(\"Number of Fraud transaction: \", fraud)\n",
    "print(\"Percentage of Fraud transaction: {:.4f}\".format (fraud_percent))"
   ]
  },
  {
   "cell_type": "code",
   "execution_count": 5,
   "id": "96eebc4e",
   "metadata": {
    "execution": {
     "iopub.execute_input": "2025-06-04T10:54:52.571302Z",
     "iopub.status.busy": "2025-06-04T10:54:52.571065Z",
     "iopub.status.idle": "2025-06-04T10:54:52.802038Z",
     "shell.execute_reply": "2025-06-04T10:54:52.795085Z"
    },
    "papermill": {
     "duration": 0.241057,
     "end_time": "2025-06-04T10:54:52.804678",
     "exception": false,
     "start_time": "2025-06-04T10:54:52.563621",
     "status": "completed"
    },
    "tags": []
   },
   "outputs": [
    {
     "data": {
      "image/png": "[encoded data removed]",
      "text/plain": [
       "<Figure size 640x480 with 1 Axes>"
      ]
     },
     "metadata": {},
     "output_type": "display_data"
    }
   ],
   "source": [
    "labels = [\"Genuine\", \"Fraud\"]\n",
    "count_classes = df.value_counts(df[\"Class\"], sort= True)\n",
    "count_classes.plot(kind= \"bar\", rot= 0)\n",
    "plt.title(\"Visualisation of Labels\")\n",
    "plt.ylabel(\"Count\")\n",
    "plt.xticks(range(2), labels)\n",
    "plt.show()"
   ]
  },
  {
   "cell_type": "code",
   "execution_count": 6,
   "id": "cdb99ab4",
   "metadata": {
    "execution": {
     "iopub.execute_input": "2025-06-04T10:54:52.817311Z",
     "iopub.status.busy": "2025-06-04T10:54:52.817081Z",
     "iopub.status.idle": "2025-06-04T10:54:52.883706Z",
     "shell.execute_reply": "2025-06-04T10:54:52.874000Z"
    },
    "papermill": {
     "duration": 0.076864,
     "end_time": "2025-06-04T10:54:52.886433",
     "exception": false,
     "start_time": "2025-06-04T10:54:52.809569",
     "status": "completed"
    },
    "tags": []
   },
   "outputs": [],
   "source": [
    "scaler = StandardScaler()\n",
    "df[\"NormalisedAmount\"] = scaler.fit_transform(df[\"Amount\"].values.reshape(-1, 1))\n",
    "df.drop([\"Amount\", \"Time\"], inplace= True, axis= 1)\n",
    "\n",
    "y = df[\"Class\"]\n",
    "x = df.drop([\"Class\"], axis= 1)"
   ]
  },
  {
   "cell_type": "code",
   "execution_count": 7,
   "id": "43e63545",
   "metadata": {
    "execution": {
     "iopub.execute_input": "2025-06-04T10:54:52.900621Z",
     "iopub.status.busy": "2025-06-04T10:54:52.900370Z",
     "iopub.status.idle": "2025-06-04T10:54:52.986792Z",
     "shell.execute_reply": "2025-06-04T10:54:52.980141Z"
    },
    "papermill": {
     "duration": 0.097812,
     "end_time": "2025-06-04T10:54:52.989311",
     "exception": false,
     "start_time": "2025-06-04T10:54:52.891499",
     "status": "completed"
    },
    "tags": []
   },
   "outputs": [
    {
     "name": "stdout",
     "output_type": "stream",
     "text": [
      "Shape of x_train:  (199364, 29)\n",
      "Shape of x_test:  (85443, 29)\n"
     ]
    }
   ],
   "source": [
    "x_train, x_test, y_train, y_test = train_test_split (x, y, test_size= 0.3, random_state= 42)\n",
    "\n",
    "print(\"Shape of x_train: \", x_train.shape)\n",
    "print(\"Shape of x_test: \", x_test.shape)"
   ]
  },
  {
   "cell_type": "code",
   "execution_count": 8,
   "id": "037fad0b",
   "metadata": {
    "execution": {
     "iopub.execute_input": "2025-06-04T10:54:53.001993Z",
     "iopub.status.busy": "2025-06-04T10:54:53.001713Z",
     "iopub.status.idle": "2025-06-04T10:54:53.015070Z",
     "shell.execute_reply": "2025-06-04T10:54:53.007215Z"
    },
    "papermill": {
     "duration": 0.024221,
     "end_time": "2025-06-04T10:54:53.018028",
     "exception": false,
     "start_time": "2025-06-04T10:54:52.993807",
     "status": "completed"
    },
    "tags": []
   },
   "outputs": [],
   "source": [
    "#Decision Tree\n",
    "dtree = DecisionTreeClassifier()\n",
    "\n",
    "# Random Forest\n",
    "rf = RandomForestClassifier(n_estimators= 100)"
   ]
  },
  {
   "cell_type": "code",
   "execution_count": 9,
   "id": "f0b41601",
   "metadata": {
    "execution": {
     "iopub.execute_input": "2025-06-04T10:54:53.030758Z",
     "iopub.status.busy": "2025-06-04T10:54:53.030544Z",
     "iopub.status.idle": "2025-06-04T10:58:30.563046Z",
     "shell.execute_reply": "2025-06-04T10:58:30.556490Z"
    },
    "papermill": {
     "duration": 217.543899,
     "end_time": "2025-06-04T10:58:30.566461",
     "exception": false,
     "start_time": "2025-06-04T10:54:53.022562",
     "status": "completed"
    },
    "tags": []
   },
   "outputs": [
    {
     "name": "stdout",
     "output_type": "stream",
     "text": [
      "Decision Tree score:  99.91807403766254\n",
      "Random Forest score:  99.96488887328394\n"
     ]
    }
   ],
   "source": [
    "dtree.fit(x_train, y_train)\n",
    "pred_dt = dtree.predict(x_test)\n",
    "dt_score = dtree.score(x_test, y_test) * 100\n",
    "\n",
    "rf.fit(x_train, y_train)\n",
    "pred_rf = rf.predict(x_test)\n",
    "rf_score = rf.score(x_test, y_test) * 100\n",
    "\n",
    "print(\"Decision Tree score: \", dt_score)\n",
    "print(\"Random Forest score: \", rf_score)"
   ]
  },
  {
   "cell_type": "code",
   "execution_count": 10,
   "id": "989e4516",
   "metadata": {
    "execution": {
     "iopub.execute_input": "2025-06-04T10:58:30.579798Z",
     "iopub.status.busy": "2025-06-04T10:58:30.579515Z",
     "iopub.status.idle": "2025-06-04T10:58:30.592072Z",
     "shell.execute_reply": "2025-06-04T10:58:30.585816Z"
    },
    "papermill": {
     "duration": 0.02347,
     "end_time": "2025-06-04T10:58:30.594466",
     "exception": false,
     "start_time": "2025-06-04T10:58:30.570996",
     "status": "completed"
    },
    "tags": []
   },
   "outputs": [],
   "source": [
    "def metrics(actuals, predictions):\n",
    "\n",
    "    print(\"Accuracy: {:.5f}\".format(accuracy_score(actuals, predictions)))\n",
    "    print(\"Precision: {:.5f}\".format(precision_score(actuals, predictions)))\n",
    "    print(\"Recall: {:.5f}\".format(recall_score(actuals, predictions)))\n",
    "    print(\"F1-score: {:.5f}\".format(f1_score(actuals, predictions)))"
   ]
  },
  {
   "cell_type": "code",
   "execution_count": 11,
   "id": "e8c3e4ea",
   "metadata": {
    "execution": {
     "iopub.execute_input": "2025-06-04T10:58:30.607979Z",
     "iopub.status.busy": "2025-06-04T10:58:30.607748Z",
     "iopub.status.idle": "2025-06-04T10:58:30.623716Z",
     "shell.execute_reply": "2025-06-04T10:58:30.617270Z"
    },
    "papermill": {
     "duration": 0.027278,
     "end_time": "2025-06-04T10:58:30.626432",
     "exception": false,
     "start_time": "2025-06-04T10:58:30.599154",
     "status": "completed"
    },
    "tags": []
   },
   "outputs": [
    {
     "name": "stdout",
     "output_type": "stream",
     "text": [
      "Confusion Matrix - Decision Tree\n",
      "[[85261    46]\n",
      " [   24   112]]\n"
     ]
    }
   ],
   "source": [
    "confusion_matrix_dt = confusion_matrix(y_test, pred_dt.round())\n",
    "print(\"Confusion Matrix - Decision Tree\")\n",
    "print(confusion_matrix_dt)"
   ]
  },
  {
   "cell_type": "code",
   "execution_count": 12,
   "id": "938fe8ae",
   "metadata": {
    "execution": {
     "iopub.execute_input": "2025-06-04T10:58:30.639344Z",
     "iopub.status.busy": "2025-06-04T10:58:30.639120Z",
     "iopub.status.idle": "2025-06-04T10:58:30.797400Z",
     "shell.execute_reply": "2025-06-04T10:58:30.790833Z"
    },
    "papermill": {
     "duration": 0.168683,
     "end_time": "2025-06-04T10:58:30.799916",
     "exception": false,
     "start_time": "2025-06-04T10:58:30.631233",
     "status": "completed"
    },
    "tags": []
   },
   "outputs": [
    {
     "data": {
      "image/png": "[encoded data removed]",
      "text/plain": [
       "<Figure size 640x480 with 2 Axes>"
      ]
     },
     "metadata": {},
     "output_type": "display_data"
    }
   ],
   "source": [
    "from sklearn.metrics import ConfusionMatrixDisplay\n",
    "\n",
    "disp = ConfusionMatrixDisplay(\n",
    "    confusion_matrix=confusion_matrix_dt,\n",
    "    display_labels=[0, 1])\n",
    "\n",
    "disp.plot() # You can set the colormap here\n",
    "disp.ax_.set_title(\"Confusion Matrix - Decision Tree\")\n",
    "plt.show()"
   ]
  },
  {
   "cell_type": "code",
   "execution_count": 13,
   "id": "ebf142cb",
   "metadata": {
    "execution": {
     "iopub.execute_input": "2025-06-04T10:58:30.814148Z",
     "iopub.status.busy": "2025-06-04T10:58:30.813869Z",
     "iopub.status.idle": "2025-06-04T10:58:30.851755Z",
     "shell.execute_reply": "2025-06-04T10:58:30.847705Z"
    },
    "papermill": {
     "duration": 0.050776,
     "end_time": "2025-06-04T10:58:30.856107",
     "exception": false,
     "start_time": "2025-06-04T10:58:30.805331",
     "status": "completed"
    },
    "tags": []
   },
   "outputs": [
    {
     "name": "stdout",
     "output_type": "stream",
     "text": [
      "Evaluation of Decision Tree Model\n",
      "\n"
     ]
    },
    {
     "name": "stdout",
     "output_type": "stream",
     "text": [
      "Accuracy: 0.99918\n"
     ]
    },
    {
     "name": "stdout",
     "output_type": "stream",
     "text": [
      "Precision: 0.70886\n"
     ]
    },
    {
     "name": "stdout",
     "output_type": "stream",
     "text": [
      "Recall: 0.82353\n"
     ]
    },
    {
     "name": "stdout",
     "output_type": "stream",
     "text": [
      "F1-score: 0.76190\n"
     ]
    }
   ],
   "source": [
    "print(\"Evaluation of Decision Tree Model\\n\")\n",
    "metrics(y_test, pred_dt.round())"
   ]
  },
  {
   "cell_type": "code",
   "execution_count": 14,
   "id": "b66e94fb",
   "metadata": {
    "execution": {
     "iopub.execute_input": "2025-06-04T10:58:30.869806Z",
     "iopub.status.busy": "2025-06-04T10:58:30.869589Z",
     "iopub.status.idle": "2025-06-04T10:58:31.054939Z",
     "shell.execute_reply": "2025-06-04T10:58:31.048308Z"
    },
    "papermill": {
     "duration": 0.196144,
     "end_time": "2025-06-04T10:58:31.057317",
     "exception": false,
     "start_time": "2025-06-04T10:58:30.861173",
     "status": "completed"
    },
    "tags": []
   },
   "outputs": [
    {
     "name": "stdout",
     "output_type": "stream",
     "text": [
      "Confusion Matrix - Random Forest\n",
      "[[85300     7]\n",
      " [   23   113]]\n"
     ]
    },
    {
     "data": {
      "image/png": "[encoded data removed]",
      "text/plain": [
       "<Figure size 640x480 with 2 Axes>"
      ]
     },
     "metadata": {},
     "output_type": "display_data"
    }
   ],
   "source": [
    "confusion_matrix_rf = confusion_matrix(y_test, pred_rf.round())\n",
    "print(\"Confusion Matrix - Random Forest\")\n",
    "print(confusion_matrix_rf)\n",
    "\n",
    "disp = ConfusionMatrixDisplay(\n",
    "    confusion_matrix=confusion_matrix_rf,\n",
    "    display_labels=[0, 1])\n",
    "disp.plot() # You can set the colormap here\n",
    "disp.ax_.set_title(\"Confusion Matrix - Random Forest\")\n",
    "plt.show()"
   ]
  },
  {
   "cell_type": "code",
   "execution_count": 15,
   "id": "8125c3ce",
   "metadata": {
    "execution": {
     "iopub.execute_input": "2025-06-04T10:58:31.072907Z",
     "iopub.status.busy": "2025-06-04T10:58:31.072636Z",
     "iopub.status.idle": "2025-06-04T10:58:31.110109Z",
     "shell.execute_reply": "2025-06-04T10:58:31.105094Z"
    },
    "papermill": {
     "duration": 0.050245,
     "end_time": "2025-06-04T10:58:31.113339",
     "exception": false,
     "start_time": "2025-06-04T10:58:31.063094",
     "status": "completed"
    },
    "tags": []
   },
   "outputs": [
    {
     "name": "stdout",
     "output_type": "stream",
     "text": [
      "Evaluation of Random Forest\n",
      "\n"
     ]
    },
    {
     "name": "stdout",
     "output_type": "stream",
     "text": [
      "Accuracy: 0.99965\n"
     ]
    },
    {
     "name": "stdout",
     "output_type": "stream",
     "text": [
      "Precision: 0.94167\n"
     ]
    },
    {
     "name": "stdout",
     "output_type": "stream",
     "text": [
      "Recall: 0.83088\n"
     ]
    },
    {
     "name": "stdout",
     "output_type": "stream",
     "text": [
      "F1-score: 0.88281\n"
     ]
    }
   ],
   "source": [
    "print(\"Evaluation of Random Forest\\n\")\n",
    "metrics(y_test, pred_rf.round())"
   ]
  },
  {
   "cell_type": "code",
   "execution_count": 16,
   "id": "3d1b6393",
   "metadata": {
    "execution": {
     "iopub.execute_input": "2025-06-04T10:58:31.129318Z",
     "iopub.status.busy": "2025-06-04T10:58:31.129099Z",
     "iopub.status.idle": "2025-06-04T10:58:40.462446Z",
     "shell.execute_reply": "2025-06-04T10:58:40.456893Z"
    },
    "papermill": {
     "duration": 9.345617,
     "end_time": "2025-06-04T10:58:40.464984",
     "exception": false,
     "start_time": "2025-06-04T10:58:31.119367",
     "status": "completed"
    },
    "tags": []
   },
   "outputs": [
    {
     "name": "stdout",
     "output_type": "stream",
     "text": [
      "Requirement already satisfied: scikit-learn in /usr/local/lib/python3.10/site-packages (1.6.1)\r\n"
     ]
    },
    {
     "name": "stdout",
     "output_type": "stream",
     "text": [
      "Requirement already satisfied: numpy>=1.19.5 in /usr/local/lib/python3.10/site-packages (from scikit-learn) (2.0.2)\r\n",
      "Requirement already satisfied: threadpoolctl>=3.1.0 in /usr/local/lib/python3.10/site-packages (from scikit-learn) (3.6.0)\r\n",
      "Requirement already satisfied: joblib>=1.2.0 in /usr/local/lib/python3.10/site-packages (from scikit-learn) (1.5.0)\r\n",
      "Requirement already satisfied: scipy>=1.6.0 in /usr/local/lib/python3.10/site-packages (from scikit-learn) (1.15.2)\r\n"
     ]
    },
    {
     "name": "stdout",
     "output_type": "stream",
     "text": [
      "\u001b[33mWARNING: Running pip as the 'root' user can result in broken permissions and conflicting behaviour with the system package manager. It is recommended to use a virtual environment instead: https://pip.pypa.io/warnings/venv\u001b[0m\u001b[33m\r\n",
      "\u001b[0m"
     ]
    },
    {
     "name": "stdout",
     "output_type": "stream",
     "text": [
      "\r\n",
      "\u001b[1m[\u001b[0m\u001b[34;49mnotice\u001b[0m\u001b[1;39;49m]\u001b[0m\u001b[39;49m A new release of pip is available: \u001b[0m\u001b[31;49m23.0.1\u001b[0m\u001b[39;49m -> \u001b[0m\u001b[32;49m25.1.1\u001b[0m\r\n",
      "\u001b[1m[\u001b[0m\u001b[34;49mnotice\u001b[0m\u001b[1;39;49m]\u001b[0m\u001b[39;49m To update, run: \u001b[0m\u001b[32;49mpip install --upgrade pip\u001b[0m\r\n"
     ]
    },
    {
     "name": "stdout",
     "output_type": "stream",
     "text": [
      "Collecting imbalanced-learn\r\n"
     ]
    },
    {
     "name": "stdout",
     "output_type": "stream",
     "text": [
      "  Downloading imbalanced_learn-0.13.0-py3-none-any.whl (238 kB)\r\n",
      "\u001b[?25l     \u001b[90m━━━━━━━━━━━━━━━━━━━━━━━━━━━━━━━━━━━━━━━━\u001b[0m \u001b[32m0.0/238.4 kB\u001b[0m \u001b[31m?\u001b[0m eta \u001b[36m-:--:--\u001b[0m"
     ]
    },
    {
     "name": "stdout",
     "output_type": "stream",
     "text": [
      "\r",
      "\u001b[2K     \u001b[91m━━━━━━━━━━━━━━━━━━━━━━━━━━━━━━━━━━━━━\u001b[0m\u001b[91m╸\u001b[0m \u001b[32m235.5/238.4 kB\u001b[0m \u001b[31m10.4 MB/s\u001b[0m eta \u001b[36m0:00:01\u001b[0m\r",
      "\u001b[2K     \u001b[90m━━━━━━━━━━━━━━━━━━━━━━━━━━━━━━━━━━━━━━━\u001b[0m \u001b[32m238.4/238.4 kB\u001b[0m \u001b[31m6.4 MB/s\u001b[0m eta \u001b[36m0:00:00\u001b[0m\r\n",
      "\u001b[?25h"
     ]
    },
    {
     "name": "stdout",
     "output_type": "stream",
     "text": [
      "Collecting sklearn-compat<1,>=0.1\r\n",
      "  Downloading sklearn_compat-0.1.3-py3-none-any.whl (18 kB)\r\n",
      "Requirement already satisfied: scikit-learn<2,>=1.3.2 in /usr/local/lib/python3.10/site-packages (from imbalanced-learn) (1.6.1)\r\n",
      "Requirement already satisfied: scipy<2,>=1.10.1 in /usr/local/lib/python3.10/site-packages (from imbalanced-learn) (1.15.2)\r\n",
      "Requirement already satisfied: numpy<3,>=1.24.3 in /usr/local/lib/python3.10/site-packages (from imbalanced-learn) (2.0.2)\r\n",
      "Requirement already satisfied: threadpoolctl<4,>=2.0.0 in /usr/local/lib/python3.10/site-packages (from imbalanced-learn) (3.6.0)\r\n",
      "Requirement already satisfied: joblib<2,>=1.1.1 in /usr/local/lib/python3.10/site-packages (from imbalanced-learn) (1.5.0)\r\n"
     ]
    },
    {
     "name": "stdout",
     "output_type": "stream",
     "text": [
      "Installing collected packages: sklearn-compat, imbalanced-learn\r\n"
     ]
    },
    {
     "name": "stdout",
     "output_type": "stream",
     "text": [
      "Successfully installed imbalanced-learn-0.13.0 sklearn-compat-0.1.3\r\n",
      "\u001b[33mWARNING: Running pip as the 'root' user can result in broken permissions and conflicting behaviour with the system package manager. It is recommended to use a virtual environment instead: https://pip.pypa.io/warnings/venv\u001b[0m\u001b[33m\r\n",
      "\u001b[0m\r\n",
      "\u001b[1m[\u001b[0m\u001b[34;49mnotice\u001b[0m\u001b[1;39;49m]\u001b[0m\u001b[39;49m A new release of pip is available: \u001b[0m\u001b[31;49m23.0.1\u001b[0m\u001b[39;49m -> \u001b[0m\u001b[32;49m25.1.1\u001b[0m\r\n",
      "\u001b[1m[\u001b[0m\u001b[34;49mnotice\u001b[0m\u001b[1;39;49m]\u001b[0m\u001b[39;49m To update, run: \u001b[0m\u001b[32;49mpip install --upgrade pip\u001b[0m\r\n"
     ]
    }
   ],
   "source": [
    "!pip install --upgrade scikit-learn\n",
    "!pip install --upgrade imbalanced-learn # Only if you are using imbalanced-learn"
   ]
  },
  {
   "cell_type": "code",
   "execution_count": 17,
   "id": "9993666e",
   "metadata": {
    "execution": {
     "iopub.execute_input": "2025-06-04T10:58:40.482218Z",
     "iopub.status.busy": "2025-06-04T10:58:40.481975Z",
     "iopub.status.idle": "2025-06-04T10:58:42.174388Z",
     "shell.execute_reply": "2025-06-04T10:58:42.168492Z"
    },
    "papermill": {
     "duration": 1.705129,
     "end_time": "2025-06-04T10:58:42.176996",
     "exception": false,
     "start_time": "2025-06-04T10:58:40.471867",
     "status": "completed"
    },
    "tags": []
   },
   "outputs": [
    {
     "name": "stdout",
     "output_type": "stream",
     "text": [
      "Resampled shape of x:  (568630, 29)\n",
      "Resampled shape of y:  (568630,)\n"
     ]
    },
    {
     "name": "stdout",
     "output_type": "stream",
     "text": [
      "Counter({0: 284315, 1: 284315})\n"
     ]
    }
   ],
   "source": [
    "from imblearn.over_sampling import SMOTE\n",
    "\n",
    "x_resampled, y_resampled = SMOTE().fit_resample(x, y)\n",
    "print(\"Resampled shape of x: \", x_resampled.shape)\n",
    "print(\"Resampled shape of y: \", y_resampled.shape)\n",
    "\n",
    "value_counts = Counter(y_resampled)\n",
    "print(value_counts)\n",
    "\n",
    "x_train, x_test, y_train, y_test = train_test_split(x_resampled, y_resampled, test_size= 0.3, random_state= 42)"
   ]
  },
  {
   "cell_type": "code",
   "execution_count": 18,
   "id": "d2283817",
   "metadata": {
    "execution": {
     "iopub.execute_input": "2025-06-04T10:58:42.194270Z",
     "iopub.status.busy": "2025-06-04T10:58:42.193900Z",
     "iopub.status.idle": "2025-06-04T11:04:07.357065Z",
     "shell.execute_reply": "2025-06-04T11:04:07.351725Z"
    },
    "papermill": {
     "duration": 325.17611,
     "end_time": "2025-06-04T11:04:07.360093",
     "exception": false,
     "start_time": "2025-06-04T10:58:42.183983",
     "status": "completed"
    },
    "tags": []
   },
   "outputs": [],
   "source": [
    "rf_resampled = RandomForestClassifier(n_estimators= 100)\n",
    "rf_resampled.fit(x_train, y_train)\n",
    "\n",
    "pred_resampled = rf_resampled.predict(x_test)\n",
    "rf_score_resampled = rf_resampled.score(x_test, y_test) * 100"
   ]
  },
  {
   "cell_type": "code",
   "execution_count": 19,
   "id": "f8085661",
   "metadata": {
    "execution": {
     "iopub.execute_input": "2025-06-04T11:04:07.377166Z",
     "iopub.status.busy": "2025-06-04T11:04:07.376861Z",
     "iopub.status.idle": "2025-06-04T11:04:07.543764Z",
     "shell.execute_reply": "2025-06-04T11:04:07.539644Z"
    },
    "papermill": {
     "duration": 0.179475,
     "end_time": "2025-06-04T11:04:07.546427",
     "exception": false,
     "start_time": "2025-06-04T11:04:07.366952",
     "status": "completed"
    },
    "tags": []
   },
   "outputs": [
    {
     "name": "stdout",
     "output_type": "stream",
     "text": [
      "Confusion Matrix - Random Forest after Resampling\n",
      "[[85130    19]\n",
      " [    0 85440]]\n"
     ]
    },
    {
     "data": {
      "image/png": "[encoded data removed]",
      "text/plain": [
       "<Figure size 640x480 with 2 Axes>"
      ]
     },
     "metadata": {},
     "output_type": "display_data"
    }
   ],
   "source": [
    "cm_resampled = confusion_matrix(y_test, pred_resampled.round())\n",
    "\n",
    "print(\"Confusion Matrix - Random Forest after Resampling\")\n",
    "print(cm_resampled)\n",
    "\n",
    "disp = ConfusionMatrixDisplay(\n",
    "    confusion_matrix=cm_resampled,\n",
    "    display_labels=[0, 1])\n",
    "disp.plot() # You can set the colormap here\n",
    "disp.ax_.set_title(\"Confusion Matrix - Random Forest after Resampling\")\n",
    "plt.show()"
   ]
  },
  {
   "cell_type": "code",
   "execution_count": 20,
   "id": "7d2508f4",
   "metadata": {
    "execution": {
     "iopub.execute_input": "2025-06-04T11:04:07.564872Z",
     "iopub.status.busy": "2025-06-04T11:04:07.564635Z",
     "iopub.status.idle": "2025-06-04T11:04:07.615307Z",
     "shell.execute_reply": "2025-06-04T11:04:07.611080Z"
    },
    "papermill": {
     "duration": 0.063198,
     "end_time": "2025-06-04T11:04:07.617436",
     "exception": false,
     "start_time": "2025-06-04T11:04:07.554238",
     "status": "completed"
    },
    "tags": []
   },
   "outputs": [
    {
     "name": "stdout",
     "output_type": "stream",
     "text": [
      "Evaluation of Random Forest after Resampling\n",
      "\n"
     ]
    },
    {
     "name": "stdout",
     "output_type": "stream",
     "text": [
      "Accuracy: 0.99989\n"
     ]
    },
    {
     "name": "stdout",
     "output_type": "stream",
     "text": [
      "Precision: 0.99978\n"
     ]
    },
    {
     "name": "stdout",
     "output_type": "stream",
     "text": [
      "Recall: 1.00000\n"
     ]
    },
    {
     "name": "stdout",
     "output_type": "stream",
     "text": [
      "F1-score: 0.99989\n"
     ]
    }
   ],
   "source": [
    "print(\"Evaluation of Random Forest after Resampling\\n\")\n",
    "metrics(y_test, pred_resampled)"
   ]
  }
 ],
 "metadata": {
  "kaggle": {
   "accelerator": "tpu1vmV38",
   "dataSources": [
    {
     "datasetId": 310,
     "sourceId": 23498,
     "sourceType": "datasetVersion"
    }
   ],
   "dockerImageVersionId": 31040,
   "isGpuEnabled": false,
   "isInternetEnabled": true,
   "language": "python",
   "sourceType": "notebook"
  },
  "kernelspec": {
   "display_name": "Python 3",
   "language": "python",
   "name": "python3"
  },
  "language_info": {
   "codemirror_mode": {
    "name": "ipython",
    "version": 3
   },
   "file_extension": ".py",
   "mimetype": "text/x-python",
   "name": "python",
   "nbconvert_exporter": "python",
   "pygments_lexer": "ipython3",
   "version": "3.10.17"
  },
  "papermill": {
   "default_parameters": {},
   "duration": 569.667793,
   "end_time": "2025-06-04T11:04:08.246640",
   "environment_variables": {},
   "exception": null,
   "input_path": "__notebook__.ipynb",
   "output_path": "__notebook__.ipynb",
   "parameters": {},
   "start_time": "2025-06-04T10:54:38.578847",
   "version": "2.6.0"
  }
 },
 "nbformat": 4,
 "nbformat_minor": 5
}
