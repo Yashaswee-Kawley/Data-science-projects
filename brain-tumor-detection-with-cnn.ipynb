{
 "cells": [
  {
   "cell_type": "code",
   "execution_count": 1,
   "id": "182b02ce",
   "metadata": {
    "_cell_guid": "b1076dfc-b9ad-4769-8c92-a6c4dae69d19",
    "_uuid": "8f2839f25d086af736a60e9eeb907d3b93b6e0e5",
    "execution": {
     "iopub.execute_input": "2025-06-14T13:57:30.486540Z",
     "iopub.status.busy": "2025-06-14T13:57:30.486284Z",
     "iopub.status.idle": "2025-06-14T13:57:46.863811Z",
     "shell.execute_reply": "2025-06-14T13:57:46.863216Z"
    },
    "papermill": {
     "duration": 16.381942,
     "end_time": "2025-06-14T13:57:46.865157",
     "exception": false,
     "start_time": "2025-06-14T13:57:30.483215",
     "status": "completed"
    },
    "tags": []
   },
   "outputs": [
    {
     "name": "stderr",
     "output_type": "stream",
     "text": [
      "2025-06-14 13:57:32.245813: E external/local_xla/xla/stream_executor/cuda/cuda_fft.cc:477] Unable to register cuFFT factory: Attempting to register factory for plugin cuFFT when one has already been registered\n",
      "WARNING: All log messages before absl::InitializeLog() is called are written to STDERR\n",
      "E0000 00:00:1749909452.477297      20 cuda_dnn.cc:8310] Unable to register cuDNN factory: Attempting to register factory for plugin cuDNN when one has already been registered\n",
      "E0000 00:00:1749909452.538823      20 cuda_blas.cc:1418] Unable to register cuBLAS factory: Attempting to register factory for plugin cuBLAS when one has already been registered\n"
     ]
    }
   ],
   "source": [
    "import numpy as np\n",
    "from tensorflow.keras.preprocessing.image import ImageDataGenerator"
   ]
  },
  {
   "cell_type": "code",
   "execution_count": 2,
   "id": "a4cb5e53",
   "metadata": {
    "execution": {
     "iopub.execute_input": "2025-06-14T13:57:46.870543Z",
     "iopub.status.busy": "2025-06-14T13:57:46.870104Z",
     "iopub.status.idle": "2025-06-14T13:57:47.058785Z",
     "shell.execute_reply": "2025-06-14T13:57:47.058231Z"
    },
    "papermill": {
     "duration": 0.192298,
     "end_time": "2025-06-14T13:57:47.059827",
     "exception": false,
     "start_time": "2025-06-14T13:57:46.867529",
     "status": "completed"
    },
    "tags": []
   },
   "outputs": [
    {
     "name": "stdout",
     "output_type": "stream",
     "text": [
      "Found 215 images belonging to 2 classes.\n"
     ]
    }
   ],
   "source": [
    "train_datagen = ImageDataGenerator(rescale= 1./255, shear_range= 0.2, zoom_range= 0.2, horizontal_flip= True)\n",
    "\n",
    "training_set = train_datagen.flow_from_directory('/kaggle/input/brain-tumor-detection/Brain_tumor_data/train',\n",
    "                                                target_size= (224, 224), batch_size= 16, shuffle= True,\n",
    "                                                class_mode= 'binary')"
   ]
  },
  {
   "cell_type": "code",
   "execution_count": 3,
   "id": "3cc929bc",
   "metadata": {
    "execution": {
     "iopub.execute_input": "2025-06-14T13:57:47.064692Z",
     "iopub.status.busy": "2025-06-14T13:57:47.064491Z",
     "iopub.status.idle": "2025-06-14T13:57:47.087272Z",
     "shell.execute_reply": "2025-06-14T13:57:47.086774Z"
    },
    "papermill": {
     "duration": 0.026353,
     "end_time": "2025-06-14T13:57:47.088257",
     "exception": false,
     "start_time": "2025-06-14T13:57:47.061904",
     "status": "completed"
    },
    "tags": []
   },
   "outputs": [
    {
     "name": "stdout",
     "output_type": "stream",
     "text": [
      "Found 32 images belonging to 2 classes.\n"
     ]
    }
   ],
   "source": [
    "test_datagen = ImageDataGenerator(rescale= 1./255)\n",
    "test_set = test_datagen.flow_from_directory('/kaggle/input/brain-tumor-detection/Brain_tumor_data/test',\n",
    "                                           target_size= (224, 224), batch_size= 16, shuffle= False,\n",
    "                                           class_mode= 'binary')"
   ]
  },
  {
   "cell_type": "code",
   "execution_count": 4,
   "id": "503a5141",
   "metadata": {
    "execution": {
     "iopub.execute_input": "2025-06-14T13:57:47.092984Z",
     "iopub.status.busy": "2025-06-14T13:57:47.092785Z",
     "iopub.status.idle": "2025-06-14T13:57:47.098508Z",
     "shell.execute_reply": "2025-06-14T13:57:47.097831Z"
    },
    "papermill": {
     "duration": 0.00937,
     "end_time": "2025-06-14T13:57:47.099641",
     "exception": false,
     "start_time": "2025-06-14T13:57:47.090271",
     "status": "completed"
    },
    "tags": []
   },
   "outputs": [],
   "source": [
    "from tensorflow.keras.models import Sequential\n",
    "from tensorflow.keras.layers import Conv2D, MaxPool2D, Dropout, Flatten, Dense"
   ]
  },
  {
   "cell_type": "code",
   "execution_count": 5,
   "id": "6c0ceced",
   "metadata": {
    "execution": {
     "iopub.execute_input": "2025-06-14T13:57:47.104157Z",
     "iopub.status.busy": "2025-06-14T13:57:47.103950Z",
     "iopub.status.idle": "2025-06-14T13:57:49.929488Z",
     "shell.execute_reply": "2025-06-14T13:57:49.928917Z"
    },
    "papermill": {
     "duration": 2.829207,
     "end_time": "2025-06-14T13:57:49.930791",
     "exception": false,
     "start_time": "2025-06-14T13:57:47.101584",
     "status": "completed"
    },
    "tags": []
   },
   "outputs": [
    {
     "name": "stderr",
     "output_type": "stream",
     "text": [
      "/usr/local/lib/python3.11/dist-packages/keras/src/layers/convolutional/base_conv.py:107: UserWarning: Do not pass an `input_shape`/`input_dim` argument to a layer. When using Sequential models, prefer using an `Input(shape)` object as the first layer in the model instead.\n",
      "  super().__init__(activity_regularizer=activity_regularizer, **kwargs)\n",
      "I0000 00:00:1749909468.537150      20 gpu_device.cc:2022] Created device /job:localhost/replica:0/task:0/device:GPU:0 with 13942 MB memory:  -> device: 0, name: Tesla T4, pci bus id: 0000:00:04.0, compute capability: 7.5\n",
      "I0000 00:00:1749909468.537843      20 gpu_device.cc:2022] Created device /job:localhost/replica:0/task:0/device:GPU:1 with 13942 MB memory:  -> device: 1, name: Tesla T4, pci bus id: 0000:00:05.0, compute capability: 7.5\n"
     ]
    }
   ],
   "source": [
    "cnn = Sequential()\n",
    "\n",
    "cnn.add(Conv2D(filters= 224, kernel_size= 3, activation= 'relu', input_shape= [224, 224, 3]))\n",
    "\n",
    "cnn.add(MaxPool2D(pool_size= 2, strides= 2))\n",
    "cnn.add(Conv2D(filters= 224, kernel_size= 3, activation= 'relu'))\n",
    "\n",
    "cnn.add(MaxPool2D(pool_size= 2, strides= 2))\n",
    "cnn.add(Dropout(0.5))\n",
    "cnn.add(Flatten())\n",
    "cnn.add(Dense(units= 128, activation= 'relu'))\n",
    "cnn.add(Dense(units= 1, activation= 'sigmoid'))\n",
    "\n",
    "cnn.compile(optimizer= 'Adam', loss= 'binary_crossentropy', metrics= ['accuracy'])"
   ]
  },
  {
   "cell_type": "code",
   "execution_count": 6,
   "id": "edef7a13",
   "metadata": {
    "execution": {
     "iopub.execute_input": "2025-06-14T13:57:49.936218Z",
     "iopub.status.busy": "2025-06-14T13:57:49.935741Z",
     "iopub.status.idle": "2025-06-14T13:57:49.952271Z",
     "shell.execute_reply": "2025-06-14T13:57:49.951669Z"
    },
    "papermill": {
     "duration": 0.02007,
     "end_time": "2025-06-14T13:57:49.953285",
     "exception": false,
     "start_time": "2025-06-14T13:57:49.933215",
     "status": "completed"
    },
    "tags": []
   },
   "outputs": [
    {
     "data": {
      "text/html": [
       "<pre style=\"white-space:pre;overflow-x:auto;line-height:normal;font-family:Menlo,'DejaVu Sans Mono',consolas,'Courier New',monospace\"><span style=\"font-weight: bold\">Model: \"sequential\"</span>\n",
       "</pre>\n"
      ],
      "text/plain": [
       "\u001b[1mModel: \"sequential\"\u001b[0m\n"
      ]
     },
     "metadata": {},
     "output_type": "display_data"
    },
    {
     "data": {
      "text/html": [
       "<pre style=\"white-space:pre;overflow-x:auto;line-height:normal;font-family:Menlo,'DejaVu Sans Mono',consolas,'Courier New',monospace\">┏━━━━━━━━━━━━━━━━━━━━━━━━━━━━━━━━━━━━━━┳━━━━━━━━━━━━━━━━━━━━━━━━━━━━━┳━━━━━━━━━━━━━━━━━┓\n",
       "┃<span style=\"font-weight: bold\"> Layer (type)                         </span>┃<span style=\"font-weight: bold\"> Output Shape                </span>┃<span style=\"font-weight: bold\">         Param # </span>┃\n",
       "┡━━━━━━━━━━━━━━━━━━━━━━━━━━━━━━━━━━━━━━╇━━━━━━━━━━━━━━━━━━━━━━━━━━━━━╇━━━━━━━━━━━━━━━━━┩\n",
       "│ conv2d (<span style=\"color: #0087ff; text-decoration-color: #0087ff\">Conv2D</span>)                      │ (<span style=\"color: #00d7ff; text-decoration-color: #00d7ff\">None</span>, <span style=\"color: #00af00; text-decoration-color: #00af00\">222</span>, <span style=\"color: #00af00; text-decoration-color: #00af00\">222</span>, <span style=\"color: #00af00; text-decoration-color: #00af00\">224</span>)       │           <span style=\"color: #00af00; text-decoration-color: #00af00\">6,272</span> │\n",
       "├──────────────────────────────────────┼─────────────────────────────┼─────────────────┤\n",
       "│ max_pooling2d (<span style=\"color: #0087ff; text-decoration-color: #0087ff\">MaxPooling2D</span>)         │ (<span style=\"color: #00d7ff; text-decoration-color: #00d7ff\">None</span>, <span style=\"color: #00af00; text-decoration-color: #00af00\">111</span>, <span style=\"color: #00af00; text-decoration-color: #00af00\">111</span>, <span style=\"color: #00af00; text-decoration-color: #00af00\">224</span>)       │               <span style=\"color: #00af00; text-decoration-color: #00af00\">0</span> │\n",
       "├──────────────────────────────────────┼─────────────────────────────┼─────────────────┤\n",
       "│ conv2d_1 (<span style=\"color: #0087ff; text-decoration-color: #0087ff\">Conv2D</span>)                    │ (<span style=\"color: #00d7ff; text-decoration-color: #00d7ff\">None</span>, <span style=\"color: #00af00; text-decoration-color: #00af00\">109</span>, <span style=\"color: #00af00; text-decoration-color: #00af00\">109</span>, <span style=\"color: #00af00; text-decoration-color: #00af00\">224</span>)       │         <span style=\"color: #00af00; text-decoration-color: #00af00\">451,808</span> │\n",
       "├──────────────────────────────────────┼─────────────────────────────┼─────────────────┤\n",
       "│ max_pooling2d_1 (<span style=\"color: #0087ff; text-decoration-color: #0087ff\">MaxPooling2D</span>)       │ (<span style=\"color: #00d7ff; text-decoration-color: #00d7ff\">None</span>, <span style=\"color: #00af00; text-decoration-color: #00af00\">54</span>, <span style=\"color: #00af00; text-decoration-color: #00af00\">54</span>, <span style=\"color: #00af00; text-decoration-color: #00af00\">224</span>)         │               <span style=\"color: #00af00; text-decoration-color: #00af00\">0</span> │\n",
       "├──────────────────────────────────────┼─────────────────────────────┼─────────────────┤\n",
       "│ dropout (<span style=\"color: #0087ff; text-decoration-color: #0087ff\">Dropout</span>)                    │ (<span style=\"color: #00d7ff; text-decoration-color: #00d7ff\">None</span>, <span style=\"color: #00af00; text-decoration-color: #00af00\">54</span>, <span style=\"color: #00af00; text-decoration-color: #00af00\">54</span>, <span style=\"color: #00af00; text-decoration-color: #00af00\">224</span>)         │               <span style=\"color: #00af00; text-decoration-color: #00af00\">0</span> │\n",
       "├──────────────────────────────────────┼─────────────────────────────┼─────────────────┤\n",
       "│ flatten (<span style=\"color: #0087ff; text-decoration-color: #0087ff\">Flatten</span>)                    │ (<span style=\"color: #00d7ff; text-decoration-color: #00d7ff\">None</span>, <span style=\"color: #00af00; text-decoration-color: #00af00\">653184</span>)              │               <span style=\"color: #00af00; text-decoration-color: #00af00\">0</span> │\n",
       "├──────────────────────────────────────┼─────────────────────────────┼─────────────────┤\n",
       "│ dense (<span style=\"color: #0087ff; text-decoration-color: #0087ff\">Dense</span>)                        │ (<span style=\"color: #00d7ff; text-decoration-color: #00d7ff\">None</span>, <span style=\"color: #00af00; text-decoration-color: #00af00\">128</span>)                 │      <span style=\"color: #00af00; text-decoration-color: #00af00\">83,607,680</span> │\n",
       "├──────────────────────────────────────┼─────────────────────────────┼─────────────────┤\n",
       "│ dense_1 (<span style=\"color: #0087ff; text-decoration-color: #0087ff\">Dense</span>)                      │ (<span style=\"color: #00d7ff; text-decoration-color: #00d7ff\">None</span>, <span style=\"color: #00af00; text-decoration-color: #00af00\">1</span>)                   │             <span style=\"color: #00af00; text-decoration-color: #00af00\">129</span> │\n",
       "└──────────────────────────────────────┴─────────────────────────────┴─────────────────┘\n",
       "</pre>\n"
      ],
      "text/plain": [
       "┏━━━━━━━━━━━━━━━━━━━━━━━━━━━━━━━━━━━━━━┳━━━━━━━━━━━━━━━━━━━━━━━━━━━━━┳━━━━━━━━━━━━━━━━━┓\n",
       "┃\u001b[1m \u001b[0m\u001b[1mLayer (type)                        \u001b[0m\u001b[1m \u001b[0m┃\u001b[1m \u001b[0m\u001b[1mOutput Shape               \u001b[0m\u001b[1m \u001b[0m┃\u001b[1m \u001b[0m\u001b[1m        Param #\u001b[0m\u001b[1m \u001b[0m┃\n",
       "┡━━━━━━━━━━━━━━━━━━━━━━━━━━━━━━━━━━━━━━╇━━━━━━━━━━━━━━━━━━━━━━━━━━━━━╇━━━━━━━━━━━━━━━━━┩\n",
       "│ conv2d (\u001b[38;5;33mConv2D\u001b[0m)                      │ (\u001b[38;5;45mNone\u001b[0m, \u001b[38;5;34m222\u001b[0m, \u001b[38;5;34m222\u001b[0m, \u001b[38;5;34m224\u001b[0m)       │           \u001b[38;5;34m6,272\u001b[0m │\n",
       "├──────────────────────────────────────┼─────────────────────────────┼─────────────────┤\n",
       "│ max_pooling2d (\u001b[38;5;33mMaxPooling2D\u001b[0m)         │ (\u001b[38;5;45mNone\u001b[0m, \u001b[38;5;34m111\u001b[0m, \u001b[38;5;34m111\u001b[0m, \u001b[38;5;34m224\u001b[0m)       │               \u001b[38;5;34m0\u001b[0m │\n",
       "├──────────────────────────────────────┼─────────────────────────────┼─────────────────┤\n",
       "│ conv2d_1 (\u001b[38;5;33mConv2D\u001b[0m)                    │ (\u001b[38;5;45mNone\u001b[0m, \u001b[38;5;34m109\u001b[0m, \u001b[38;5;34m109\u001b[0m, \u001b[38;5;34m224\u001b[0m)       │         \u001b[38;5;34m451,808\u001b[0m │\n",
       "├──────────────────────────────────────┼─────────────────────────────┼─────────────────┤\n",
       "│ max_pooling2d_1 (\u001b[38;5;33mMaxPooling2D\u001b[0m)       │ (\u001b[38;5;45mNone\u001b[0m, \u001b[38;5;34m54\u001b[0m, \u001b[38;5;34m54\u001b[0m, \u001b[38;5;34m224\u001b[0m)         │               \u001b[38;5;34m0\u001b[0m │\n",
       "├──────────────────────────────────────┼─────────────────────────────┼─────────────────┤\n",
       "│ dropout (\u001b[38;5;33mDropout\u001b[0m)                    │ (\u001b[38;5;45mNone\u001b[0m, \u001b[38;5;34m54\u001b[0m, \u001b[38;5;34m54\u001b[0m, \u001b[38;5;34m224\u001b[0m)         │               \u001b[38;5;34m0\u001b[0m │\n",
       "├──────────────────────────────────────┼─────────────────────────────┼─────────────────┤\n",
       "│ flatten (\u001b[38;5;33mFlatten\u001b[0m)                    │ (\u001b[38;5;45mNone\u001b[0m, \u001b[38;5;34m653184\u001b[0m)              │               \u001b[38;5;34m0\u001b[0m │\n",
       "├──────────────────────────────────────┼─────────────────────────────┼─────────────────┤\n",
       "│ dense (\u001b[38;5;33mDense\u001b[0m)                        │ (\u001b[38;5;45mNone\u001b[0m, \u001b[38;5;34m128\u001b[0m)                 │      \u001b[38;5;34m83,607,680\u001b[0m │\n",
       "├──────────────────────────────────────┼─────────────────────────────┼─────────────────┤\n",
       "│ dense_1 (\u001b[38;5;33mDense\u001b[0m)                      │ (\u001b[38;5;45mNone\u001b[0m, \u001b[38;5;34m1\u001b[0m)                   │             \u001b[38;5;34m129\u001b[0m │\n",
       "└──────────────────────────────────────┴─────────────────────────────┴─────────────────┘\n"
      ]
     },
     "metadata": {},
     "output_type": "display_data"
    },
    {
     "data": {
      "text/html": [
       "<pre style=\"white-space:pre;overflow-x:auto;line-height:normal;font-family:Menlo,'DejaVu Sans Mono',consolas,'Courier New',monospace\"><span style=\"font-weight: bold\"> Total params: </span><span style=\"color: #00af00; text-decoration-color: #00af00\">84,065,889</span> (320.69 MB)\n",
       "</pre>\n"
      ],
      "text/plain": [
       "\u001b[1m Total params: \u001b[0m\u001b[38;5;34m84,065,889\u001b[0m (320.69 MB)\n"
      ]
     },
     "metadata": {},
     "output_type": "display_data"
    },
    {
     "data": {
      "text/html": [
       "<pre style=\"white-space:pre;overflow-x:auto;line-height:normal;font-family:Menlo,'DejaVu Sans Mono',consolas,'Courier New',monospace\"><span style=\"font-weight: bold\"> Trainable params: </span><span style=\"color: #00af00; text-decoration-color: #00af00\">84,065,889</span> (320.69 MB)\n",
       "</pre>\n"
      ],
      "text/plain": [
       "\u001b[1m Trainable params: \u001b[0m\u001b[38;5;34m84,065,889\u001b[0m (320.69 MB)\n"
      ]
     },
     "metadata": {},
     "output_type": "display_data"
    },
    {
     "data": {
      "text/html": [
       "<pre style=\"white-space:pre;overflow-x:auto;line-height:normal;font-family:Menlo,'DejaVu Sans Mono',consolas,'Courier New',monospace\"><span style=\"font-weight: bold\"> Non-trainable params: </span><span style=\"color: #00af00; text-decoration-color: #00af00\">0</span> (0.00 B)\n",
       "</pre>\n"
      ],
      "text/plain": [
       "\u001b[1m Non-trainable params: \u001b[0m\u001b[38;5;34m0\u001b[0m (0.00 B)\n"
      ]
     },
     "metadata": {},
     "output_type": "display_data"
    }
   ],
   "source": [
    "cnn.summary()"
   ]
  },
  {
   "cell_type": "code",
   "execution_count": 7,
   "id": "439e6786",
   "metadata": {
    "execution": {
     "iopub.execute_input": "2025-06-14T13:57:49.959009Z",
     "iopub.status.busy": "2025-06-14T13:57:49.958820Z",
     "iopub.status.idle": "2025-06-14T14:00:32.584911Z",
     "shell.execute_reply": "2025-06-14T14:00:32.584264Z"
    },
    "papermill": {
     "duration": 162.630085,
     "end_time": "2025-06-14T14:00:32.585975",
     "exception": false,
     "start_time": "2025-06-14T13:57:49.955890",
     "status": "completed"
    },
    "tags": []
   },
   "outputs": [
    {
     "name": "stderr",
     "output_type": "stream",
     "text": [
      "/usr/local/lib/python3.11/dist-packages/keras/src/trainers/data_adapters/py_dataset_adapter.py:121: UserWarning: Your `PyDataset` class should call `super().__init__(**kwargs)` in its constructor. `**kwargs` can include `workers`, `use_multiprocessing`, `max_queue_size`. Do not pass these arguments to `fit()`, as they will be ignored.\n",
      "  self._warn_if_super_not_called()\n"
     ]
    },
    {
     "name": "stdout",
     "output_type": "stream",
     "text": [
      "Epoch 1/45\n"
     ]
    },
    {
     "name": "stderr",
     "output_type": "stream",
     "text": [
      "WARNING: All log messages before absl::InitializeLog() is called are written to STDERR\n",
      "I0000 00:00:1749909473.257328      76 service.cc:148] XLA service 0x7924d0005fa0 initialized for platform CUDA (this does not guarantee that XLA will be used). Devices:\n",
      "I0000 00:00:1749909473.258397      76 service.cc:156]   StreamExecutor device (0): Tesla T4, Compute Capability 7.5\n",
      "I0000 00:00:1749909473.258420      76 service.cc:156]   StreamExecutor device (1): Tesla T4, Compute Capability 7.5\n",
      "I0000 00:00:1749909473.591873      76 cuda_dnn.cc:529] Loaded cuDNN version 90300\n"
     ]
    },
    {
     "name": "stdout",
     "output_type": "stream",
     "text": [
      "\u001b[1m 1/14\u001b[0m \u001b[32m━\u001b[0m\u001b[37m━━━━━━━━━━━━━━━━━━━\u001b[0m \u001b[1m3:28\u001b[0m 16s/step - accuracy: 0.5625 - loss: 0.6946"
     ]
    },
    {
     "name": "stderr",
     "output_type": "stream",
     "text": [
      "I0000 00:00:1749909486.631166      76 device_compiler.h:188] Compiled cluster using XLA!  This line is logged at most once for the lifetime of the process.\n"
     ]
    },
    {
     "name": "stdout",
     "output_type": "stream",
     "text": [
      "\u001b[1m12/14\u001b[0m \u001b[32m━━━━━━━━━━━━━━━━━\u001b[0m\u001b[37m━━━\u001b[0m \u001b[1m0s\u001b[0m 226ms/step - accuracy: 0.5225 - loss: 4.9384"
     ]
    },
    {
     "name": "stderr",
     "output_type": "stream",
     "text": [
      "E0000 00:00:1749909492.852829      76 gpu_timer.cc:82] Delay kernel timed out: measured time has sub-optimal accuracy. There may be a missing warmup execution, please investigate in Nsight Systems.\n",
      "E0000 00:00:1749909493.121034      76 gpu_timer.cc:82] Delay kernel timed out: measured time has sub-optimal accuracy. There may be a missing warmup execution, please investigate in Nsight Systems.\n"
     ]
    },
    {
     "name": "stdout",
     "output_type": "stream",
     "text": [
      "\u001b[1m14/14\u001b[0m \u001b[32m━━━━━━━━━━━━━━━━━━━━\u001b[0m\u001b[37m\u001b[0m \u001b[1m31s\u001b[0m 1s/step - accuracy: 0.5249 - loss: 4.4646 - val_accuracy: 0.6562 - val_loss: 0.6543\n",
      "Epoch 2/45\n",
      "\u001b[1m14/14\u001b[0m \u001b[32m━━━━━━━━━━━━━━━━━━━━\u001b[0m\u001b[37m\u001b[0m \u001b[1m3s\u001b[0m 215ms/step - accuracy: 0.6324 - loss: 0.6421 - val_accuracy: 0.5000 - val_loss: 0.6852\n",
      "Epoch 3/45\n",
      "\u001b[1m14/14\u001b[0m \u001b[32m━━━━━━━━━━━━━━━━━━━━\u001b[0m\u001b[37m\u001b[0m \u001b[1m3s\u001b[0m 199ms/step - accuracy: 0.6765 - loss: 0.5960 - val_accuracy: 0.6250 - val_loss: 0.6235\n",
      "Epoch 4/45\n",
      "\u001b[1m14/14\u001b[0m \u001b[32m━━━━━━━━━━━━━━━━━━━━\u001b[0m\u001b[37m\u001b[0m \u001b[1m3s\u001b[0m 198ms/step - accuracy: 0.6520 - loss: 0.6775 - val_accuracy: 0.6250 - val_loss: 0.6349\n",
      "Epoch 5/45\n",
      "\u001b[1m14/14\u001b[0m \u001b[32m━━━━━━━━━━━━━━━━━━━━\u001b[0m\u001b[37m\u001b[0m \u001b[1m3s\u001b[0m 212ms/step - accuracy: 0.6894 - loss: 0.6043 - val_accuracy: 0.6875 - val_loss: 0.5401\n",
      "Epoch 6/45\n",
      "\u001b[1m14/14\u001b[0m \u001b[32m━━━━━━━━━━━━━━━━━━━━\u001b[0m\u001b[37m\u001b[0m \u001b[1m3s\u001b[0m 221ms/step - accuracy: 0.7673 - loss: 0.5024 - val_accuracy: 0.6562 - val_loss: 0.5462\n",
      "Epoch 7/45\n",
      "\u001b[1m14/14\u001b[0m \u001b[32m━━━━━━━━━━━━━━━━━━━━\u001b[0m\u001b[37m\u001b[0m \u001b[1m3s\u001b[0m 204ms/step - accuracy: 0.7836 - loss: 0.5136 - val_accuracy: 0.6875 - val_loss: 0.5432\n",
      "Epoch 8/45\n",
      "\u001b[1m14/14\u001b[0m \u001b[32m━━━━━━━━━━━━━━━━━━━━\u001b[0m\u001b[37m\u001b[0m \u001b[1m3s\u001b[0m 200ms/step - accuracy: 0.7179 - loss: 0.5760 - val_accuracy: 0.5938 - val_loss: 0.6009\n",
      "Epoch 9/45\n",
      "\u001b[1m14/14\u001b[0m \u001b[32m━━━━━━━━━━━━━━━━━━━━\u001b[0m\u001b[37m\u001b[0m \u001b[1m3s\u001b[0m 189ms/step - accuracy: 0.7253 - loss: 0.5710 - val_accuracy: 0.6875 - val_loss: 0.5669\n",
      "Epoch 10/45\n",
      "\u001b[1m14/14\u001b[0m \u001b[32m━━━━━━━━━━━━━━━━━━━━\u001b[0m\u001b[37m\u001b[0m \u001b[1m3s\u001b[0m 199ms/step - accuracy: 0.7388 - loss: 0.5527 - val_accuracy: 0.6875 - val_loss: 0.5112\n",
      "Epoch 11/45\n",
      "\u001b[1m14/14\u001b[0m \u001b[32m━━━━━━━━━━━━━━━━━━━━\u001b[0m\u001b[37m\u001b[0m \u001b[1m3s\u001b[0m 198ms/step - accuracy: 0.7674 - loss: 0.5309 - val_accuracy: 0.6875 - val_loss: 0.5234\n",
      "Epoch 12/45\n",
      "\u001b[1m14/14\u001b[0m \u001b[32m━━━━━━━━━━━━━━━━━━━━\u001b[0m\u001b[37m\u001b[0m \u001b[1m3s\u001b[0m 206ms/step - accuracy: 0.7606 - loss: 0.5117 - val_accuracy: 0.7500 - val_loss: 0.4786\n",
      "Epoch 13/45\n",
      "\u001b[1m14/14\u001b[0m \u001b[32m━━━━━━━━━━━━━━━━━━━━\u001b[0m\u001b[37m\u001b[0m \u001b[1m3s\u001b[0m 210ms/step - accuracy: 0.7550 - loss: 0.5229 - val_accuracy: 0.7500 - val_loss: 0.5481\n",
      "Epoch 14/45\n",
      "\u001b[1m14/14\u001b[0m \u001b[32m━━━━━━━━━━━━━━━━━━━━\u001b[0m\u001b[37m\u001b[0m \u001b[1m3s\u001b[0m 206ms/step - accuracy: 0.7279 - loss: 0.5920 - val_accuracy: 0.6875 - val_loss: 0.5274\n",
      "Epoch 15/45\n",
      "\u001b[1m14/14\u001b[0m \u001b[32m━━━━━━━━━━━━━━━━━━━━\u001b[0m\u001b[37m\u001b[0m \u001b[1m3s\u001b[0m 199ms/step - accuracy: 0.7660 - loss: 0.5189 - val_accuracy: 0.8125 - val_loss: 0.4803\n",
      "Epoch 16/45\n",
      "\u001b[1m14/14\u001b[0m \u001b[32m━━━━━━━━━━━━━━━━━━━━\u001b[0m\u001b[37m\u001b[0m \u001b[1m3s\u001b[0m 212ms/step - accuracy: 0.7770 - loss: 0.4856 - val_accuracy: 0.7500 - val_loss: 0.5549\n",
      "Epoch 17/45\n",
      "\u001b[1m14/14\u001b[0m \u001b[32m━━━━━━━━━━━━━━━━━━━━\u001b[0m\u001b[37m\u001b[0m \u001b[1m3s\u001b[0m 203ms/step - accuracy: 0.8080 - loss: 0.4209 - val_accuracy: 0.7500 - val_loss: 0.5403\n",
      "Epoch 18/45\n",
      "\u001b[1m14/14\u001b[0m \u001b[32m━━━━━━━━━━━━━━━━━━━━\u001b[0m\u001b[37m\u001b[0m \u001b[1m3s\u001b[0m 226ms/step - accuracy: 0.7838 - loss: 0.4643 - val_accuracy: 0.7812 - val_loss: 0.4382\n",
      "Epoch 19/45\n",
      "\u001b[1m14/14\u001b[0m \u001b[32m━━━━━━━━━━━━━━━━━━━━\u001b[0m\u001b[37m\u001b[0m \u001b[1m3s\u001b[0m 213ms/step - accuracy: 0.8076 - loss: 0.4625 - val_accuracy: 0.8125 - val_loss: 0.4007\n",
      "Epoch 20/45\n",
      "\u001b[1m14/14\u001b[0m \u001b[32m━━━━━━━━━━━━━━━━━━━━\u001b[0m\u001b[37m\u001b[0m \u001b[1m3s\u001b[0m 206ms/step - accuracy: 0.8115 - loss: 0.4556 - val_accuracy: 0.7812 - val_loss: 0.3925\n",
      "Epoch 21/45\n",
      "\u001b[1m14/14\u001b[0m \u001b[32m━━━━━━━━━━━━━━━━━━━━\u001b[0m\u001b[37m\u001b[0m \u001b[1m3s\u001b[0m 205ms/step - accuracy: 0.8010 - loss: 0.4748 - val_accuracy: 0.8125 - val_loss: 0.3813\n",
      "Epoch 22/45\n",
      "\u001b[1m14/14\u001b[0m \u001b[32m━━━━━━━━━━━━━━━━━━━━\u001b[0m\u001b[37m\u001b[0m \u001b[1m3s\u001b[0m 197ms/step - accuracy: 0.8292 - loss: 0.3763 - val_accuracy: 0.8438 - val_loss: 0.3571\n",
      "Epoch 23/45\n",
      "\u001b[1m14/14\u001b[0m \u001b[32m━━━━━━━━━━━━━━━━━━━━\u001b[0m\u001b[37m\u001b[0m \u001b[1m3s\u001b[0m 197ms/step - accuracy: 0.8148 - loss: 0.3697 - val_accuracy: 0.8438 - val_loss: 0.4676\n",
      "Epoch 24/45\n",
      "\u001b[1m14/14\u001b[0m \u001b[32m━━━━━━━━━━━━━━━━━━━━\u001b[0m\u001b[37m\u001b[0m \u001b[1m3s\u001b[0m 194ms/step - accuracy: 0.8388 - loss: 0.3936 - val_accuracy: 0.8438 - val_loss: 0.3214\n",
      "Epoch 25/45\n",
      "\u001b[1m14/14\u001b[0m \u001b[32m━━━━━━━━━━━━━━━━━━━━\u001b[0m\u001b[37m\u001b[0m \u001b[1m3s\u001b[0m 201ms/step - accuracy: 0.8474 - loss: 0.3551 - val_accuracy: 0.9062 - val_loss: 0.2903\n",
      "Epoch 26/45\n",
      "\u001b[1m14/14\u001b[0m \u001b[32m━━━━━━━━━━━━━━━━━━━━\u001b[0m\u001b[37m\u001b[0m \u001b[1m3s\u001b[0m 207ms/step - accuracy: 0.8605 - loss: 0.3783 - val_accuracy: 0.9375 - val_loss: 0.2815\n",
      "Epoch 27/45\n",
      "\u001b[1m14/14\u001b[0m \u001b[32m━━━━━━━━━━━━━━━━━━━━\u001b[0m\u001b[37m\u001b[0m \u001b[1m3s\u001b[0m 210ms/step - accuracy: 0.8385 - loss: 0.3253 - val_accuracy: 0.8438 - val_loss: 0.3321\n",
      "Epoch 28/45\n",
      "\u001b[1m14/14\u001b[0m \u001b[32m━━━━━━━━━━━━━━━━━━━━\u001b[0m\u001b[37m\u001b[0m \u001b[1m3s\u001b[0m 213ms/step - accuracy: 0.8055 - loss: 0.4119 - val_accuracy: 0.8438 - val_loss: 0.3240\n",
      "Epoch 29/45\n",
      "\u001b[1m14/14\u001b[0m \u001b[32m━━━━━━━━━━━━━━━━━━━━\u001b[0m\u001b[37m\u001b[0m \u001b[1m3s\u001b[0m 195ms/step - accuracy: 0.8501 - loss: 0.4153 - val_accuracy: 0.8438 - val_loss: 0.3811\n",
      "Epoch 30/45\n",
      "\u001b[1m14/14\u001b[0m \u001b[32m━━━━━━━━━━━━━━━━━━━━\u001b[0m\u001b[37m\u001b[0m \u001b[1m3s\u001b[0m 196ms/step - accuracy: 0.7995 - loss: 0.3832 - val_accuracy: 0.8438 - val_loss: 0.3340\n",
      "Epoch 31/45\n",
      "\u001b[1m14/14\u001b[0m \u001b[32m━━━━━━━━━━━━━━━━━━━━\u001b[0m\u001b[37m\u001b[0m \u001b[1m3s\u001b[0m 182ms/step - accuracy: 0.8518 - loss: 0.3366 - val_accuracy: 0.9375 - val_loss: 0.3160\n",
      "Epoch 32/45\n",
      "\u001b[1m14/14\u001b[0m \u001b[32m━━━━━━━━━━━━━━━━━━━━\u001b[0m\u001b[37m\u001b[0m \u001b[1m3s\u001b[0m 196ms/step - accuracy: 0.8769 - loss: 0.3294 - val_accuracy: 0.7500 - val_loss: 0.5722\n",
      "Epoch 33/45\n",
      "\u001b[1m14/14\u001b[0m \u001b[32m━━━━━━━━━━━━━━━━━━━━\u001b[0m\u001b[37m\u001b[0m \u001b[1m3s\u001b[0m 186ms/step - accuracy: 0.8739 - loss: 0.2907 - val_accuracy: 0.8438 - val_loss: 0.3388\n",
      "Epoch 34/45\n",
      "\u001b[1m14/14\u001b[0m \u001b[32m━━━━━━━━━━━━━━━━━━━━\u001b[0m\u001b[37m\u001b[0m \u001b[1m3s\u001b[0m 191ms/step - accuracy: 0.7977 - loss: 0.4390 - val_accuracy: 0.8125 - val_loss: 0.3536\n",
      "Epoch 35/45\n",
      "\u001b[1m14/14\u001b[0m \u001b[32m━━━━━━━━━━━━━━━━━━━━\u001b[0m\u001b[37m\u001b[0m \u001b[1m3s\u001b[0m 206ms/step - accuracy: 0.8447 - loss: 0.3589 - val_accuracy: 0.8438 - val_loss: 0.4350\n",
      "Epoch 36/45\n",
      "\u001b[1m14/14\u001b[0m \u001b[32m━━━━━━━━━━━━━━━━━━━━\u001b[0m\u001b[37m\u001b[0m \u001b[1m3s\u001b[0m 197ms/step - accuracy: 0.9029 - loss: 0.3125 - val_accuracy: 0.9375 - val_loss: 0.3452\n",
      "Epoch 37/45\n",
      "\u001b[1m14/14\u001b[0m \u001b[32m━━━━━━━━━━━━━━━━━━━━\u001b[0m\u001b[37m\u001b[0m \u001b[1m3s\u001b[0m 198ms/step - accuracy: 0.8529 - loss: 0.4219 - val_accuracy: 0.8750 - val_loss: 0.3523\n",
      "Epoch 38/45\n",
      "\u001b[1m14/14\u001b[0m \u001b[32m━━━━━━━━━━━━━━━━━━━━\u001b[0m\u001b[37m\u001b[0m \u001b[1m3s\u001b[0m 220ms/step - accuracy: 0.8587 - loss: 0.3345 - val_accuracy: 0.8438 - val_loss: 0.4375\n",
      "Epoch 39/45\n",
      "\u001b[1m14/14\u001b[0m \u001b[32m━━━━━━━━━━━━━━━━━━━━\u001b[0m\u001b[37m\u001b[0m \u001b[1m3s\u001b[0m 215ms/step - accuracy: 0.8372 - loss: 0.3244 - val_accuracy: 0.8125 - val_loss: 0.3525\n",
      "Epoch 40/45\n",
      "\u001b[1m14/14\u001b[0m \u001b[32m━━━━━━━━━━━━━━━━━━━━\u001b[0m\u001b[37m\u001b[0m \u001b[1m3s\u001b[0m 190ms/step - accuracy: 0.8925 - loss: 0.3394 - val_accuracy: 0.8438 - val_loss: 0.4163\n",
      "Epoch 41/45\n",
      "\u001b[1m14/14\u001b[0m \u001b[32m━━━━━━━━━━━━━━━━━━━━\u001b[0m\u001b[37m\u001b[0m \u001b[1m3s\u001b[0m 193ms/step - accuracy: 0.8728 - loss: 0.3047 - val_accuracy: 0.8438 - val_loss: 0.3912\n",
      "Epoch 42/45\n",
      "\u001b[1m14/14\u001b[0m \u001b[32m━━━━━━━━━━━━━━━━━━━━\u001b[0m\u001b[37m\u001b[0m \u001b[1m3s\u001b[0m 221ms/step - accuracy: 0.8481 - loss: 0.3805 - val_accuracy: 0.8750 - val_loss: 0.3455\n",
      "Epoch 43/45\n",
      "\u001b[1m14/14\u001b[0m \u001b[32m━━━━━━━━━━━━━━━━━━━━\u001b[0m\u001b[37m\u001b[0m \u001b[1m3s\u001b[0m 203ms/step - accuracy: 0.8992 - loss: 0.2789 - val_accuracy: 0.8438 - val_loss: 0.3655\n",
      "Epoch 44/45\n",
      "\u001b[1m14/14\u001b[0m \u001b[32m━━━━━━━━━━━━━━━━━━━━\u001b[0m\u001b[37m\u001b[0m \u001b[1m3s\u001b[0m 201ms/step - accuracy: 0.8815 - loss: 0.2767 - val_accuracy: 0.9375 - val_loss: 0.3305\n",
      "Epoch 45/45\n",
      "\u001b[1m14/14\u001b[0m \u001b[32m━━━━━━━━━━━━━━━━━━━━\u001b[0m\u001b[37m\u001b[0m \u001b[1m3s\u001b[0m 195ms/step - accuracy: 0.8624 - loss: 0.4045 - val_accuracy: 0.8750 - val_loss: 0.3305\n"
     ]
    },
    {
     "data": {
      "text/plain": [
       "<keras.src.callbacks.history.History at 0x792636526a10>"
      ]
     },
     "execution_count": 7,
     "metadata": {},
     "output_type": "execute_result"
    }
   ],
   "source": [
    "cnn.fit(x= training_set, validation_data= test_set, epochs= 45)"
   ]
  },
  {
   "cell_type": "code",
   "execution_count": 8,
   "id": "0d3d9b39",
   "metadata": {
    "execution": {
     "iopub.execute_input": "2025-06-14T14:00:32.649936Z",
     "iopub.status.busy": "2025-06-14T14:00:32.649532Z",
     "iopub.status.idle": "2025-06-14T14:00:32.656412Z",
     "shell.execute_reply": "2025-06-14T14:00:32.655722Z"
    },
    "papermill": {
     "duration": 0.039503,
     "end_time": "2025-06-14T14:00:32.657679",
     "exception": false,
     "start_time": "2025-06-14T14:00:32.618176",
     "status": "completed"
    },
    "tags": []
   },
   "outputs": [],
   "source": [
    "from keras.preprocessing import image\n",
    "from tensorflow.keras.utils import load_img, img_to_array"
   ]
  },
  {
   "cell_type": "code",
   "execution_count": 9,
   "id": "837d75f0",
   "metadata": {
    "execution": {
     "iopub.execute_input": "2025-06-14T14:00:32.718957Z",
     "iopub.status.busy": "2025-06-14T14:00:32.718769Z",
     "iopub.status.idle": "2025-06-14T14:00:35.131417Z",
     "shell.execute_reply": "2025-06-14T14:00:35.130724Z"
    },
    "papermill": {
     "duration": 2.444777,
     "end_time": "2025-06-14T14:00:35.132540",
     "exception": false,
     "start_time": "2025-06-14T14:00:32.687763",
     "status": "completed"
    },
    "tags": []
   },
   "outputs": [
    {
     "name": "stdout",
     "output_type": "stream",
     "text": [
      "Found 6 images in /kaggle/input/brain-tumor-detection/Brain_tumor_data/prediction/\n",
      "\n",
      "Processing image: yes1.jpg\n",
      "\u001b[1m1/1\u001b[0m \u001b[32m━━━━━━━━━━━━━━━━━━━━\u001b[0m\u001b[37m\u001b[0m \u001b[1m2s\u001b[0m 2s/step\n",
      "Raw prediction for yes1.jpg: [[0.98592365]]\n",
      "Prediction: Yes, Tumor is detected (Confidence: 98.59%)\n",
      "\n",
      "Processing image: no2.jpg\n",
      "\u001b[1m1/1\u001b[0m \u001b[32m━━━━━━━━━━━━━━━━━━━━\u001b[0m\u001b[37m\u001b[0m \u001b[1m0s\u001b[0m 34ms/step\n",
      "Raw prediction for no2.jpg: [[0.03380277]]\n",
      "Prediction: No Tumor. You are Healthy (Confidence: 96.62%)\n",
      "\n",
      "Processing image: yes2.jpg\n",
      "\u001b[1m1/1\u001b[0m \u001b[32m━━━━━━━━━━━━━━━━━━━━\u001b[0m\u001b[37m\u001b[0m \u001b[1m0s\u001b[0m 33ms/step\n",
      "Raw prediction for yes2.jpg: [[0.9865767]]\n",
      "Prediction: Yes, Tumor is detected (Confidence: 98.66%)\n",
      "\n",
      "Processing image: no3.jpg\n",
      "\u001b[1m1/1\u001b[0m \u001b[32m━━━━━━━━━━━━━━━━━━━━\u001b[0m\u001b[37m\u001b[0m \u001b[1m0s\u001b[0m 32ms/step\n",
      "Raw prediction for no3.jpg: [[0.00130246]]\n",
      "Prediction: No Tumor. You are Healthy (Confidence: 99.87%)\n",
      "\n",
      "Processing image: yes3.JPG\n",
      "\u001b[1m1/1\u001b[0m \u001b[32m━━━━━━━━━━━━━━━━━━━━\u001b[0m\u001b[37m\u001b[0m \u001b[1m0s\u001b[0m 33ms/step\n",
      "Raw prediction for yes3.JPG: [[0.91661173]]\n",
      "Prediction: Yes, Tumor is detected (Confidence: 91.66%)\n",
      "\n",
      "Processing image: no1.jpg\n",
      "\u001b[1m1/1\u001b[0m \u001b[32m━━━━━━━━━━━━━━━━━━━━\u001b[0m\u001b[37m\u001b[0m \u001b[1m0s\u001b[0m 32ms/step\n",
      "Raw prediction for no1.jpg: [[0.00056311]]\n",
      "Prediction: No Tumor. You are Healthy (Confidence: 99.94%)\n",
      "\n",
      "All images processed.\n"
     ]
    }
   ],
   "source": [
    "import os\n",
    "\n",
    "# Path to the directory containing the images you want to predict\n",
    "image_directory = '/kaggle/input/brain-tumor-detection/Brain_tumor_data/prediction/'\n",
    "\n",
    "# Get a list of all image files in the directory\n",
    "image_files = [f for f in os.listdir(image_directory) if f.lower().endswith(('.png', '.jpg', '.jpeg', '.gif', '.bmp'))]\n",
    "\n",
    "print(f\"Found {len(image_files)} images in {image_directory}\\n\")\n",
    "\n",
    "for image_name in image_files:\n",
    "    image_path = os.path.join(image_directory, image_name)\n",
    "    print(f\"Processing image: {image_name}\")\n",
    "\n",
    "    # Load the image\n",
    "    test_image = load_img(image_path, target_size=(224, 224))\n",
    "\n",
    "    # Convert to NumPy array\n",
    "    test_image = img_to_array(test_image)\n",
    "\n",
    "    # Expand dimensions to create a batch of 1 image\n",
    "    test_image = np.expand_dims(test_image, axis=0)\n",
    "\n",
    "    test_image = test_image / 255.0\n",
    "\n",
    "    # Make prediction\n",
    "    result = cnn.predict(test_image)\n",
    "    training_set.class_indices\n",
    "\n",
    "    # Print raw prediction result (probabilities or logits)\n",
    "    print(f\"Raw prediction for {image_name}: {result}\")\n",
    "\n",
    "    # Interpret the result\n",
    "    if result.shape[1] == 1: # Binary classification with sigmoid output\n",
    "        if result[0][0] > 0.5:\n",
    "            prediction_label = training_set.class_indices.get(1, \"Yes, Tumor is detected\") \n",
    "            confidence = result[0][0] * 100\n",
    "        else:\n",
    "            prediction_label = training_set.class_indices.get(0, \"No Tumor. You are Healthy\")\n",
    "            confidence = (1 - result[0][0]) * 100\n",
    "    \n",
    "    print(f\"Prediction: {prediction_label} (Confidence: {confidence:.2f}%)\\n\")\n",
    "\n",
    "print(\"All images processed.\")"
   ]
  }
 ],
 "metadata": {
  "kaggle": {
   "accelerator": "nvidiaTeslaT4",
   "dataSources": [
    {
     "datasetId": 7661369,
     "sourceId": 12164462,
     "sourceType": "datasetVersion"
    }
   ],
   "dockerImageVersionId": 31041,
   "isGpuEnabled": true,
   "isInternetEnabled": true,
   "language": "python",
   "sourceType": "notebook"
  },
  "kernelspec": {
   "display_name": "Python 3",
   "language": "python",
   "name": "python3"
  },
  "language_info": {
   "codemirror_mode": {
    "name": "ipython",
    "version": 3
   },
   "file_extension": ".py",
   "mimetype": "text/x-python",
   "name": "python",
   "nbconvert_exporter": "python",
   "pygments_lexer": "ipython3",
   "version": "3.11.11"
  },
  "papermill": {
   "default_parameters": {},
   "duration": 192.371013,
   "end_time": "2025-06-14T14:00:38.620058",
   "environment_variables": {},
   "exception": null,
   "input_path": "__notebook__.ipynb",
   "output_path": "__notebook__.ipynb",
   "parameters": {},
   "start_time": "2025-06-14T13:57:26.249045",
   "version": "2.6.0"
  }
 },
 "nbformat": 4,
 "nbformat_minor": 5
}
