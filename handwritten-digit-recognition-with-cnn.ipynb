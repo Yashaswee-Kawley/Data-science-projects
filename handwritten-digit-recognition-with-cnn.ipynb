{
 "cells": [
  {
   "cell_type": "code",
   "execution_count": 1,
   "id": "c49e75e1",
   "metadata": {
    "_cell_guid": "b1076dfc-b9ad-4769-8c92-a6c4dae69d19",
    "_uuid": "8f2839f25d086af736a60e9eeb907d3b93b6e0e5",
    "execution": {
     "iopub.execute_input": "2025-06-05T14:07:11.987058Z",
     "iopub.status.busy": "2025-06-05T14:07:11.986755Z",
     "iopub.status.idle": "2025-06-05T14:07:27.234949Z",
     "shell.execute_reply": "2025-06-05T14:07:27.234119Z"
    },
    "papermill": {
     "duration": 15.252971,
     "end_time": "2025-06-05T14:07:27.236491",
     "exception": false,
     "start_time": "2025-06-05T14:07:11.983520",
     "status": "completed"
    },
    "tags": []
   },
   "outputs": [
    {
     "name": "stderr",
     "output_type": "stream",
     "text": [
      "2025-06-05 14:07:13.622113: E external/local_xla/xla/stream_executor/cuda/cuda_fft.cc:477] Unable to register cuFFT factory: Attempting to register factory for plugin cuFFT when one has already been registered\n",
      "WARNING: All log messages before absl::InitializeLog() is called are written to STDERR\n",
      "E0000 00:00:1749132433.795492      19 cuda_dnn.cc:8310] Unable to register cuDNN factory: Attempting to register factory for plugin cuDNN when one has already been registered\n",
      "E0000 00:00:1749132433.846555      19 cuda_blas.cc:1418] Unable to register cuBLAS factory: Attempting to register factory for plugin cuBLAS when one has already been registered\n"
     ]
    }
   ],
   "source": [
    "import keras\n",
    "from keras.datasets import mnist\n",
    "from keras.models import Sequential\n",
    "from keras.layers import Dense, Dropout, Flatten, Conv2D, MaxPooling2D\n",
    "from keras import backend as k"
   ]
  },
  {
   "cell_type": "code",
   "execution_count": 2,
   "id": "eee10aca",
   "metadata": {
    "execution": {
     "iopub.execute_input": "2025-06-05T14:07:27.242069Z",
     "iopub.status.busy": "2025-06-05T14:07:27.241481Z",
     "iopub.status.idle": "2025-06-05T14:07:27.631797Z",
     "shell.execute_reply": "2025-06-05T14:07:27.630845Z"
    },
    "papermill": {
     "duration": 0.394375,
     "end_time": "2025-06-05T14:07:27.633330",
     "exception": false,
     "start_time": "2025-06-05T14:07:27.238955",
     "status": "completed"
    },
    "tags": []
   },
   "outputs": [
    {
     "name": "stdout",
     "output_type": "stream",
     "text": [
      "Downloading data from https://storage.googleapis.com/tensorflow/tf-keras-datasets/mnist.npz\n",
      "\u001b[1m11490434/11490434\u001b[0m \u001b[32m━━━━━━━━━━━━━━━━━━━━\u001b[0m\u001b[37m\u001b[0m \u001b[1m0s\u001b[0m 0us/step\n"
     ]
    }
   ],
   "source": [
    "(x_train, y_train), (x_test, y_test) = mnist.load_data()"
   ]
  },
  {
   "cell_type": "code",
   "execution_count": 3,
   "id": "aff1d483",
   "metadata": {
    "execution": {
     "iopub.execute_input": "2025-06-05T14:07:27.639267Z",
     "iopub.status.busy": "2025-06-05T14:07:27.638770Z",
     "iopub.status.idle": "2025-06-05T14:07:27.753832Z",
     "shell.execute_reply": "2025-06-05T14:07:27.752802Z"
    },
    "papermill": {
     "duration": 0.119367,
     "end_time": "2025-06-05T14:07:27.755296",
     "exception": false,
     "start_time": "2025-06-05T14:07:27.635929",
     "status": "completed"
    },
    "tags": []
   },
   "outputs": [],
   "source": [
    "no_of_trainImgs = x_train.shape[0]\n",
    "no_of_testImgs = x_test.shape[0]\n",
    "img_width = 28\n",
    "img_height = 28\n",
    "\n",
    "x_train = x_train.reshape(x_train.shape[0], img_height, img_width, 1)\n",
    "x_test = x_test.reshape(x_test.shape[0], img_height, img_width, 1)\n",
    "input_shape = (img_height, img_width, 1)\n",
    "\n",
    "x_train = x_train.astype(\"float32\")\n",
    "x_test = x_test.astype(\"float32\")\n",
    "x_train /= 255\n",
    "x_test /= 255"
   ]
  },
  {
   "cell_type": "code",
   "execution_count": 4,
   "id": "f77c8666",
   "metadata": {
    "execution": {
     "iopub.execute_input": "2025-06-05T14:07:27.760810Z",
     "iopub.status.busy": "2025-06-05T14:07:27.760256Z",
     "iopub.status.idle": "2025-06-05T14:07:27.768005Z",
     "shell.execute_reply": "2025-06-05T14:07:27.767310Z"
    },
    "papermill": {
     "duration": 0.011518,
     "end_time": "2025-06-05T14:07:27.769150",
     "exception": false,
     "start_time": "2025-06-05T14:07:27.757632",
     "status": "completed"
    },
    "tags": []
   },
   "outputs": [],
   "source": [
    "num_classes = 10\n",
    "y_train = keras.utils.to_categorical(y_train, num_classes)\n",
    "y_test = keras.utils.to_categorical(y_test, num_classes)"
   ]
  },
  {
   "cell_type": "code",
   "execution_count": 5,
   "id": "7334d16e",
   "metadata": {
    "execution": {
     "iopub.execute_input": "2025-06-05T14:07:27.774000Z",
     "iopub.status.busy": "2025-06-05T14:07:27.773603Z",
     "iopub.status.idle": "2025-06-05T14:07:30.145319Z",
     "shell.execute_reply": "2025-06-05T14:07:30.144599Z"
    },
    "papermill": {
     "duration": 2.375451,
     "end_time": "2025-06-05T14:07:30.146586",
     "exception": false,
     "start_time": "2025-06-05T14:07:27.771135",
     "status": "completed"
    },
    "tags": []
   },
   "outputs": [
    {
     "name": "stderr",
     "output_type": "stream",
     "text": [
      "/usr/local/lib/python3.11/dist-packages/keras/src/layers/convolutional/base_conv.py:107: UserWarning: Do not pass an `input_shape`/`input_dim` argument to a layer. When using Sequential models, prefer using an `Input(shape)` object as the first layer in the model instead.\n",
      "  super().__init__(activity_regularizer=activity_regularizer, **kwargs)\n",
      "I0000 00:00:1749132448.930444      19 gpu_device.cc:2022] Created device /job:localhost/replica:0/task:0/device:GPU:0 with 13942 MB memory:  -> device: 0, name: Tesla T4, pci bus id: 0000:00:04.0, compute capability: 7.5\n",
      "I0000 00:00:1749132448.931066      19 gpu_device.cc:2022] Created device /job:localhost/replica:0/task:0/device:GPU:1 with 13942 MB memory:  -> device: 1, name: Tesla T4, pci bus id: 0000:00:05.0, compute capability: 7.5\n"
     ]
    }
   ],
   "source": [
    "model = Sequential()\n",
    "model.add(Conv2D(32, kernel_size= (3, 3), activation= \"relu\", input_shape= input_shape))\n",
    "model.add(Conv2D(64, (3,3), activation= \"relu\"))\n",
    "model.add(MaxPooling2D(pool_size= (2, 2)))\n",
    "model.add(Dropout(0.25))\n",
    "model.add(Flatten())\n",
    "model.add(Dense(128, activation= \"relu\"))\n",
    "model.add(Dropout(0.5))\n",
    "model.add(Dense(num_classes, activation= \"softmax\"))"
   ]
  },
  {
   "cell_type": "code",
   "execution_count": 6,
   "id": "70472251",
   "metadata": {
    "execution": {
     "iopub.execute_input": "2025-06-05T14:07:30.151858Z",
     "iopub.status.busy": "2025-06-05T14:07:30.151616Z",
     "iopub.status.idle": "2025-06-05T14:07:30.162714Z",
     "shell.execute_reply": "2025-06-05T14:07:30.162235Z"
    },
    "papermill": {
     "duration": 0.014847,
     "end_time": "2025-06-05T14:07:30.163787",
     "exception": false,
     "start_time": "2025-06-05T14:07:30.148940",
     "status": "completed"
    },
    "tags": []
   },
   "outputs": [],
   "source": [
    "model.compile(loss= keras.losses.categorical_crossentropy, optimizer= keras.optimizers.Adadelta(), metrics= [\"accuracy\"])"
   ]
  },
  {
   "cell_type": "code",
   "execution_count": 7,
   "id": "cbe7bd7e",
   "metadata": {
    "execution": {
     "iopub.execute_input": "2025-06-05T14:07:30.169468Z",
     "iopub.status.busy": "2025-06-05T14:07:30.169240Z",
     "iopub.status.idle": "2025-06-05T14:09:08.189552Z",
     "shell.execute_reply": "2025-06-05T14:09:08.188873Z"
    },
    "papermill": {
     "duration": 98.024396,
     "end_time": "2025-06-05T14:09:08.190729",
     "exception": false,
     "start_time": "2025-06-05T14:07:30.166333",
     "status": "completed"
    },
    "tags": []
   },
   "outputs": [
    {
     "name": "stdout",
     "output_type": "stream",
     "text": [
      "Epoch 1/30\n"
     ]
    },
    {
     "name": "stderr",
     "output_type": "stream",
     "text": [
      "WARNING: All log messages before absl::InitializeLog() is called are written to STDERR\n",
      "I0000 00:00:1749132452.533095      61 service.cc:148] XLA service 0x7c64f4003ff0 initialized for platform CUDA (this does not guarantee that XLA will be used). Devices:\n",
      "I0000 00:00:1749132452.533603      61 service.cc:156]   StreamExecutor device (0): Tesla T4, Compute Capability 7.5\n",
      "I0000 00:00:1749132452.533621      61 service.cc:156]   StreamExecutor device (1): Tesla T4, Compute Capability 7.5\n",
      "I0000 00:00:1749132452.806545      61 cuda_dnn.cc:529] Loaded cuDNN version 90300\n"
     ]
    },
    {
     "name": "stdout",
     "output_type": "stream",
     "text": [
      "\u001b[1m 30/469\u001b[0m \u001b[32m━\u001b[0m\u001b[37m━━━━━━━━━━━━━━━━━━━\u001b[0m \u001b[1m2s\u001b[0m 6ms/step - accuracy: 0.1066 - loss: 2.3085"
     ]
    },
    {
     "name": "stderr",
     "output_type": "stream",
     "text": [
      "I0000 00:00:1749132455.934658      61 device_compiler.h:188] Compiled cluster using XLA!  This line is logged at most once for the lifetime of the process.\n"
     ]
    },
    {
     "name": "stdout",
     "output_type": "stream",
     "text": [
      "\u001b[1m469/469\u001b[0m \u001b[32m━━━━━━━━━━━━━━━━━━━━\u001b[0m\u001b[37m\u001b[0m \u001b[1m12s\u001b[0m 14ms/step - accuracy: 0.1231 - loss: 2.2968 - val_accuracy: 0.2412 - val_loss: 2.2524\n",
      "Epoch 2/30\n",
      "\u001b[1m469/469\u001b[0m \u001b[32m━━━━━━━━━━━━━━━━━━━━\u001b[0m\u001b[37m\u001b[0m \u001b[1m3s\u001b[0m 6ms/step - accuracy: 0.2080 - loss: 2.2478 - val_accuracy: 0.4347 - val_loss: 2.1897\n",
      "Epoch 3/30\n",
      "\u001b[1m469/469\u001b[0m \u001b[32m━━━━━━━━━━━━━━━━━━━━\u001b[0m\u001b[37m\u001b[0m \u001b[1m3s\u001b[0m 6ms/step - accuracy: 0.3129 - loss: 2.1861 - val_accuracy: 0.5592 - val_loss: 2.1087\n",
      "Epoch 4/30\n",
      "\u001b[1m469/469\u001b[0m \u001b[32m━━━━━━━━━━━━━━━━━━━━\u001b[0m\u001b[37m\u001b[0m \u001b[1m3s\u001b[0m 6ms/step - accuracy: 0.4121 - loss: 2.1053 - val_accuracy: 0.6492 - val_loss: 1.9979\n",
      "Epoch 5/30\n",
      "\u001b[1m469/469\u001b[0m \u001b[32m━━━━━━━━━━━━━━━━━━━━\u001b[0m\u001b[37m\u001b[0m \u001b[1m3s\u001b[0m 6ms/step - accuracy: 0.4912 - loss: 1.9964 - val_accuracy: 0.7133 - val_loss: 1.8508\n",
      "Epoch 6/30\n",
      "\u001b[1m469/469\u001b[0m \u001b[32m━━━━━━━━━━━━━━━━━━━━\u001b[0m\u001b[37m\u001b[0m \u001b[1m3s\u001b[0m 6ms/step - accuracy: 0.5496 - loss: 1.8549 - val_accuracy: 0.7483 - val_loss: 1.6655\n",
      "Epoch 7/30\n",
      "\u001b[1m469/469\u001b[0m \u001b[32m━━━━━━━━━━━━━━━━━━━━\u001b[0m\u001b[37m\u001b[0m \u001b[1m3s\u001b[0m 6ms/step - accuracy: 0.5895 - loss: 1.6877 - val_accuracy: 0.7682 - val_loss: 1.4563\n",
      "Epoch 8/30\n",
      "\u001b[1m469/469\u001b[0m \u001b[32m━━━━━━━━━━━━━━━━━━━━\u001b[0m\u001b[37m\u001b[0m \u001b[1m3s\u001b[0m 6ms/step - accuracy: 0.6221 - loss: 1.5061 - val_accuracy: 0.7849 - val_loss: 1.2513\n",
      "Epoch 9/30\n",
      "\u001b[1m469/469\u001b[0m \u001b[32m━━━━━━━━━━━━━━━━━━━━\u001b[0m\u001b[37m\u001b[0m \u001b[1m3s\u001b[0m 6ms/step - accuracy: 0.6410 - loss: 1.3513 - val_accuracy: 0.7969 - val_loss: 1.0767\n",
      "Epoch 10/30\n",
      "\u001b[1m469/469\u001b[0m \u001b[32m━━━━━━━━━━━━━━━━━━━━\u001b[0m\u001b[37m\u001b[0m \u001b[1m3s\u001b[0m 6ms/step - accuracy: 0.6658 - loss: 1.2100 - val_accuracy: 0.8106 - val_loss: 0.9388\n",
      "Epoch 11/30\n",
      "\u001b[1m469/469\u001b[0m \u001b[32m━━━━━━━━━━━━━━━━━━━━\u001b[0m\u001b[37m\u001b[0m \u001b[1m3s\u001b[0m 6ms/step - accuracy: 0.6878 - loss: 1.1004 - val_accuracy: 0.8231 - val_loss: 0.8327\n",
      "Epoch 12/30\n",
      "\u001b[1m469/469\u001b[0m \u001b[32m━━━━━━━━━━━━━━━━━━━━\u001b[0m\u001b[37m\u001b[0m \u001b[1m3s\u001b[0m 6ms/step - accuracy: 0.7027 - loss: 1.0173 - val_accuracy: 0.8314 - val_loss: 0.7504\n",
      "Epoch 13/30\n",
      "\u001b[1m469/469\u001b[0m \u001b[32m━━━━━━━━━━━━━━━━━━━━\u001b[0m\u001b[37m\u001b[0m \u001b[1m3s\u001b[0m 6ms/step - accuracy: 0.7239 - loss: 0.9422 - val_accuracy: 0.8388 - val_loss: 0.6868\n",
      "Epoch 14/30\n",
      "\u001b[1m469/469\u001b[0m \u001b[32m━━━━━━━━━━━━━━━━━━━━\u001b[0m\u001b[37m\u001b[0m \u001b[1m3s\u001b[0m 6ms/step - accuracy: 0.7337 - loss: 0.8873 - val_accuracy: 0.8479 - val_loss: 0.6354\n",
      "Epoch 15/30\n",
      "\u001b[1m469/469\u001b[0m \u001b[32m━━━━━━━━━━━━━━━━━━━━\u001b[0m\u001b[37m\u001b[0m \u001b[1m3s\u001b[0m 6ms/step - accuracy: 0.7431 - loss: 0.8430 - val_accuracy: 0.8544 - val_loss: 0.5954\n",
      "Epoch 16/30\n",
      "\u001b[1m469/469\u001b[0m \u001b[32m━━━━━━━━━━━━━━━━━━━━\u001b[0m\u001b[37m\u001b[0m \u001b[1m3s\u001b[0m 6ms/step - accuracy: 0.7571 - loss: 0.8022 - val_accuracy: 0.8602 - val_loss: 0.5612\n",
      "Epoch 17/30\n",
      "\u001b[1m469/469\u001b[0m \u001b[32m━━━━━━━━━━━━━━━━━━━━\u001b[0m\u001b[37m\u001b[0m \u001b[1m3s\u001b[0m 6ms/step - accuracy: 0.7652 - loss: 0.7692 - val_accuracy: 0.8659 - val_loss: 0.5333\n",
      "Epoch 18/30\n",
      "\u001b[1m469/469\u001b[0m \u001b[32m━━━━━━━━━━━━━━━━━━━━\u001b[0m\u001b[37m\u001b[0m \u001b[1m3s\u001b[0m 6ms/step - accuracy: 0.7734 - loss: 0.7415 - val_accuracy: 0.8716 - val_loss: 0.5091\n",
      "Epoch 19/30\n",
      "\u001b[1m469/469\u001b[0m \u001b[32m━━━━━━━━━━━━━━━━━━━━\u001b[0m\u001b[37m\u001b[0m \u001b[1m3s\u001b[0m 6ms/step - accuracy: 0.7811 - loss: 0.7144 - val_accuracy: 0.8752 - val_loss: 0.4890\n",
      "Epoch 20/30\n",
      "\u001b[1m469/469\u001b[0m \u001b[32m━━━━━━━━━━━━━━━━━━━━\u001b[0m\u001b[37m\u001b[0m \u001b[1m3s\u001b[0m 6ms/step - accuracy: 0.7899 - loss: 0.6864 - val_accuracy: 0.8790 - val_loss: 0.4706\n",
      "Epoch 21/30\n",
      "\u001b[1m469/469\u001b[0m \u001b[32m━━━━━━━━━━━━━━━━━━━━\u001b[0m\u001b[37m\u001b[0m \u001b[1m3s\u001b[0m 6ms/step - accuracy: 0.7962 - loss: 0.6735 - val_accuracy: 0.8812 - val_loss: 0.4559\n",
      "Epoch 22/30\n",
      "\u001b[1m469/469\u001b[0m \u001b[32m━━━━━━━━━━━━━━━━━━━━\u001b[0m\u001b[37m\u001b[0m \u001b[1m3s\u001b[0m 6ms/step - accuracy: 0.8007 - loss: 0.6507 - val_accuracy: 0.8838 - val_loss: 0.4418\n",
      "Epoch 23/30\n",
      "\u001b[1m469/469\u001b[0m \u001b[32m━━━━━━━━━━━━━━━━━━━━\u001b[0m\u001b[37m\u001b[0m \u001b[1m3s\u001b[0m 6ms/step - accuracy: 0.8031 - loss: 0.6364 - val_accuracy: 0.8860 - val_loss: 0.4297\n",
      "Epoch 24/30\n",
      "\u001b[1m469/469\u001b[0m \u001b[32m━━━━━━━━━━━━━━━━━━━━\u001b[0m\u001b[37m\u001b[0m \u001b[1m3s\u001b[0m 6ms/step - accuracy: 0.8098 - loss: 0.6207 - val_accuracy: 0.8890 - val_loss: 0.4182\n",
      "Epoch 25/30\n",
      "\u001b[1m469/469\u001b[0m \u001b[32m━━━━━━━━━━━━━━━━━━━━\u001b[0m\u001b[37m\u001b[0m \u001b[1m3s\u001b[0m 6ms/step - accuracy: 0.8139 - loss: 0.6051 - val_accuracy: 0.8901 - val_loss: 0.4081\n",
      "Epoch 26/30\n",
      "\u001b[1m469/469\u001b[0m \u001b[32m━━━━━━━━━━━━━━━━━━━━\u001b[0m\u001b[37m\u001b[0m \u001b[1m3s\u001b[0m 6ms/step - accuracy: 0.8182 - loss: 0.5946 - val_accuracy: 0.8920 - val_loss: 0.3989\n",
      "Epoch 27/30\n",
      "\u001b[1m469/469\u001b[0m \u001b[32m━━━━━━━━━━━━━━━━━━━━\u001b[0m\u001b[37m\u001b[0m \u001b[1m3s\u001b[0m 6ms/step - accuracy: 0.8216 - loss: 0.5805 - val_accuracy: 0.8941 - val_loss: 0.3906\n",
      "Epoch 28/30\n",
      "\u001b[1m469/469\u001b[0m \u001b[32m━━━━━━━━━━━━━━━━━━━━\u001b[0m\u001b[37m\u001b[0m \u001b[1m3s\u001b[0m 6ms/step - accuracy: 0.8238 - loss: 0.5736 - val_accuracy: 0.8965 - val_loss: 0.3825\n",
      "Epoch 29/30\n",
      "\u001b[1m469/469\u001b[0m \u001b[32m━━━━━━━━━━━━━━━━━━━━\u001b[0m\u001b[37m\u001b[0m \u001b[1m3s\u001b[0m 6ms/step - accuracy: 0.8309 - loss: 0.5592 - val_accuracy: 0.8988 - val_loss: 0.3754\n",
      "Epoch 30/30\n",
      "\u001b[1m469/469\u001b[0m \u001b[32m━━━━━━━━━━━━━━━━━━━━\u001b[0m\u001b[37m\u001b[0m \u001b[1m3s\u001b[0m 6ms/step - accuracy: 0.8324 - loss: 0.5520 - val_accuracy: 0.9005 - val_loss: 0.3691\n"
     ]
    },
    {
     "data": {
      "text/plain": [
       "<keras.src.callbacks.history.History at 0x7c65e4765590>"
      ]
     },
     "execution_count": 7,
     "metadata": {},
     "output_type": "execute_result"
    }
   ],
   "source": [
    "model.fit(x_train, y_train, batch_size= 128, epochs= 30, verbose= 1, validation_data= (x_test, y_test))"
   ]
  },
  {
   "cell_type": "code",
   "execution_count": 8,
   "id": "f1754f9f",
   "metadata": {
    "execution": {
     "iopub.execute_input": "2025-06-05T14:09:08.383296Z",
     "iopub.status.busy": "2025-06-05T14:09:08.382608Z",
     "iopub.status.idle": "2025-06-05T14:09:09.497555Z",
     "shell.execute_reply": "2025-06-05T14:09:09.496866Z"
    },
    "papermill": {
     "duration": 1.231285,
     "end_time": "2025-06-05T14:09:09.498712",
     "exception": false,
     "start_time": "2025-06-05T14:09:08.267427",
     "status": "completed"
    },
    "tags": []
   },
   "outputs": [
    {
     "name": "stdout",
     "output_type": "stream",
     "text": [
      "Test loss:  0.36913803219795227\n",
      "Test acc:  0.9004999995231628\n"
     ]
    }
   ],
   "source": [
    "score = model.evaluate(x_test, y_test, verbose= 0)\n",
    "print(\"Test loss: \", score[0])\n",
    "print(\"Test acc: \", score[1])"
   ]
  },
  {
   "cell_type": "code",
   "execution_count": 9,
   "id": "9b2cdc53",
   "metadata": {
    "execution": {
     "iopub.execute_input": "2025-06-05T14:09:09.632910Z",
     "iopub.status.busy": "2025-06-05T14:09:09.632640Z",
     "iopub.status.idle": "2025-06-05T14:09:09.690131Z",
     "shell.execute_reply": "2025-06-05T14:09:09.689348Z"
    },
    "papermill": {
     "duration": 0.125375,
     "end_time": "2025-06-05T14:09:09.691449",
     "exception": false,
     "start_time": "2025-06-05T14:09:09.566074",
     "status": "completed"
    },
    "tags": []
   },
   "outputs": [],
   "source": [
    "model.save(\"trained_model.h5\")"
   ]
  },
  {
   "cell_type": "code",
   "execution_count": null,
   "id": "f42e9337",
   "metadata": {
    "papermill": {
     "duration": 0.066504,
     "end_time": "2025-06-05T14:09:09.825538",
     "exception": false,
     "start_time": "2025-06-05T14:09:09.759034",
     "status": "completed"
    },
    "tags": []
   },
   "outputs": [],
   "source": []
  }
 ],
 "metadata": {
  "kaggle": {
   "accelerator": "nvidiaTeslaT4",
   "dataSources": [],
   "dockerImageVersionId": 31041,
   "isGpuEnabled": true,
   "isInternetEnabled": true,
   "language": "python",
   "sourceType": "notebook"
  },
  "kernelspec": {
   "display_name": "Python 3",
   "language": "python",
   "name": "python3"
  },
  "language_info": {
   "codemirror_mode": {
    "name": "ipython",
    "version": 3
   },
   "file_extension": ".py",
   "mimetype": "text/x-python",
   "name": "python",
   "nbconvert_exporter": "python",
   "pygments_lexer": "ipython3",
   "version": "3.11.11"
  },
  "papermill": {
   "default_parameters": {},
   "duration": 125.251758,
   "end_time": "2025-06-05T14:09:13.074411",
   "environment_variables": {},
   "exception": null,
   "input_path": "__notebook__.ipynb",
   "output_path": "__notebook__.ipynb",
   "parameters": {},
   "start_time": "2025-06-05T14:07:07.822653",
   "version": "2.6.0"
  }
 },
 "nbformat": 4,
 "nbformat_minor": 5
}
